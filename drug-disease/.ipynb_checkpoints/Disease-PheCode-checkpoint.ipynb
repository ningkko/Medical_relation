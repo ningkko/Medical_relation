{
 "cells": [
  {
   "cell_type": "code",
   "execution_count": 26,
   "metadata": {},
   "outputs": [],
   "source": [
    "import sys\n",
    "import os\n",
    "sys.path.insert(0, os.path.abspath('/Library/Frameworks/Python.framework/Versions/3.6/lib/python3.6/site-packages'))\n",
    "#sys.path\n"
   ]
  },
  {
   "cell_type": "markdown",
   "metadata": {},
   "source": [
    "## Match all excat terms\n",
    "1. unflatten other names of each disease and combine with disease name\n",
    "2. for each disease, check if any name matches the icd10 name of icd10 mapping\n",
    "3. keep track of how may codes are matched\n",
    "4. add a column of phecode in the drug-disease.csv file"
   ]
  },
  {
   "cell_type": "code",
   "execution_count": 2,
   "metadata": {},
   "outputs": [
    {
     "data": {
      "text/plain": [
       "Index(['Unnamed: 0', 'disease name', 'other names', 'RX/OTC', 'drug',\n",
       "       'generic name', 'drug class', 'brand names', 'pregnacy label',\n",
       "       'CSA label'],\n",
       "      dtype='object')"
      ]
     },
     "execution_count": 2,
     "metadata": {},
     "output_type": "execute_result"
    }
   ],
   "source": [
    "import pandas as pd\n",
    "import numpy as np\n",
    "\n",
    "df = pd.read_csv(\"drugs.com/drug_disease.csv\")\n",
    "df.columns\n"
   ]
  },
  {
   "cell_type": "code",
   "execution_count": 3,
   "metadata": {},
   "outputs": [
    {
     "name": "stdout",
     "output_type": "stream",
     "text": [
      "1508\n"
     ]
    },
    {
     "data": {
      "text/plain": [
       "[['abdominal distension', 'abdominal bloating', 'bloating', 'meteorism'],\n",
       " ['abdominal distension prior to abdominal x ray'],\n",
       " ['abdominal radiological procedure', 'abdominal radiological procedures'],\n",
       " ['abnormal uterine bleeding',\n",
       "  'bleeding dysfunctional uterine',\n",
       "  'dub',\n",
       "  'dysfunctional uterine bleeding'],\n",
       " ['abortion', 'complete abortion'],\n",
       " ['acetaminophen overdose', 'acetaminophen toxicity'],\n",
       " ['acidosis', 'acidosis lactic', 'acidosis respiratory'],\n",
       " ['acne',\n",
       "  'acne vulgaris',\n",
       "  'blackheads',\n",
       "  'breakouts',\n",
       "  'cystic acne',\n",
       "  'pimples',\n",
       "  'whiteheads',\n",
       "  'zits'],\n",
       " ['acne rosacea', 'acne rosacea'],\n",
       " ['acromegaly'],\n",
       " ['actinic keratosis'],\n",
       " ['actinomycosis', 'lumpy jaw'],\n",
       " ['acute coronary syndrome'],\n",
       " ['acute coronary syndrome prophylaxis'],\n",
       " ['acute gout'],\n",
       " ['acute lymphoblastic leukemia'],\n",
       " ['acute lymphocytic leukemia',\n",
       "  'acute childhood leukemia',\n",
       "  'all leukemia',\n",
       "  'cancer acute childhood leukemia',\n",
       "  'cancer acute lymphocytic leukemia',\n",
       "  'leukemia acute childhood',\n",
       "  'leukemia acute lymphocytic'],\n",
       " ['acute mountain sickness'],\n",
       " ['acute myeloblastic leukemia'],\n",
       " ['acute myeloid leukemia',\n",
       "  'acute granulocytic leukemia',\n",
       "  'acute myelogenous leukemia',\n",
       "  'aml',\n",
       "  'cancer acute granulocytic leukemia',\n",
       "  'cancer acute myelogenous leukemia',\n",
       "  'cancer acute myeloid leukemia',\n",
       "  'leukemia acute granulocytic',\n",
       "  'leukemia acute myelogenous',\n",
       "  'leukemia acute myeloid']]"
      ]
     },
     "execution_count": 3,
     "metadata": {},
     "output_type": "execute_result"
    }
   ],
   "source": [
    "import ast\n",
    "import numpy as np\n",
    "\n",
    "all_names = []\n",
    "\n",
    "other_names = df[\"other names\"].apply(lambda x: x.lower()).to_list()\n",
    "\n",
    "name = df[\"disease name\"].apply(lambda x: x.lower()).to_list()\n",
    "\n",
    "for i in range((len(name))):\n",
    "    new_line = []\n",
    "    new_line.append(name[i])\n",
    "    other_names_list = ast.literal_eval(other_names[i])\n",
    "    cleaned_other_names = []\n",
    "    if other_names_list:\n",
    "        other = other_names_list[0].split(';')\n",
    "        for o in other:\n",
    "            o = o.lstrip().rstrip().replace(\",\", \"\")\n",
    "            cleaned_other_names.append(o)\n",
    "    new_line += cleaned_other_names\n",
    "    all_names.append(new_line)\n",
    "    \n",
    "all_names = list(np.unique(np.array(all_names)))\n",
    "print(len(all_names))\n",
    "all_names[:20]\n"
   ]
  },
  {
   "cell_type": "code",
   "execution_count": 13,
   "metadata": {},
   "outputs": [
    {
     "data": {
      "text/html": [
       "<div>\n",
       "<style scoped>\n",
       "    .dataframe tbody tr th:only-of-type {\n",
       "        vertical-align: middle;\n",
       "    }\n",
       "\n",
       "    .dataframe tbody tr th {\n",
       "        vertical-align: top;\n",
       "    }\n",
       "\n",
       "    .dataframe thead th {\n",
       "        text-align: right;\n",
       "    }\n",
       "</style>\n",
       "<table border=\"1\" class=\"dataframe\">\n",
       "  <thead>\n",
       "    <tr style=\"text-align: right;\">\n",
       "      <th></th>\n",
       "      <th>icd10cm</th>\n",
       "      <th>icd10cm_str</th>\n",
       "      <th>phecode</th>\n",
       "      <th>phecode_str</th>\n",
       "      <th>version</th>\n",
       "    </tr>\n",
       "  </thead>\n",
       "  <tbody>\n",
       "    <tr>\n",
       "      <th>0</th>\n",
       "      <td>001</td>\n",
       "      <td>Cholera</td>\n",
       "      <td>008</td>\n",
       "      <td>Intestinal infection</td>\n",
       "      <td>9</td>\n",
       "    </tr>\n",
       "    <tr>\n",
       "      <th>1</th>\n",
       "      <td>001.0</td>\n",
       "      <td>Cholera due to Vibrio cholerae</td>\n",
       "      <td>008</td>\n",
       "      <td>Intestinal infection</td>\n",
       "      <td>9</td>\n",
       "    </tr>\n",
       "    <tr>\n",
       "      <th>2</th>\n",
       "      <td>001.1</td>\n",
       "      <td>Cholera due to Vibrio cholerae el tor</td>\n",
       "      <td>008</td>\n",
       "      <td>Intestinal infection</td>\n",
       "      <td>9</td>\n",
       "    </tr>\n",
       "    <tr>\n",
       "      <th>3</th>\n",
       "      <td>001.9</td>\n",
       "      <td>Cholera NOS</td>\n",
       "      <td>008</td>\n",
       "      <td>Intestinal infection</td>\n",
       "      <td>9</td>\n",
       "    </tr>\n",
       "    <tr>\n",
       "      <th>4</th>\n",
       "      <td>002</td>\n",
       "      <td>Typhoid and paratyphoid fevers</td>\n",
       "      <td>008</td>\n",
       "      <td>Intestinal infection</td>\n",
       "      <td>9</td>\n",
       "    </tr>\n",
       "    <tr>\n",
       "      <th>5</th>\n",
       "      <td>002.0</td>\n",
       "      <td>Typhoid fever</td>\n",
       "      <td>008.5</td>\n",
       "      <td>Bacterial enteritis</td>\n",
       "      <td>9</td>\n",
       "    </tr>\n",
       "    <tr>\n",
       "      <th>6</th>\n",
       "      <td>002.1</td>\n",
       "      <td>Paratyphoid fever A</td>\n",
       "      <td>008</td>\n",
       "      <td>Intestinal infection</td>\n",
       "      <td>9</td>\n",
       "    </tr>\n",
       "    <tr>\n",
       "      <th>7</th>\n",
       "      <td>002.2</td>\n",
       "      <td>Paratyphoid fever B</td>\n",
       "      <td>008</td>\n",
       "      <td>Intestinal infection</td>\n",
       "      <td>9</td>\n",
       "    </tr>\n",
       "    <tr>\n",
       "      <th>8</th>\n",
       "      <td>002.3</td>\n",
       "      <td>Paratyphoid fever C</td>\n",
       "      <td>008</td>\n",
       "      <td>Intestinal infection</td>\n",
       "      <td>9</td>\n",
       "    </tr>\n",
       "    <tr>\n",
       "      <th>9</th>\n",
       "      <td>002.9</td>\n",
       "      <td>Paratyphoid fever NOS</td>\n",
       "      <td>008</td>\n",
       "      <td>Intestinal infection</td>\n",
       "      <td>9</td>\n",
       "    </tr>\n",
       "  </tbody>\n",
       "</table>\n",
       "</div>"
      ],
      "text/plain": [
       "  icd10cm                            icd10cm_str phecode  \\\n",
       "0     001                                Cholera     008   \n",
       "1   001.0         Cholera due to Vibrio cholerae     008   \n",
       "2   001.1  Cholera due to Vibrio cholerae el tor     008   \n",
       "3   001.9                            Cholera NOS     008   \n",
       "4     002         Typhoid and paratyphoid fevers     008   \n",
       "5   002.0                          Typhoid fever   008.5   \n",
       "6   002.1                    Paratyphoid fever A     008   \n",
       "7   002.2                    Paratyphoid fever B     008   \n",
       "8   002.3                    Paratyphoid fever C     008   \n",
       "9   002.9                  Paratyphoid fever NOS     008   \n",
       "\n",
       "            phecode_str version  \n",
       "0  Intestinal infection       9  \n",
       "1  Intestinal infection       9  \n",
       "2  Intestinal infection       9  \n",
       "3  Intestinal infection       9  \n",
       "4  Intestinal infection       9  \n",
       "5   Bacterial enteritis       9  \n",
       "6  Intestinal infection       9  \n",
       "7  Intestinal infection       9  \n",
       "8  Intestinal infection       9  \n",
       "9  Intestinal infection       9  "
      ]
     },
     "execution_count": 13,
     "metadata": {},
     "output_type": "execute_result"
    }
   ],
   "source": [
    "# create a dictionary from icd code\n",
    "icd_df = pd.read_csv(\"mapping data/icd_merged_result.csv\", encoding = \"latin\", dtype=\"str\")\n",
    "icd_df[:10]"
   ]
  },
  {
   "cell_type": "code",
   "execution_count": 14,
   "metadata": {},
   "outputs": [
    {
     "data": {
      "text/plain": [
       "'008'"
      ]
     },
     "execution_count": 14,
     "metadata": {},
     "output_type": "execute_result"
    }
   ],
   "source": [
    "icd10_str = icd_df[\"icd10cm_str\"].apply(lambda x: x.lower()).to_list()\n",
    "phecode = icd_df[\"phecode\"].to_list()\n",
    "icd_phecode_dict = dict(zip(icd10_str, phecode)) \n",
    "\n",
    "icd_phecode_dict[\"cholera\"]"
   ]
  },
  {
   "cell_type": "code",
   "execution_count": 15,
   "metadata": {},
   "outputs": [],
   "source": [
    "def _unique(l):\n",
    "    return list(np.unique(np.array(l)))"
   ]
  },
  {
   "cell_type": "code",
   "execution_count": 16,
   "metadata": {},
   "outputs": [
    {
     "name": "stdout",
     "output_type": "stream",
     "text": [
      "39\n",
      "50\n",
      "76\n",
      "95\n",
      "117\n",
      "262\n",
      "436\n",
      "494\n",
      "523\n",
      "548\n",
      "574\n",
      "687\n",
      "885\n",
      "1036\n",
      "1085\n",
      "1179\n",
      "1290\n",
      "1358\n"
     ]
    }
   ],
   "source": [
    "mapped_num = 0\n",
    "# map our data\n",
    "phecodes = []\n",
    "i = 0 \n",
    "for disease in all_names:\n",
    "    cur_phecodes = []\n",
    "    for name in disease:\n",
    "        if name in icd_phecode_dict:\n",
    "             cur_phecodes.append(icd_phecode_dict[name])\n",
    "    cur_phecodes = _unique(cur_phecodes)\n",
    "    \n",
    "    if len(cur_phecodes) > 0:\n",
    "        mapped_num += 1\n",
    "    if len(cur_phecodes) >1:\n",
    "        print(i)\n",
    "        \n",
    "    phecodes.append(cur_phecodes)\n",
    "    i += 1\n"
   ]
  },
  {
   "cell_type": "code",
   "execution_count": 17,
   "metadata": {},
   "outputs": [
    {
     "data": {
      "text/plain": [
       "['headache', 'tension headache']"
      ]
     },
     "execution_count": 17,
     "metadata": {},
     "output_type": "execute_result"
    }
   ],
   "source": [
    "all_names[574]"
   ]
  },
  {
   "cell_type": "code",
   "execution_count": 18,
   "metadata": {},
   "outputs": [
    {
     "data": {
      "text/plain": [
       "'339'"
      ]
     },
     "execution_count": 18,
     "metadata": {},
     "output_type": "execute_result"
    }
   ],
   "source": [
    "icd_phecode_dict['headache']"
   ]
  },
  {
   "cell_type": "code",
   "execution_count": 19,
   "metadata": {},
   "outputs": [
    {
     "data": {
      "text/plain": [
       "'306.9'"
      ]
     },
     "execution_count": 19,
     "metadata": {},
     "output_type": "execute_result"
    }
   ],
   "source": [
    "icd_phecode_dict['tension headache']"
   ]
  },
  {
   "cell_type": "code",
   "execution_count": 20,
   "metadata": {},
   "outputs": [
    {
     "data": {
      "text/plain": [
       "[[],\n",
       " [],\n",
       " [],\n",
       " [],\n",
       " [],\n",
       " [],\n",
       " ['276.41'],\n",
       " ['706.1'],\n",
       " [],\n",
       " [],\n",
       " ['702.1'],\n",
       " ['041'],\n",
       " [],\n",
       " [],\n",
       " [],\n",
       " [],\n",
       " [],\n",
       " [],\n",
       " ['204.21'],\n",
       " [],\n",
       " [],\n",
       " [],\n",
       " ['204.21'],\n",
       " [],\n",
       " ['255.21'],\n",
       " [],\n",
       " [],\n",
       " [],\n",
       " [],\n",
       " [],\n",
       " [],\n",
       " [],\n",
       " [],\n",
       " [],\n",
       " [],\n",
       " [],\n",
       " ['300.12'],\n",
       " [],\n",
       " ['317'],\n",
       " ['290.2', '317.1'],\n",
       " ['317.11'],\n",
       " [],\n",
       " ['276.42'],\n",
       " [],\n",
       " [],\n",
       " [],\n",
       " [],\n",
       " ['476'],\n",
       " ['947'],\n",
       " []]"
      ]
     },
     "execution_count": 20,
     "metadata": {},
     "output_type": "execute_result"
    }
   ],
   "source": [
    "phecodes[:50]"
   ]
  },
  {
   "cell_type": "code",
   "execution_count": 21,
   "metadata": {},
   "outputs": [
    {
     "data": {
      "text/plain": [
       "0.2625994694960212"
      ]
     },
     "execution_count": 21,
     "metadata": {},
     "output_type": "execute_result"
    }
   ],
   "source": [
    "mapped_percentage = mapped_num/len(all_names)\n",
    "mapped_percentage"
   ]
  },
  {
   "cell_type": "markdown",
   "metadata": {},
   "source": [
    "## Fuzzy Matching\n",
    "1. Split each string of disease (term) in the icd-10 map and in my csv (to lists)\n",
    "    Splitting needed because 'type a' should be very different from 'type b'\n",
    "2. For each string in each list, Stem / lemmatize it\n",
    "3. Map the csv list with the icd-10 list by individual strings, calculate a score for each mapping string, add them up to be the score of a term\n",
    "4. set a threshold, and adopt mappings w/ scores above that threshold.\n",
    "5. quality control: check with excat match to see what percentage is different."
   ]
  },
  {
   "cell_type": "code",
   "execution_count": 22,
   "metadata": {},
   "outputs": [],
   "source": [
    "from nltk.stem import PorterStemmer\n",
    "from nltk.tokenize import word_tokenize\n",
    "ps = PorterStemmer()"
   ]
  },
  {
   "cell_type": "code",
   "execution_count": 23,
   "metadata": {},
   "outputs": [
    {
     "data": {
      "text/plain": [
       "[['abdomin distens', 'abdomin bloat', 'bloat', 'meteor'],\n",
       " ['abdomin distens prior to abdomin x ray'],\n",
       " ['abdomin radiolog procedur', 'abdomin radiolog procedur'],\n",
       " ['abnorm uterin bleed',\n",
       "  'bleed dysfunct uterin',\n",
       "  'dub',\n",
       "  'dysfunct uterin bleed'],\n",
       " ['abort', 'complet abort'],\n",
       " ['acetaminophen overdos', 'acetaminophen toxic'],\n",
       " ['acidosi', 'acidosi lactic', 'acidosi respiratori'],\n",
       " ['acn',\n",
       "  'acn vulgari',\n",
       "  'blackhead',\n",
       "  'breakout',\n",
       "  'cystic acn',\n",
       "  'pimpl',\n",
       "  'whitehead',\n",
       "  'zit'],\n",
       " ['acn rosacea', 'acn rosacea'],\n",
       " ['acromegali']]"
      ]
     },
     "execution_count": 23,
     "metadata": {},
     "output_type": "execute_result"
    }
   ],
   "source": [
    "all_names_stemmed = []\n",
    "for disease in all_names:\n",
    "    disease_split = []\n",
    "    for names in disease:\n",
    "        name_list = names.split(\" \")\n",
    "\n",
    "        # stem them\n",
    "        stemmed_name_list = []\n",
    "        for name in name_list:\n",
    "            stemmed_name_list.append(ps.stem(name))\n",
    "        disease_split.append(\" \".join(stemmed_name_list))\n",
    "\n",
    "    all_names_stemmed.append(disease_split)\n",
    "\n",
    "all_names_stemmed[:10]"
   ]
  },
  {
   "cell_type": "code",
   "execution_count": 24,
   "metadata": {
    "pycharm": {
     "name": "#%%\n"
    }
   },
   "outputs": [
    {
     "data": {
      "text/plain": [
       "['cholera',\n",
       " 'cholera due to vibrio cholerae',\n",
       " 'cholera due to vibrio cholerae el tor',\n",
       " 'cholera nos',\n",
       " 'typhoid and paratyphoid fevers',\n",
       " 'typhoid fever',\n",
       " 'paratyphoid fever a',\n",
       " 'paratyphoid fever b',\n",
       " 'paratyphoid fever c',\n",
       " 'paratyphoid fever nos']"
      ]
     },
     "execution_count": 24,
     "metadata": {},
     "output_type": "execute_result"
    }
   ],
   "source": [
    "icd10_str_stemmed = []\n",
    "for disease in icd10_str:\n",
    "    disease_split = disease.split(\" \")\n",
    "    stemmed_disease_split = []\n",
    "    for d in disease_split:\n",
    "        stemmed_disease_split.append(ps.stem(d))\n",
    "    icd10_str_stemmed.append(\" \".join(disease_split))\n",
    "icd10_str_stemmed[:10]"
   ]
  },
  {
   "cell_type": "markdown",
   "metadata": {
    "pycharm": {
     "name": "#%% md\n"
    }
   },
   "source": [
    "### The approach would not work in that it still could not differentiate  'paratyphoid fever a' from 'paratyphoid fever b'.\n",
    "It might match more terms, but would allow too much potential error.\n",
    "In general, levenshtein distance calculated fuzzy match would not work."
   ]
  },
  {
   "cell_type": "code",
   "execution_count": 27,
   "metadata": {
    "pycharm": {
     "name": "#%%\n"
    }
   },
   "outputs": [
    {
     "name": "stderr",
     "output_type": "stream",
     "text": [
      "/Library/Frameworks/Python.framework/Versions/3.6/lib/python3.6/site-packages/fuzzywuzzy/fuzz.py:11: UserWarning: Using slow pure-python SequenceMatcher. Install python-Levenshtein to remove this warning\n",
      "  warnings.warn('Using slow pure-python SequenceMatcher. Install python-Levenshtein to remove this warning')\n"
     ]
    },
    {
     "data": {
      "text/plain": [
       "78"
      ]
     },
     "execution_count": 27,
     "metadata": {},
     "output_type": "execute_result"
    }
   ],
   "source": [
    "from fuzzywuzzy import fuzz\n",
    "from fuzzywuzzy import process\n",
    "\n",
    "fuzz.ratio('cholera nos', \"cholera\")"
   ]
  },
  {
   "cell_type": "code",
   "execution_count": 28,
   "metadata": {
    "pycharm": {
     "name": "#%%\n"
    }
   },
   "outputs": [
    {
     "data": {
      "text/plain": [
       "95"
      ]
     },
     "execution_count": 28,
     "metadata": {},
     "output_type": "execute_result"
    }
   ],
   "source": [
    "fuzz.ratio('paratyphoid fever a', 'paratyphoid fever b')\n",
    "\n"
   ]
  },
  {
   "cell_type": "markdown",
   "metadata": {
    "pycharm": {
     "name": "#%% md\n"
    }
   },
   "source": [
    "### Check stemming"
   ]
  },
  {
   "cell_type": "code",
   "execution_count": 29,
   "metadata": {
    "pycharm": {
     "name": "#%%\n"
    }
   },
   "outputs": [],
   "source": [
    "icd_phecode_dict_stemmed = dict(zip(icd10_str_stemmed, phecode))\n"
   ]
  },
  {
   "cell_type": "code",
   "execution_count": 30,
   "metadata": {
    "pycharm": {
     "name": "#%%\n"
    }
   },
   "outputs": [
    {
     "data": {
      "text/plain": [
       "'339'"
      ]
     },
     "execution_count": 30,
     "metadata": {},
     "output_type": "execute_result"
    }
   ],
   "source": [
    "icd_phecode_dict_stemmed[\"headache\"]"
   ]
  },
  {
   "cell_type": "code",
   "execution_count": 31,
   "metadata": {
    "pycharm": {
     "name": "#%%\n"
    }
   },
   "outputs": [
    {
     "name": "stdout",
     "output_type": "stream",
     "text": [
      "50\n"
     ]
    }
   ],
   "source": [
    "mapped_num_stemmed = 0\n",
    "# map our data\n",
    "phecodes_stemmed = []\n",
    "i = 0\n",
    "for disease in all_names_stemmed:\n",
    "    cur_phecodes = []\n",
    "    for name in disease:\n",
    "        if name in icd_phecode_dict_stemmed:\n",
    "             cur_phecodes.append(icd_phecode_dict_stemmed[name])\n",
    "    cur_phecodes = _unique(cur_phecodes)\n",
    "\n",
    "    if len(cur_phecodes) > 0:\n",
    "        mapped_num_stemmed += 1\n",
    "    if len(cur_phecodes) >1:\n",
    "        print(i)\n",
    "        phecodes_stemmed\n",
    "    phecodes.append(cur_phecodes)\n",
    "    i += 1\n"
   ]
  },
  {
   "cell_type": "code",
   "execution_count": 32,
   "metadata": {
    "pycharm": {
     "name": "#%%\n"
    }
   },
   "outputs": [
    {
     "data": {
      "text/plain": [
       "0.2625994694960212"
      ]
     },
     "execution_count": 32,
     "metadata": {},
     "output_type": "execute_result"
    }
   ],
   "source": [
    "mapped_percentage_stemmed = mapped_num/len(all_names_stemmed)\n",
    "mapped_percentage_stemmed\n",
    "\n"
   ]
  },
  {
   "cell_type": "code",
   "execution_count": null,
   "metadata": {
    "pycharm": {
     "name": "#%%\n"
    }
   },
   "outputs": [],
   "source": [
    "\n"
   ]
  },
  {
   "cell_type": "code",
   "execution_count": null,
   "metadata": {},
   "outputs": [],
   "source": []
  }
 ],
 "metadata": {
  "kernelspec": {
   "display_name": "Python 3",
   "language": "python",
   "name": "python3"
  },
  "language_info": {
   "codemirror_mode": {
    "name": "ipython",
    "version": 3
   },
   "file_extension": ".py",
   "mimetype": "text/x-python",
   "name": "python",
   "nbconvert_exporter": "python",
   "pygments_lexer": "ipython3",
   "version": "3.7.6"
  }
 },
 "nbformat": 4,
 "nbformat_minor": 4
}
