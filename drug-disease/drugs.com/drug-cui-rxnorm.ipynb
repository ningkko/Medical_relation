{
 "cells": [
  {
   "cell_type": "code",
   "execution_count": 58,
   "metadata": {
    "collapsed": true
   },
   "outputs": [],
   "source": [
    "import pandas as pd"
   ]
  },
  {
   "cell_type": "markdown",
   "source": [
    "### Disease -> CUI"
   ],
   "metadata": {
    "collapsed": false,
    "pycharm": {
     "name": "#%% md\n"
    }
   }
  },
  {
   "cell_type": "code",
   "execution_count": 2,
   "outputs": [
    {
     "name": "stderr",
     "output_type": "stream",
     "text": [
      "/Users/neneko/Documents/GitHub/PubHealthData/drug-disease/venv/lib/python3.7/site-packages/IPython/core/interactiveshell.py:3063: DtypeWarning: Columns (2) have mixed types.Specify dtype option on import or set low_memory=False.\n",
      "  interactivity=interactivity, compiler=compiler, result=result)\n"
     ]
    }
   ],
   "source": [
    "broad_dict_raw = pd.read_csv(\"../mapping data/broad_new_full_dict.txt\", sep=\"|\", header=None)\n",
    "\n",
    "# names columns for extracting\n",
    "broad_dict_raw.columns = [\"name\",\"1\",'2',\"cui\",'4','5']"
   ],
   "metadata": {
    "collapsed": false,
    "pycharm": {
     "name": "#%%\n"
    }
   }
  },
  {
   "cell_type": "code",
   "execution_count": 3,
   "outputs": [
    {
     "data": {
      "text/plain": "                               name    1  2       cui  \\\n0   Dipalmitoyl Phosphatidylcholine  2.0  2  C0000039   \n1  Dipalmitoylglycerophosphocholine  2.0  2  C0000039   \n2               Dipalmitoyllecithin  2.0  2  C0000039   \n3                  Branching Enzyme  3.0  3  C0000052   \n4     Branching Glycosyltransferase  3.0  3  C0000052   \n5           Starch Branching Enzyme  3.0  3  C0000052   \n6      1 Alkyl 2 Acylphosphatidates  4.0  4  C0000074   \n7      1-Alkyl-2-Acylphosphatidates  4.0  4  C0000074   \n8            1 Carboxyglutamic Acid  5.0  5  C0000084   \n9            1-Carboxyglutamic Acid  5.0  5  C0000084   \n\n                                 4     5  \n0          Pharmacologic Substance  CHEM  \n1          Pharmacologic Substance  CHEM  \n2          Pharmacologic Substance  CHEM  \n3  Amino Acid, Peptide, or Protein  CHEM  \n4  Amino Acid, Peptide, or Protein  CHEM  \n5  Amino Acid, Peptide, or Protein  CHEM  \n6                            Lipid  CHEM  \n7                            Lipid  CHEM  \n8    Biologically Active Substance  CHEM  \n9    Biologically Active Substance  CHEM  ",
      "text/html": "<div>\n<style scoped>\n    .dataframe tbody tr th:only-of-type {\n        vertical-align: middle;\n    }\n\n    .dataframe tbody tr th {\n        vertical-align: top;\n    }\n\n    .dataframe thead th {\n        text-align: right;\n    }\n</style>\n<table border=\"1\" class=\"dataframe\">\n  <thead>\n    <tr style=\"text-align: right;\">\n      <th></th>\n      <th>name</th>\n      <th>1</th>\n      <th>2</th>\n      <th>cui</th>\n      <th>4</th>\n      <th>5</th>\n    </tr>\n  </thead>\n  <tbody>\n    <tr>\n      <th>0</th>\n      <td>Dipalmitoyl Phosphatidylcholine</td>\n      <td>2.0</td>\n      <td>2</td>\n      <td>C0000039</td>\n      <td>Pharmacologic Substance</td>\n      <td>CHEM</td>\n    </tr>\n    <tr>\n      <th>1</th>\n      <td>Dipalmitoylglycerophosphocholine</td>\n      <td>2.0</td>\n      <td>2</td>\n      <td>C0000039</td>\n      <td>Pharmacologic Substance</td>\n      <td>CHEM</td>\n    </tr>\n    <tr>\n      <th>2</th>\n      <td>Dipalmitoyllecithin</td>\n      <td>2.0</td>\n      <td>2</td>\n      <td>C0000039</td>\n      <td>Pharmacologic Substance</td>\n      <td>CHEM</td>\n    </tr>\n    <tr>\n      <th>3</th>\n      <td>Branching Enzyme</td>\n      <td>3.0</td>\n      <td>3</td>\n      <td>C0000052</td>\n      <td>Amino Acid, Peptide, or Protein</td>\n      <td>CHEM</td>\n    </tr>\n    <tr>\n      <th>4</th>\n      <td>Branching Glycosyltransferase</td>\n      <td>3.0</td>\n      <td>3</td>\n      <td>C0000052</td>\n      <td>Amino Acid, Peptide, or Protein</td>\n      <td>CHEM</td>\n    </tr>\n    <tr>\n      <th>5</th>\n      <td>Starch Branching Enzyme</td>\n      <td>3.0</td>\n      <td>3</td>\n      <td>C0000052</td>\n      <td>Amino Acid, Peptide, or Protein</td>\n      <td>CHEM</td>\n    </tr>\n    <tr>\n      <th>6</th>\n      <td>1 Alkyl 2 Acylphosphatidates</td>\n      <td>4.0</td>\n      <td>4</td>\n      <td>C0000074</td>\n      <td>Lipid</td>\n      <td>CHEM</td>\n    </tr>\n    <tr>\n      <th>7</th>\n      <td>1-Alkyl-2-Acylphosphatidates</td>\n      <td>4.0</td>\n      <td>4</td>\n      <td>C0000074</td>\n      <td>Lipid</td>\n      <td>CHEM</td>\n    </tr>\n    <tr>\n      <th>8</th>\n      <td>1 Carboxyglutamic Acid</td>\n      <td>5.0</td>\n      <td>5</td>\n      <td>C0000084</td>\n      <td>Biologically Active Substance</td>\n      <td>CHEM</td>\n    </tr>\n    <tr>\n      <th>9</th>\n      <td>1-Carboxyglutamic Acid</td>\n      <td>5.0</td>\n      <td>5</td>\n      <td>C0000084</td>\n      <td>Biologically Active Substance</td>\n      <td>CHEM</td>\n    </tr>\n  </tbody>\n</table>\n</div>"
     },
     "execution_count": 3,
     "metadata": {},
     "output_type": "execute_result"
    }
   ],
   "source": [
    "broad_dict_raw[:10]"
   ],
   "metadata": {
    "collapsed": false,
    "pycharm": {
     "name": "#%%\n"
    }
   }
  },
  {
   "cell_type": "code",
   "execution_count": 4,
   "outputs": [
    {
     "data": {
      "text/plain": "9000             Suffocations\n9001                 asphyxia\n9002          Suffocation NOS\n9003             asphyxiation\n9004              suffocating\n                ...          \n9095    Association Learnings\n9096              Asta C 4898\n9097           Astasia Abasia\n9098        Hysterical ataxia\n9099           astasia-abasia\nName: name, Length: 100, dtype: object"
     },
     "execution_count": 4,
     "metadata": {},
     "output_type": "execute_result"
    }
   ],
   "source": [
    "broad_dict_raw[\"name\"][9000:9100]"
   ],
   "metadata": {
    "collapsed": false,
    "pycharm": {
     "name": "#%%\n"
    }
   }
  },
  {
   "cell_type": "code",
   "execution_count": 5,
   "outputs": [],
   "source": [
    "# create string - CUI pairs\n",
    "disease_name = broad_dict_raw[\"name\"].apply(lambda x: x.lower().replace(\",\",\"\").replace(\" / \", \"/\") if type(x) == str else \"\")\n",
    "cui = broad_dict_raw[\"cui\"].apply(lambda x: x.replace(\";\", \"|\"))\n",
    "str_cui_dic = dict(zip(disease_name,cui))"
   ],
   "metadata": {
    "collapsed": false,
    "pycharm": {
     "name": "#%%\n"
    }
   }
  },
  {
   "cell_type": "code",
   "execution_count": 6,
   "outputs": [
    {
     "data": {
      "text/plain": "0     dipalmitoyl phosphatidylcholine\n1    dipalmitoylglycerophosphocholine\n2                 dipalmitoyllecithin\n3                    branching enzyme\n4       branching glycosyltransferase\n5             starch branching enzyme\n6        1 alkyl 2 acylphosphatidates\n7        1-alkyl-2-acylphosphatidates\n8              1 carboxyglutamic acid\n9              1-carboxyglutamic acid\nName: name, dtype: object"
     },
     "execution_count": 6,
     "metadata": {},
     "output_type": "execute_result"
    }
   ],
   "source": [
    "disease_name[:10]"
   ],
   "metadata": {
    "collapsed": false,
    "pycharm": {
     "name": "#%%\n"
    }
   }
  },
  {
   "cell_type": "code",
   "execution_count": 7,
   "outputs": [
    {
     "data": {
      "text/plain": "0    C0000039\n1    C0000039\n2    C0000039\n3    C0000052\n4    C0000052\n5    C0000052\n6    C0000074\n7    C0000074\n8    C0000084\n9    C0000084\nName: cui, dtype: object"
     },
     "execution_count": 7,
     "metadata": {},
     "output_type": "execute_result"
    }
   ],
   "source": [
    "cui[:10]\n",
    "# multiple strings might map to the same CUI"
   ],
   "metadata": {
    "collapsed": false,
    "pycharm": {
     "name": "#%%\n"
    }
   }
  },
  {
   "cell_type": "code",
   "execution_count": 8,
   "outputs": [],
   "source": [
    "import numpy as np\n",
    "df = pd.read_csv(\"output/drug_disease.csv\").replace(np.nan, '', regex=True)\n",
    "df_rx = df[df[\"RX/OTC\"] != 'otc']\n"
   ],
   "metadata": {
    "collapsed": false,
    "pycharm": {
     "name": "#%%\n"
    }
   }
  },
  {
   "cell_type": "code",
   "execution_count": 9,
   "outputs": [],
   "source": [
    "def _clean_generic_name(x):\n",
    "\n",
    "    x = x.replace(\" )\",\"\")\n",
    "    x = x.replace(\"|and \",\"/\")\n",
    "\n",
    "    return x\n"
   ],
   "metadata": {
    "collapsed": false,
    "pycharm": {
     "name": "#%%\n"
    }
   }
  },
  {
   "cell_type": "code",
   "execution_count": 10,
   "outputs": [],
   "source": [
    "generic_names = df_rx[\"generic name\"].apply(lambda x: _clean_generic_name(x))\n",
    "brand_names = df_rx[\"brand names\"]"
   ],
   "metadata": {
    "collapsed": false,
    "pycharm": {
     "name": "#%%\n"
    }
   }
  },
  {
   "cell_type": "code",
   "execution_count": 11,
   "outputs": [
    {
     "data": {
      "text/plain": "0             vasopressin\n1             vasopressin\n2             bethanechol\n3             bethanechol\n4             bethanechol\n7             vasopressin\n8     medroxyprogesterone\n9                        \n10    medroxyprogesterone\n11          norethindrone\nName: generic name, dtype: object"
     },
     "execution_count": 11,
     "metadata": {},
     "output_type": "execute_result"
    }
   ],
   "source": [
    "generic_names[:10]"
   ],
   "metadata": {
    "collapsed": false,
    "pycharm": {
     "name": "#%%\n"
    }
   }
  },
  {
   "cell_type": "code",
   "execution_count": 12,
   "outputs": [
    {
     "data": {
      "text/plain": "0                                  vasostrict|pitressin\n1                                            vasostrict\n2                                     duvoid|urecholine\n3                                     duvoid|urecholine\n4                                     duvoid|urecholine\n7                                  vasostrict|pitressin\n8                                                      \n9                                                      \n10                                              provera\n11    aygestin|camila|errin|jolivette|nora-be|ortho ...\nName: brand names, dtype: object"
     },
     "execution_count": 12,
     "metadata": {},
     "output_type": "execute_result"
    }
   ],
   "source": [
    "brand_names[:10]"
   ],
   "metadata": {
    "collapsed": false,
    "pycharm": {
     "name": "#%%\n"
    }
   }
  },
  {
   "cell_type": "code",
   "execution_count": 13,
   "outputs": [],
   "source": [
    "def _unique(lst):\n",
    "    '''returns a list with unique values'''\n",
    "    return list(np.unique(np.array(lst)))"
   ],
   "metadata": {
    "collapsed": false,
    "pycharm": {
     "name": "#%%\n"
    }
   }
  },
  {
   "cell_type": "code",
   "execution_count": 14,
   "outputs": [
    {
     "data": {
      "text/plain": "1994"
     },
     "execution_count": 14,
     "metadata": {},
     "output_type": "execute_result"
    }
   ],
   "source": [
    "generic_names_unique = generic_names\n",
    "generic_names_unique = _unique(generic_names)\n",
    "generic_names_unique.remove(\"\")\n",
    "len(generic_names_unique)"
   ],
   "metadata": {
    "collapsed": false,
    "pycharm": {
     "name": "#%%\n"
    }
   }
  },
  {
   "cell_type": "code",
   "execution_count": 15,
   "outputs": [],
   "source": [
    "generic_missing_terms_dict = {}"
   ],
   "metadata": {
    "collapsed": false,
    "pycharm": {
     "name": "#%%\n"
    }
   }
  },
  {
   "cell_type": "code",
   "execution_count": 16,
   "outputs": [],
   "source": [
    "mapped_num = 0\n",
    "# map our data\n",
    "cui_codes_list_gen = []\n",
    "prev_gen_name_set = []\n",
    "\n",
    "# keep track of what is not found\n",
    "missed_generic_names = []\n",
    "i = 0\n",
    "for name in generic_names:\n",
    "\n",
    "    cur_cuis = []\n",
    "    if name in generic_missing_terms_dict:\n",
    "        cur_cuis.append(generic_missing_terms_dict[name])\n",
    "\n",
    "    # name = name.replace(\" prophylaxis\", \"\")\n",
    "    # name = name.replace(\" human\",\"\").replace(\"human\", \"\")\n",
    "\n",
    "    if name in str_cui_dic:\n",
    "         cur_cuis.append(str_cui_dic[name])\n",
    "\n",
    "    cur_cuis = _unique(cur_cuis)\n",
    "\n",
    "    if name not in prev_gen_name_set:\n",
    "        if len(cur_cuis) > 0:\n",
    "            mapped_num += 1\n",
    "        else:\n",
    "            missed_generic_names.append(name)\n",
    "        prev_gen_name_set.append(name)\n",
    "\n",
    "    cui_codes_list_gen.append(\"|\".join(cur_cuis))\n",
    "    i += 1"
   ],
   "metadata": {
    "collapsed": false,
    "pycharm": {
     "name": "#%%\n"
    }
   }
  },
  {
   "cell_type": "code",
   "execution_count": 17,
   "outputs": [
    {
     "data": {
      "text/plain": "0.7286860581745236"
     },
     "execution_count": 17,
     "metadata": {},
     "output_type": "execute_result"
    }
   ],
   "source": [
    "mapping_rate_str2rxn_generic = mapped_num/len(generic_names_unique)\n",
    "mapping_rate_str2rxn_generic"
   ],
   "metadata": {
    "collapsed": false,
    "pycharm": {
     "name": "#%%\n"
    }
   }
  },
  {
   "cell_type": "code",
   "execution_count": 18,
   "outputs": [
    {
     "name": "stderr",
     "output_type": "stream",
     "text": [
      "/Users/neneko/Documents/GitHub/PubHealthData/drug-disease/venv/lib/python3.7/site-packages/ipykernel_launcher.py:1: SettingWithCopyWarning: \n",
      "A value is trying to be set on a copy of a slice from a DataFrame.\n",
      "Try using .loc[row_indexer,col_indexer] = value instead\n",
      "\n",
      "See the caveats in the documentation: https://pandas.pydata.org/pandas-docs/stable/user_guide/indexing.html#returning-a-view-versus-a-copy\n",
      "  \"\"\"Entry point for launching an IPython kernel.\n"
     ]
    }
   ],
   "source": [
    "df_rx[\"cui_from_generic\"] = cui_codes_list_gen\n",
    "#df_rx.to_csv(\"output/PheCode_rxNorm.csv\")"
   ],
   "metadata": {
    "collapsed": false,
    "pycharm": {
     "name": "#%%\n"
    }
   }
  },
  {
   "cell_type": "code",
   "execution_count": 19,
   "outputs": [
    {
     "data": {
      "text/plain": "542"
     },
     "execution_count": 19,
     "metadata": {},
     "output_type": "execute_result"
    }
   ],
   "source": [
    "len(missed_generic_names)"
   ],
   "metadata": {
    "collapsed": false,
    "pycharm": {
     "name": "#%%\n"
    }
   }
  },
  {
   "cell_type": "code",
   "execution_count": 20,
   "outputs": [],
   "source": [
    "missed_generic_names_df = pd.DataFrame(missed_generic_names)\n",
    "missed_generic_names_df.columns = [\"generic names\"]\n",
    "missed_generic_names_df[\"CUIs\"] = \"\"*len(missed_generic_names)\n",
    "\n",
    "missed_generic_names_df.to_csv(\"missed mappings/missed CUIs from generic name.csv\", index=False)"
   ],
   "metadata": {
    "collapsed": false,
    "pycharm": {
     "name": "#%%\n"
    }
   }
  },
  {
   "cell_type": "code",
   "execution_count": 21,
   "outputs": [
    {
     "ename": "KeyError",
     "evalue": "'venetoclax'",
     "output_type": "error",
     "traceback": [
      "\u001B[0;31m---------------------------------------------------------------------------\u001B[0m",
      "\u001B[0;31mKeyError\u001B[0m                                  Traceback (most recent call last)",
      "\u001B[0;32m<ipython-input-21-e56a028d2427>\u001B[0m in \u001B[0;36m<module>\u001B[0;34m\u001B[0m\n\u001B[0;32m----> 1\u001B[0;31m \u001B[0mstr_cui_dic\u001B[0m\u001B[0;34m[\u001B[0m\u001B[0;34m\"venetoclax\"\u001B[0m\u001B[0;34m]\u001B[0m\u001B[0;34m\u001B[0m\u001B[0;34m\u001B[0m\u001B[0m\n\u001B[0m\u001B[1;32m      2\u001B[0m \u001B[0;34m\u001B[0m\u001B[0m\n",
      "\u001B[0;31mKeyError\u001B[0m: 'venetoclax'"
     ]
    }
   ],
   "source": [
    "str_cui_dic[\"venetoclax\"]"
   ],
   "metadata": {
    "collapsed": false,
    "pycharm": {
     "name": "#%%\n"
    }
   }
  },
  {
   "cell_type": "code",
   "execution_count": 23,
   "outputs": [
    {
     "ename": "KeyError",
     "evalue": "'gilteritinib'",
     "output_type": "error",
     "traceback": [
      "\u001B[0;31m---------------------------------------------------------------------------\u001B[0m",
      "\u001B[0;31mKeyError\u001B[0m                                  Traceback (most recent call last)",
      "\u001B[0;32m<ipython-input-23-1328e368c95c>\u001B[0m in \u001B[0;36m<module>\u001B[0;34m\u001B[0m\n\u001B[0;32m----> 1\u001B[0;31m \u001B[0mstr_cui_dic\u001B[0m\u001B[0;34m[\u001B[0m\u001B[0;34m\"gilteritinib\"\u001B[0m\u001B[0;34m]\u001B[0m\u001B[0;34m\u001B[0m\u001B[0;34m\u001B[0m\u001B[0m\n\u001B[0m\u001B[1;32m      2\u001B[0m \u001B[0;34m\u001B[0m\u001B[0m\n",
      "\u001B[0;31mKeyError\u001B[0m: 'gilteritinib'"
     ]
    }
   ],
   "source": [
    "str_cui_dic[\"gilteritinib\"]"
   ],
   "metadata": {
    "collapsed": false,
    "pycharm": {
     "name": "#%%\n"
    }
   }
  },
  {
   "cell_type": "code",
   "execution_count": 24,
   "outputs": [
    {
     "ename": "KeyError",
     "evalue": "'elbasvir / grazoprevir'",
     "output_type": "error",
     "traceback": [
      "\u001B[0;31m---------------------------------------------------------------------------\u001B[0m",
      "\u001B[0;31mKeyError\u001B[0m                                  Traceback (most recent call last)",
      "\u001B[0;32m<ipython-input-24-f1efde0d3870>\u001B[0m in \u001B[0;36m<module>\u001B[0;34m\u001B[0m\n\u001B[0;32m----> 1\u001B[0;31m \u001B[0mstr_cui_dic\u001B[0m\u001B[0;34m[\u001B[0m\u001B[0;34m\"elbasvir / grazoprevir\"\u001B[0m\u001B[0;34m]\u001B[0m\u001B[0;34m\u001B[0m\u001B[0;34m\u001B[0m\u001B[0m\n\u001B[0m\u001B[1;32m      2\u001B[0m \u001B[0;34m\u001B[0m\u001B[0m\n",
      "\u001B[0;31mKeyError\u001B[0m: 'elbasvir / grazoprevir'"
     ]
    }
   ],
   "source": [
    "str_cui_dic[\"elbasvir / grazoprevir\"]"
   ],
   "metadata": {
    "collapsed": false,
    "pycharm": {
     "name": "#%%\n"
    }
   }
  },
  {
   "cell_type": "code",
   "execution_count": 25,
   "outputs": [
    {
     "data": {
      "text/plain": "                              generic names CUIs\n194                    ivacaftor/tezacaftor     \n496                           crizanlizumab     \n386            aspirin|carisoprodol/codeine     \n131                             plecanatide     \n16                             gilteritinib     \n124                   ledipasvir/sofosbuvir     \n0    levonorgestrel emergency contraceptive     \n404                              cenegermin     \n116                           empagliflozin     \n515                            avatrombopag     ",
      "text/html": "<div>\n<style scoped>\n    .dataframe tbody tr th:only-of-type {\n        vertical-align: middle;\n    }\n\n    .dataframe tbody tr th {\n        vertical-align: top;\n    }\n\n    .dataframe thead th {\n        text-align: right;\n    }\n</style>\n<table border=\"1\" class=\"dataframe\">\n  <thead>\n    <tr style=\"text-align: right;\">\n      <th></th>\n      <th>generic names</th>\n      <th>CUIs</th>\n    </tr>\n  </thead>\n  <tbody>\n    <tr>\n      <th>194</th>\n      <td>ivacaftor/tezacaftor</td>\n      <td></td>\n    </tr>\n    <tr>\n      <th>496</th>\n      <td>crizanlizumab</td>\n      <td></td>\n    </tr>\n    <tr>\n      <th>386</th>\n      <td>aspirin|carisoprodol/codeine</td>\n      <td></td>\n    </tr>\n    <tr>\n      <th>131</th>\n      <td>plecanatide</td>\n      <td></td>\n    </tr>\n    <tr>\n      <th>16</th>\n      <td>gilteritinib</td>\n      <td></td>\n    </tr>\n    <tr>\n      <th>124</th>\n      <td>ledipasvir/sofosbuvir</td>\n      <td></td>\n    </tr>\n    <tr>\n      <th>0</th>\n      <td>levonorgestrel emergency contraceptive</td>\n      <td></td>\n    </tr>\n    <tr>\n      <th>404</th>\n      <td>cenegermin</td>\n      <td></td>\n    </tr>\n    <tr>\n      <th>116</th>\n      <td>empagliflozin</td>\n      <td></td>\n    </tr>\n    <tr>\n      <th>515</th>\n      <td>avatrombopag</td>\n      <td></td>\n    </tr>\n  </tbody>\n</table>\n</div>"
     },
     "execution_count": 25,
     "metadata": {},
     "output_type": "execute_result"
    }
   ],
   "source": [
    "missed_generic_names_df.sample(10)"
   ],
   "metadata": {
    "collapsed": false,
    "pycharm": {
     "name": "#%% randomly sample 10 from the missing file\n"
    }
   }
  },
  {
   "cell_type": "markdown",
   "source": [
    "### Map brand names to CUI"
   ],
   "metadata": {
    "collapsed": false,
    "pycharm": {
     "name": "#%% md\n"
    }
   }
  },
  {
   "cell_type": "code",
   "execution_count": 26,
   "outputs": [
    {
     "data": {
      "text/plain": "1994"
     },
     "execution_count": 26,
     "metadata": {},
     "output_type": "execute_result"
    }
   ],
   "source": [
    "brand_names_unique = brand_names\n",
    "brand_names_unique = _unique(brand_names)\n",
    "brand_names_unique.remove(\"\")\n",
    "len(brand_names_unique)"
   ],
   "metadata": {
    "collapsed": false,
    "pycharm": {
     "name": "#%%\n"
    }
   }
  },
  {
   "cell_type": "code",
   "execution_count": 27,
   "outputs": [],
   "source": [
    "brand_missing_terms_dict = {}"
   ],
   "metadata": {
    "collapsed": false,
    "pycharm": {
     "name": "#%%\n"
    }
   }
  },
  {
   "cell_type": "code",
   "execution_count": 28,
   "outputs": [],
   "source": [
    "mapped_num = 0\n",
    "# map our data\n",
    "cui_codes_list_brand = []\n",
    "\n",
    "prev_brand_name_set = []\n",
    "\n",
    "# keep track of what is not found\n",
    "missed_brand_names = []\n",
    "i = 0\n",
    "for name in brand_names:\n",
    "\n",
    "    cur_cuis = []\n",
    "    name = name.replace(\" )\",\"\")\n",
    "    if name in brand_missing_terms_dict:\n",
    "        cur_cuis.append(brand_missing_terms_dict[name])\n",
    "\n",
    "    # name = name.replace(\" prophylaxis\", \"\")\n",
    "    # name = name.replace(\" human\",\"\").replace(\"human\", \"\")\n",
    "\n",
    "    if name in str_cui_dic:\n",
    "         cur_cuis.append(str_cui_dic[name])\n",
    "\n",
    "    cur_cuis = _unique(cur_cuis)\n",
    "\n",
    "    if name not in prev_brand_name_set:\n",
    "        if len(cur_cuis) > 0:\n",
    "            mapped_num += 1\n",
    "        else:\n",
    "            missed_brand_names.append(name)\n",
    "        prev_brand_name_set.append(name)\n",
    "\n",
    "    cui_codes_list_brand.append(\"|\".join(cur_cuis))\n",
    "    i += 1"
   ],
   "metadata": {
    "collapsed": false,
    "pycharm": {
     "name": "#%%\n"
    }
   }
  },
  {
   "cell_type": "code",
   "execution_count": 29,
   "outputs": [
    {
     "data": {
      "text/plain": "0.35707121364092276"
     },
     "execution_count": 29,
     "metadata": {},
     "output_type": "execute_result"
    }
   ],
   "source": [
    "mapping_rate_str2rxn_brand = mapped_num/len(brand_names_unique)\n",
    "mapping_rate_str2rxn_brand"
   ],
   "metadata": {
    "collapsed": false,
    "pycharm": {
     "name": "#%%\n"
    }
   }
  },
  {
   "cell_type": "code",
   "execution_count": 30,
   "outputs": [
    {
     "name": "stderr",
     "output_type": "stream",
     "text": [
      "/Users/neneko/Documents/GitHub/PubHealthData/drug-disease/venv/lib/python3.7/site-packages/ipykernel_launcher.py:1: SettingWithCopyWarning: \n",
      "A value is trying to be set on a copy of a slice from a DataFrame.\n",
      "Try using .loc[row_indexer,col_indexer] = value instead\n",
      "\n",
      "See the caveats in the documentation: https://pandas.pydata.org/pandas-docs/stable/user_guide/indexing.html#returning-a-view-versus-a-copy\n",
      "  \"\"\"Entry point for launching an IPython kernel.\n"
     ]
    }
   ],
   "source": [
    "df_rx[\"cui_from_brand\"] = cui_codes_list_brand\n",
    "#df_rx.to_csv(\"output/PheCode_rxNorm.csv\")\n"
   ],
   "metadata": {
    "collapsed": false,
    "pycharm": {
     "name": "#%%\n"
    }
   }
  },
  {
   "cell_type": "code",
   "execution_count": 31,
   "outputs": [
    {
     "data": {
      "text/plain": "1283"
     },
     "execution_count": 31,
     "metadata": {},
     "output_type": "execute_result"
    }
   ],
   "source": [
    "len(missed_brand_names)"
   ],
   "metadata": {
    "collapsed": false,
    "pycharm": {
     "name": "#%%\n"
    }
   }
  },
  {
   "cell_type": "code",
   "execution_count": 32,
   "outputs": [],
   "source": [
    "missed_brand_names_df = pd.DataFrame(missed_brand_names)\n",
    "missed_brand_names_df.columns = [\"brand names\"]\n",
    "missed_brand_names_df[\"CUIs\"] = \"\"*len(missed_brand_names)\n",
    "\n",
    "missed_brand_names_df.to_csv(\"missed mapping/missed CUIs from brand name.csv\", index=False)\n"
   ],
   "metadata": {
    "collapsed": false,
    "pycharm": {
     "name": "#%%\n"
    }
   }
  },
  {
   "cell_type": "code",
   "execution_count": 33,
   "outputs": [
    {
     "ename": "KeyError",
     "evalue": "'venetoclax'",
     "output_type": "error",
     "traceback": [
      "\u001B[0;31m---------------------------------------------------------------------------\u001B[0m",
      "\u001B[0;31mKeyError\u001B[0m                                  Traceback (most recent call last)",
      "\u001B[0;32m<ipython-input-33-e56a028d2427>\u001B[0m in \u001B[0;36m<module>\u001B[0;34m\u001B[0m\n\u001B[0;32m----> 1\u001B[0;31m \u001B[0mstr_cui_dic\u001B[0m\u001B[0;34m[\u001B[0m\u001B[0;34m\"venetoclax\"\u001B[0m\u001B[0;34m]\u001B[0m\u001B[0;34m\u001B[0m\u001B[0;34m\u001B[0m\u001B[0m\n\u001B[0m\u001B[1;32m      2\u001B[0m \u001B[0;34m\u001B[0m\u001B[0m\n",
      "\u001B[0;31mKeyError\u001B[0m: 'venetoclax'"
     ]
    }
   ],
   "source": [
    "str_cui_dic[\"venetoclax\"]"
   ],
   "metadata": {
    "collapsed": false,
    "pycharm": {
     "name": "#%%\n"
    }
   }
  },
  {
   "cell_type": "code",
   "execution_count": 34,
   "outputs": [
    {
     "ename": "KeyError",
     "evalue": "'gilteritinib'",
     "output_type": "error",
     "traceback": [
      "\u001B[0;31m---------------------------------------------------------------------------\u001B[0m",
      "\u001B[0;31mKeyError\u001B[0m                                  Traceback (most recent call last)",
      "\u001B[0;32m<ipython-input-34-1328e368c95c>\u001B[0m in \u001B[0;36m<module>\u001B[0;34m\u001B[0m\n\u001B[0;32m----> 1\u001B[0;31m \u001B[0mstr_cui_dic\u001B[0m\u001B[0;34m[\u001B[0m\u001B[0;34m\"gilteritinib\"\u001B[0m\u001B[0;34m]\u001B[0m\u001B[0;34m\u001B[0m\u001B[0;34m\u001B[0m\u001B[0m\n\u001B[0m\u001B[1;32m      2\u001B[0m \u001B[0;34m\u001B[0m\u001B[0m\n",
      "\u001B[0;31mKeyError\u001B[0m: 'gilteritinib'"
     ]
    }
   ],
   "source": [
    "str_cui_dic[\"gilteritinib\"]"
   ],
   "metadata": {
    "collapsed": false,
    "pycharm": {
     "name": "#%%\n"
    }
   }
  },
  {
   "cell_type": "code",
   "execution_count": 35,
   "outputs": [
    {
     "ename": "KeyError",
     "evalue": "'elbasvir / grazoprevir'",
     "output_type": "error",
     "traceback": [
      "\u001B[0;31m---------------------------------------------------------------------------\u001B[0m",
      "\u001B[0;31mKeyError\u001B[0m                                  Traceback (most recent call last)",
      "\u001B[0;32m<ipython-input-35-f1efde0d3870>\u001B[0m in \u001B[0;36m<module>\u001B[0;34m\u001B[0m\n\u001B[0;32m----> 1\u001B[0;31m \u001B[0mstr_cui_dic\u001B[0m\u001B[0;34m[\u001B[0m\u001B[0;34m\"elbasvir / grazoprevir\"\u001B[0m\u001B[0;34m]\u001B[0m\u001B[0;34m\u001B[0m\u001B[0;34m\u001B[0m\u001B[0m\n\u001B[0m\u001B[1;32m      2\u001B[0m \u001B[0;34m\u001B[0m\u001B[0m\n",
      "\u001B[0;31mKeyError\u001B[0m: 'elbasvir / grazoprevir'"
     ]
    }
   ],
   "source": [
    "str_cui_dic[\"elbasvir / grazoprevir\"]"
   ],
   "metadata": {
    "collapsed": false,
    "pycharm": {
     "name": "#%%\n"
    }
   }
  },
  {
   "cell_type": "code",
   "execution_count": 36,
   "outputs": [
    {
     "data": {
      "text/plain": "                                            brand names CUIs\n1167                          abilify maintena|aristada     \n1075  stalevo 100|stalevo 125|stalevo 150|stalevo 20...     \n994                                   metaxall|skelaxin     \n415                                             bosulif     \n737                                             aliqopa     \n527                               8-mop|oxsoralen-ultra     \n1051                                           symproic     \n702   ak-con|albalon|allersol|clear eyes|clear eyesr...     \n688                                            tazverik     \n648                                    lescol|lescol xl     ",
      "text/html": "<div>\n<style scoped>\n    .dataframe tbody tr th:only-of-type {\n        vertical-align: middle;\n    }\n\n    .dataframe tbody tr th {\n        vertical-align: top;\n    }\n\n    .dataframe thead th {\n        text-align: right;\n    }\n</style>\n<table border=\"1\" class=\"dataframe\">\n  <thead>\n    <tr style=\"text-align: right;\">\n      <th></th>\n      <th>brand names</th>\n      <th>CUIs</th>\n    </tr>\n  </thead>\n  <tbody>\n    <tr>\n      <th>1167</th>\n      <td>abilify maintena|aristada</td>\n      <td></td>\n    </tr>\n    <tr>\n      <th>1075</th>\n      <td>stalevo 100|stalevo 125|stalevo 150|stalevo 20...</td>\n      <td></td>\n    </tr>\n    <tr>\n      <th>994</th>\n      <td>metaxall|skelaxin</td>\n      <td></td>\n    </tr>\n    <tr>\n      <th>415</th>\n      <td>bosulif</td>\n      <td></td>\n    </tr>\n    <tr>\n      <th>737</th>\n      <td>aliqopa</td>\n      <td></td>\n    </tr>\n    <tr>\n      <th>527</th>\n      <td>8-mop|oxsoralen-ultra</td>\n      <td></td>\n    </tr>\n    <tr>\n      <th>1051</th>\n      <td>symproic</td>\n      <td></td>\n    </tr>\n    <tr>\n      <th>702</th>\n      <td>ak-con|albalon|allersol|clear eyes|clear eyesr...</td>\n      <td></td>\n    </tr>\n    <tr>\n      <th>688</th>\n      <td>tazverik</td>\n      <td></td>\n    </tr>\n    <tr>\n      <th>648</th>\n      <td>lescol|lescol xl</td>\n      <td></td>\n    </tr>\n  </tbody>\n</table>\n</div>"
     },
     "execution_count": 36,
     "metadata": {},
     "output_type": "execute_result"
    }
   ],
   "source": [
    "missed_brand_names_df.sample(10)"
   ],
   "metadata": {
    "collapsed": false,
    "pycharm": {
     "name": "#%% randomly sample 10 from the missing file\n"
    }
   }
  },
  {
   "cell_type": "code",
   "execution_count": 37,
   "outputs": [
    {
     "data": {
      "text/plain": "1994"
     },
     "execution_count": 37,
     "metadata": {},
     "output_type": "execute_result"
    }
   ],
   "source": [
    "len(generic_names_unique)\n"
   ],
   "metadata": {
    "collapsed": false,
    "pycharm": {
     "name": "#%%\n"
    }
   }
  },
  {
   "cell_type": "code",
   "execution_count": 38,
   "outputs": [
    {
     "data": {
      "text/plain": "1994"
     },
     "execution_count": 38,
     "metadata": {},
     "output_type": "execute_result"
    }
   ],
   "source": [
    "len(brand_names_unique)"
   ],
   "metadata": {
    "collapsed": false,
    "pycharm": {
     "name": "#%%\n"
    }
   }
  },
  {
   "cell_type": "markdown",
   "source": [
    "CUI - RXNorms\n",
    "Using the broad_new_dictionary file, link rxnorms(string) to CUI"
   ],
   "metadata": {
    "collapsed": false,
    "pycharm": {
     "name": "#%% md\n"
    }
   }
  },
  {
   "cell_type": "code",
   "execution_count": 39,
   "outputs": [],
   "source": [
    "rx_norms_df = pd.read_csv(\"../mapping data/RXNORM-ingredient-base.csv\")"
   ],
   "metadata": {
    "collapsed": false,
    "pycharm": {
     "name": "#%%\n"
    }
   }
  },
  {
   "cell_type": "code",
   "execution_count": 40,
   "outputs": [
    {
     "data": {
      "text/plain": "Index(['base', 'base_str', 'ingredient', 'ingredient_str'], dtype='object')"
     },
     "execution_count": 40,
     "metadata": {},
     "output_type": "execute_result"
    }
   ],
   "source": [
    "rx_norms_df.columns"
   ],
   "metadata": {
    "collapsed": false,
    "pycharm": {
     "name": "#%%\n"
    }
   }
  },
  {
   "cell_type": "code",
   "execution_count": 41,
   "outputs": [],
   "source": [
    "rx_norm_strings = rx_norms_df[\"base_str\"].apply(lambda x: x.replace(\" / \", \"/\")).to_list()\n",
    "rx_norm_strings += rx_norms_df[\"ingredient_str\"].apply(lambda x: x.replace(\" / \", \"/\")).to_list()"
   ],
   "metadata": {
    "collapsed": false,
    "pycharm": {
     "name": "#%%\n"
    }
   }
  },
  {
   "cell_type": "code",
   "execution_count": 42,
   "outputs": [
    {
     "data": {
      "text/plain": "188890"
     },
     "execution_count": 42,
     "metadata": {},
     "output_type": "execute_result"
    }
   ],
   "source": [
    "len(rx_norm_strings)"
   ],
   "metadata": {
    "collapsed": false,
    "pycharm": {
     "name": "#%%\n"
    }
   }
  },
  {
   "cell_type": "code",
   "execution_count": 43,
   "outputs": [],
   "source": [
    "mapped_cuis = []\n",
    "missed_strings = []\n",
    "for string in rx_norm_strings:\n",
    "    if string in str_cui_dic:\n",
    "        mapped_cuis.append(str_cui_dic[string])\n",
    "    else:\n",
    "        missed_strings.append(string)"
   ],
   "metadata": {
    "collapsed": false,
    "pycharm": {
     "name": "#%%\n"
    }
   }
  },
  {
   "cell_type": "code",
   "execution_count": 44,
   "outputs": [
    {
     "data": {
      "text/plain": "0.5779977764836678"
     },
     "execution_count": 44,
     "metadata": {},
     "output_type": "execute_result"
    }
   ],
   "source": [
    "# Mappinge rate:\n",
    "string_rxnorm_mapping_rate = len(mapped_cuis)/len(rx_norm_strings)\n",
    "string_rxnorm_mapping_rate"
   ],
   "metadata": {
    "collapsed": false,
    "pycharm": {
     "name": "#%%\n"
    }
   }
  },
  {
   "cell_type": "code",
   "execution_count": 45,
   "outputs": [],
   "source": [
    "cui_rxnorm_dic = dict(zip(mapped_cuis, rx_norm_strings))"
   ],
   "metadata": {
    "collapsed": false,
    "pycharm": {
     "name": "#%% create a CUI-RXNorm dictionary\n"
    }
   }
  },
  {
   "cell_type": "code",
   "execution_count": 63,
   "outputs": [],
   "source": [
    "# Map the CUIs we have to rx norms\n",
    "\n",
    "# first join gen-cui list and brand-cui list\n",
    "\n",
    "combined_cui = []\n",
    "for i in range(len(cui_codes_list_gen)):\n",
    "    cur_cui = \"\"\n",
    "    if cui_codes_list_gen[i]:\n",
    "        cur_cui += cui_codes_list_gen[i]\n",
    "        if cui_codes_list_brand[i]:\n",
    "            cur_cui = cur_cui + \"|\" + cui_codes_list_brand[i]\n",
    "    elif not cui_codes_list_gen[i]:\n",
    "        if cui_codes_list_brand[i]:\n",
    "            cur_cui = cui_codes_list_brand[i]\n",
    "\n",
    "    combined_cui.append(cur_cui)\n",
    "    i += 1"
   ],
   "metadata": {
    "collapsed": false,
    "pycharm": {
     "name": "#%%\n"
    }
   }
  },
  {
   "cell_type": "code",
   "execution_count": 64,
   "outputs": [
    {
     "data": {
      "text/plain": "                                         0\n8281                              C0011777\n1023                     C0034414|C0337453\n11084           C0286651|C1272460|C1705112\n12325           C2725260|C1272460|C1705112\n10802           C1695579|C1272460|C1705112\n10072           C0024002|C1272460|C1705112\n6860                              C0010583\n11429                             C0360584\n13717                                     \n9205                                      \n13487                             C0717875\n6930                              C0666743\n6621   C0017687|C0337437|C1272460|C1705112\n1319   C1272460|C1705112|C1272460|C1705112\n9641                              C0592779\n13125           C0526371|C1272460|C1705112\n10599                    C0202391|C0546866\n6850                     C0021741|C0813623\n8219                                      \n3473                     C0011777|C0701254\n2960                                      \n2664            C0020740|C1272460|C1705112\n5921                                      \n8832   C0040165|C1881373|C1272460|C1705112\n12849                    C0671970|C0724419\n4365                     C1272460|C1705112\n7963            C0032952|C1272460|C1705112\n352                               C0171023\n3369            C0011777|C1272460|C1705112\n1665                     C0032912|C0242447\n2442                                      \n14074                             C0388753\n3767                              C0360579\n2866            C0118538|C1272460|C1705112\n8449                     C1272460|C1705112\n8168                              C0008783\n13239                    C1272460|C1705112\n9106                              C0069751\n13466           C1330021|C1272460|C1705112\n14123                             C0699957\n14414  C0042874|C1142098|C1272460|C1705112\n3782                              C0054672\n1689                              C0004482\n8140            C0073393|C1272460|C1705112\n7903            C0007562|C1272460|C1705112\n1987            C0935916|C1272460|C1705112\n6766   C0040165|C1881373|C1272460|C1705112\n4344            C0538927|C1272460|C1705112\n5874                              C0360584\n3954                              C2001271",
      "text/html": "<div>\n<style scoped>\n    .dataframe tbody tr th:only-of-type {\n        vertical-align: middle;\n    }\n\n    .dataframe tbody tr th {\n        vertical-align: top;\n    }\n\n    .dataframe thead th {\n        text-align: right;\n    }\n</style>\n<table border=\"1\" class=\"dataframe\">\n  <thead>\n    <tr style=\"text-align: right;\">\n      <th></th>\n      <th>0</th>\n    </tr>\n  </thead>\n  <tbody>\n    <tr>\n      <th>8281</th>\n      <td>C0011777</td>\n    </tr>\n    <tr>\n      <th>1023</th>\n      <td>C0034414|C0337453</td>\n    </tr>\n    <tr>\n      <th>11084</th>\n      <td>C0286651|C1272460|C1705112</td>\n    </tr>\n    <tr>\n      <th>12325</th>\n      <td>C2725260|C1272460|C1705112</td>\n    </tr>\n    <tr>\n      <th>10802</th>\n      <td>C1695579|C1272460|C1705112</td>\n    </tr>\n    <tr>\n      <th>10072</th>\n      <td>C0024002|C1272460|C1705112</td>\n    </tr>\n    <tr>\n      <th>6860</th>\n      <td>C0010583</td>\n    </tr>\n    <tr>\n      <th>11429</th>\n      <td>C0360584</td>\n    </tr>\n    <tr>\n      <th>13717</th>\n      <td></td>\n    </tr>\n    <tr>\n      <th>9205</th>\n      <td></td>\n    </tr>\n    <tr>\n      <th>13487</th>\n      <td>C0717875</td>\n    </tr>\n    <tr>\n      <th>6930</th>\n      <td>C0666743</td>\n    </tr>\n    <tr>\n      <th>6621</th>\n      <td>C0017687|C0337437|C1272460|C1705112</td>\n    </tr>\n    <tr>\n      <th>1319</th>\n      <td>C1272460|C1705112|C1272460|C1705112</td>\n    </tr>\n    <tr>\n      <th>9641</th>\n      <td>C0592779</td>\n    </tr>\n    <tr>\n      <th>13125</th>\n      <td>C0526371|C1272460|C1705112</td>\n    </tr>\n    <tr>\n      <th>10599</th>\n      <td>C0202391|C0546866</td>\n    </tr>\n    <tr>\n      <th>6850</th>\n      <td>C0021741|C0813623</td>\n    </tr>\n    <tr>\n      <th>8219</th>\n      <td></td>\n    </tr>\n    <tr>\n      <th>3473</th>\n      <td>C0011777|C0701254</td>\n    </tr>\n    <tr>\n      <th>2960</th>\n      <td></td>\n    </tr>\n    <tr>\n      <th>2664</th>\n      <td>C0020740|C1272460|C1705112</td>\n    </tr>\n    <tr>\n      <th>5921</th>\n      <td></td>\n    </tr>\n    <tr>\n      <th>8832</th>\n      <td>C0040165|C1881373|C1272460|C1705112</td>\n    </tr>\n    <tr>\n      <th>12849</th>\n      <td>C0671970|C0724419</td>\n    </tr>\n    <tr>\n      <th>4365</th>\n      <td>C1272460|C1705112</td>\n    </tr>\n    <tr>\n      <th>7963</th>\n      <td>C0032952|C1272460|C1705112</td>\n    </tr>\n    <tr>\n      <th>352</th>\n      <td>C0171023</td>\n    </tr>\n    <tr>\n      <th>3369</th>\n      <td>C0011777|C1272460|C1705112</td>\n    </tr>\n    <tr>\n      <th>1665</th>\n      <td>C0032912|C0242447</td>\n    </tr>\n    <tr>\n      <th>2442</th>\n      <td></td>\n    </tr>\n    <tr>\n      <th>14074</th>\n      <td>C0388753</td>\n    </tr>\n    <tr>\n      <th>3767</th>\n      <td>C0360579</td>\n    </tr>\n    <tr>\n      <th>2866</th>\n      <td>C0118538|C1272460|C1705112</td>\n    </tr>\n    <tr>\n      <th>8449</th>\n      <td>C1272460|C1705112</td>\n    </tr>\n    <tr>\n      <th>8168</th>\n      <td>C0008783</td>\n    </tr>\n    <tr>\n      <th>13239</th>\n      <td>C1272460|C1705112</td>\n    </tr>\n    <tr>\n      <th>9106</th>\n      <td>C0069751</td>\n    </tr>\n    <tr>\n      <th>13466</th>\n      <td>C1330021|C1272460|C1705112</td>\n    </tr>\n    <tr>\n      <th>14123</th>\n      <td>C0699957</td>\n    </tr>\n    <tr>\n      <th>14414</th>\n      <td>C0042874|C1142098|C1272460|C1705112</td>\n    </tr>\n    <tr>\n      <th>3782</th>\n      <td>C0054672</td>\n    </tr>\n    <tr>\n      <th>1689</th>\n      <td>C0004482</td>\n    </tr>\n    <tr>\n      <th>8140</th>\n      <td>C0073393|C1272460|C1705112</td>\n    </tr>\n    <tr>\n      <th>7903</th>\n      <td>C0007562|C1272460|C1705112</td>\n    </tr>\n    <tr>\n      <th>1987</th>\n      <td>C0935916|C1272460|C1705112</td>\n    </tr>\n    <tr>\n      <th>6766</th>\n      <td>C0040165|C1881373|C1272460|C1705112</td>\n    </tr>\n    <tr>\n      <th>4344</th>\n      <td>C0538927|C1272460|C1705112</td>\n    </tr>\n    <tr>\n      <th>5874</th>\n      <td>C0360584</td>\n    </tr>\n    <tr>\n      <th>3954</th>\n      <td>C2001271</td>\n    </tr>\n  </tbody>\n</table>\n</div>"
     },
     "execution_count": 64,
     "metadata": {},
     "output_type": "execute_result"
    }
   ],
   "source": [
    "pd.DataFrame(combined_cui).sample(50)"
   ],
   "metadata": {
    "collapsed": false,
    "pycharm": {
     "name": "#%%\n"
    }
   }
  },
  {
   "cell_type": "code",
   "execution_count": 65,
   "outputs": [
    {
     "name": "stderr",
     "output_type": "stream",
     "text": [
      "/Users/neneko/Documents/GitHub/PubHealthData/drug-disease/venv/lib/python3.7/site-packages/ipykernel_launcher.py:2: SettingWithCopyWarning: \n",
      "A value is trying to be set on a copy of a slice from a DataFrame.\n",
      "Try using .loc[row_indexer,col_indexer] = value instead\n",
      "\n",
      "See the caveats in the documentation: https://pandas.pydata.org/pandas-docs/stable/user_guide/indexing.html#returning-a-view-versus-a-copy\n",
      "  \n"
     ]
    }
   ],
   "source": [
    "# store this combined cui to the output file\n",
    "df_rx[\"cui_combined_gen_brand\"] = combined_cui"
   ],
   "metadata": {
    "collapsed": false,
    "pycharm": {
     "name": "#%%\n"
    }
   }
  },
  {
   "cell_type": "code",
   "execution_count": 66,
   "outputs": [],
   "source": [
    "df_rx.to_csv(\"output/PheCode_rxNorm.csv\")"
   ],
   "metadata": {
    "collapsed": false,
    "pycharm": {
     "name": "#%%\n"
    }
   }
  },
  {
   "cell_type": "code",
   "execution_count": 67,
   "outputs": [],
   "source": [
    "non_empty_cuis_df = pd.DataFrame(combined_cui).replace(\"\", np.nan, regex=True).dropna()\n"
   ],
   "metadata": {
    "collapsed": false,
    "pycharm": {
     "name": "#%%\n"
    }
   }
  },
  {
   "cell_type": "code",
   "execution_count": 69,
   "outputs": [
    {
     "data": {
      "text/plain": "0.9204048140043763"
     },
     "execution_count": 69,
     "metadata": {},
     "output_type": "execute_result"
    }
   ],
   "source": [
    "mapping_rate_str_cui = len(non_empty_cuis_df) / len(combined_cui)\n",
    "mapping_rate_str_cui"
   ],
   "metadata": {
    "collapsed": false,
    "pycharm": {
     "name": "#%%\n"
    }
   }
  },
  {
   "cell_type": "code",
   "execution_count": 74,
   "outputs": [],
   "source": [
    "# map combined cui to rxnorms using the cui_rxnorm_dic we just created\n",
    "\n",
    "cui_rxnorms = []\n",
    "missed_cuis = []\n",
    "mapped_num_cui_rxnorm = 0\n",
    "\n",
    "for row in combined_cui:\n",
    "    cur_rxnorm = []\n",
    "    for c in row.split(\"|\"):\n",
    "        if c in cui_rxnorm_dic:\n",
    "            cur_rxnorm.append(cui_rxnorm_dic[c])\n",
    "\n",
    "        else:\n",
    "            # only track which cui is missing from the dict we are using\n",
    "            missed_cuis.append(c)\n",
    "\n",
    "        cur_rxnorm = _unique(cur_rxnorm)\n",
    "\n",
    "    if cur_rxnorm:\n",
    "        mapped_num_cui_rxnorm += 1\n",
    "\n",
    "    cui_rxnorms.append(\"|\".join(cur_rxnorm))\n",
    "\n",
    "    missed_cuis = _unique(missed_cuis)"
   ],
   "metadata": {
    "collapsed": false,
    "pycharm": {
     "name": "#%%\n"
    }
   }
  },
  {
   "cell_type": "code",
   "execution_count": 53,
   "outputs": [
    {
     "data": {
      "text/plain": "0.6246580962800875"
     },
     "execution_count": 53,
     "metadata": {},
     "output_type": "execute_result"
    }
   ],
   "source": [
    "cui_rxnorm_mapping_rate = mapped_num_cui_rxnorm / len(combined_cui)\n",
    "cui_rxnorm_mapping_rate"
   ],
   "metadata": {
    "collapsed": false,
    "pycharm": {
     "name": "#%%\n"
    }
   }
  },
  {
   "cell_type": "code",
   "execution_count": 71,
   "outputs": [
    {
     "data": {
      "text/plain": "0.5749383189230017"
     },
     "execution_count": 71,
     "metadata": {},
     "output_type": "execute_result"
    }
   ],
   "source": [
    "net_mapping_rate = mapping_rate_str_cui * cui_rxnorm_mapping_rate\n",
    "net_mapping_rate"
   ],
   "metadata": {
    "collapsed": false,
    "pycharm": {
     "name": "#%%\n"
    }
   }
  },
  {
   "cell_type": "code",
   "execution_count": 75,
   "outputs": [
    {
     "data": {
      "text/plain": "1165"
     },
     "execution_count": 75,
     "metadata": {},
     "output_type": "execute_result"
    }
   ],
   "source": [
    "len(missed_cuis)"
   ],
   "metadata": {
    "collapsed": false,
    "pycharm": {
     "name": "#%%\n"
    }
   }
  },
  {
   "cell_type": "code",
   "execution_count": 80,
   "outputs": [],
   "source": [
    "missed_terms_df = pd.DataFrame(missed_cuis)\n",
    "missed_terms_df.columns = [\"CUIs\"]\n",
    "missed_terms_df.to_csv(\"missed output/missed CUIs from combined names.csv\", index=False)"
   ],
   "metadata": {
    "collapsed": false,
    "pycharm": {
     "name": "#%%\n"
    }
   }
  },
  {
   "cell_type": "code",
   "execution_count": 77,
   "outputs": [
    {
     "name": "stderr",
     "output_type": "stream",
     "text": [
      "/Users/neneko/Documents/GitHub/PubHealthData/drug-disease/venv/lib/python3.7/site-packages/ipykernel_launcher.py:1: SettingWithCopyWarning: \n",
      "A value is trying to be set on a copy of a slice from a DataFrame.\n",
      "Try using .loc[row_indexer,col_indexer] = value instead\n",
      "\n",
      "See the caveats in the documentation: https://pandas.pydata.org/pandas-docs/stable/user_guide/indexing.html#returning-a-view-versus-a-copy\n",
      "  \"\"\"Entry point for launching an IPython kernel.\n"
     ]
    }
   ],
   "source": [
    "df_rx[\"rxnorms_from_CUI\"] = cui_rxnorms\n",
    "df_rx.to_csv(\"PheCode_rxNorm.csv\")"
   ],
   "metadata": {
    "collapsed": false,
    "pycharm": {
     "name": "#%%\n"
    }
   }
  },
  {
   "cell_type": "code",
   "execution_count": null,
   "outputs": [],
   "source": [
    "\n"
   ],
   "metadata": {
    "collapsed": false,
    "pycharm": {
     "name": "#%%\n"
    }
   }
  }
 ],
 "metadata": {
  "kernelspec": {
   "display_name": "Python 3",
   "language": "python",
   "name": "python3"
  },
  "language_info": {
   "codemirror_mode": {
    "name": "ipython",
    "version": 2
   },
   "file_extension": ".py",
   "mimetype": "text/x-python",
   "name": "python",
   "nbconvert_exporter": "python",
   "pygments_lexer": "ipython2",
   "version": "2.7.6"
  }
 },
 "nbformat": 4,
 "nbformat_minor": 0
}