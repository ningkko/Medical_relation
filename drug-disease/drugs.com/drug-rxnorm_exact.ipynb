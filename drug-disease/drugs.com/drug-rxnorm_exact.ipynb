{
 "cells": [
  {
   "cell_type": "code",
   "execution_count": 34,
   "metadata": {},
   "outputs": [],
   "source": [
    "import pandas as pd\n",
    "import numpy as np\n",
    "\n",
    "df = pd.read_csv(\"output/drug_disease.csv\").replace(np.nan, '', regex=True)"
   ]
  },
  {
   "cell_type": "code",
   "execution_count": 35,
   "outputs": [
    {
     "data": {
      "text/plain": "Index(['disease name', 'other names', 'RX/OTC', 'drug', 'generic name',\n       'drug class', 'brand names', 'pregnancy label', 'CSA label'],\n      dtype='object')"
     },
     "execution_count": 35,
     "metadata": {},
     "output_type": "execute_result"
    }
   ],
   "source": [
    "df.columns"
   ],
   "metadata": {
    "collapsed": false,
    "pycharm": {
     "name": "#%%\n"
    }
   }
  },
  {
   "cell_type": "code",
   "execution_count": 36,
   "outputs": [],
   "source": [
    "df_rx = df[df[\"RX/OTC\"] != 'otc']"
   ],
   "metadata": {
    "collapsed": false,
    "pycharm": {
     "name": "#%%\n"
    }
   }
  },
  {
   "cell_type": "code",
   "execution_count": 37,
   "metadata": {},
   "outputs": [
    {
     "data": {
      "text/plain": "                                     disease name  \\\n0   abdominal distension prior to abdominal x ray   \n1   abdominal distension prior to abdominal x ray   \n2                            abdominal distension   \n3                            abdominal distension   \n4                            abdominal distension   \n7                abdominal radiological procedure   \n8                       abnormal uterine bleeding   \n9                       abnormal uterine bleeding   \n10                      abnormal uterine bleeding   \n11                      abnormal uterine bleeding   \n\n                                          other names RX/OTC  \\\n0                                                         rx   \n1                                                         rx   \n2               abdominal bloating|bloating|meteorism     rx   \n3               abdominal bloating|bloating|meteorism     rx   \n4               abdominal bloating|bloating|meteorism     rx   \n7                   abdominal radiological procedures     rx   \n8   bleedingdysfunctional uterine|dub|dysfunctiona...     rx   \n9   bleedingdysfunctional uterine|dub|dysfunctiona...     rx   \n10  bleedingdysfunctional uterine|dub|dysfunctiona...     rx   \n11  bleedingdysfunctional uterine|dub|dysfunctiona...     rx   \n\n                   drug         generic name  \\\n0           vasopressin          vasopressin   \n1            vasostrict          vasopressin   \n2           bethanechol          bethanechol   \n3            urecholine          bethanechol   \n4                duvoid          bethanechol   \n7           vasopressin          vasopressin   \n8   medroxyprogesterone  medroxyprogesterone   \n9                mirena                        \n10              provera  medroxyprogesterone   \n11        norethindrone        norethindrone   \n\n                                  drug class  \\\n0                      antidiuretic-hormones   \n1                      antidiuretic-hormones   \n2   miscellaneous-genitourinary-tract-agents   \n3   miscellaneous-genitourinary-tract-agents   \n4   miscellaneous-genitourinary-tract-agents   \n7                      antidiuretic-hormones   \n8                             contraceptives   \n9                             contraceptives   \n10                            contraceptives   \n11                            contraceptives   \n\n                                          brand names pregnancy label  \\\n0                                vasostrict|pitressin               c   \n1                                          vasostrict               c   \n2                                   duvoid|urecholine               c   \n3                                   duvoid|urecholine               c   \n4                                   duvoid|urecholine               c   \n7                                vasostrict|pitressin               c   \n8                                                                   x   \n9                                                                   x   \n10                                            provera               x   \n11  aygestin|camila|errin|jolivette|nora-be|ortho ...               x   \n\n   CSA label  \n0          n  \n1          n  \n2          n  \n3          n  \n4          n  \n7          n  \n8          n  \n9          n  \n10         n  \n11         n  ",
      "text/html": "<div>\n<style scoped>\n    .dataframe tbody tr th:only-of-type {\n        vertical-align: middle;\n    }\n\n    .dataframe tbody tr th {\n        vertical-align: top;\n    }\n\n    .dataframe thead th {\n        text-align: right;\n    }\n</style>\n<table border=\"1\" class=\"dataframe\">\n  <thead>\n    <tr style=\"text-align: right;\">\n      <th></th>\n      <th>disease name</th>\n      <th>other names</th>\n      <th>RX/OTC</th>\n      <th>drug</th>\n      <th>generic name</th>\n      <th>drug class</th>\n      <th>brand names</th>\n      <th>pregnancy label</th>\n      <th>CSA label</th>\n    </tr>\n  </thead>\n  <tbody>\n    <tr>\n      <th>0</th>\n      <td>abdominal distension prior to abdominal x ray</td>\n      <td></td>\n      <td>rx</td>\n      <td>vasopressin</td>\n      <td>vasopressin</td>\n      <td>antidiuretic-hormones</td>\n      <td>vasostrict|pitressin</td>\n      <td>c</td>\n      <td>n</td>\n    </tr>\n    <tr>\n      <th>1</th>\n      <td>abdominal distension prior to abdominal x ray</td>\n      <td></td>\n      <td>rx</td>\n      <td>vasostrict</td>\n      <td>vasopressin</td>\n      <td>antidiuretic-hormones</td>\n      <td>vasostrict</td>\n      <td>c</td>\n      <td>n</td>\n    </tr>\n    <tr>\n      <th>2</th>\n      <td>abdominal distension</td>\n      <td>abdominal bloating|bloating|meteorism</td>\n      <td>rx</td>\n      <td>bethanechol</td>\n      <td>bethanechol</td>\n      <td>miscellaneous-genitourinary-tract-agents</td>\n      <td>duvoid|urecholine</td>\n      <td>c</td>\n      <td>n</td>\n    </tr>\n    <tr>\n      <th>3</th>\n      <td>abdominal distension</td>\n      <td>abdominal bloating|bloating|meteorism</td>\n      <td>rx</td>\n      <td>urecholine</td>\n      <td>bethanechol</td>\n      <td>miscellaneous-genitourinary-tract-agents</td>\n      <td>duvoid|urecholine</td>\n      <td>c</td>\n      <td>n</td>\n    </tr>\n    <tr>\n      <th>4</th>\n      <td>abdominal distension</td>\n      <td>abdominal bloating|bloating|meteorism</td>\n      <td>rx</td>\n      <td>duvoid</td>\n      <td>bethanechol</td>\n      <td>miscellaneous-genitourinary-tract-agents</td>\n      <td>duvoid|urecholine</td>\n      <td>c</td>\n      <td>n</td>\n    </tr>\n    <tr>\n      <th>7</th>\n      <td>abdominal radiological procedure</td>\n      <td>abdominal radiological procedures</td>\n      <td>rx</td>\n      <td>vasopressin</td>\n      <td>vasopressin</td>\n      <td>antidiuretic-hormones</td>\n      <td>vasostrict|pitressin</td>\n      <td>c</td>\n      <td>n</td>\n    </tr>\n    <tr>\n      <th>8</th>\n      <td>abnormal uterine bleeding</td>\n      <td>bleedingdysfunctional uterine|dub|dysfunctiona...</td>\n      <td>rx</td>\n      <td>medroxyprogesterone</td>\n      <td>medroxyprogesterone</td>\n      <td>contraceptives</td>\n      <td></td>\n      <td>x</td>\n      <td>n</td>\n    </tr>\n    <tr>\n      <th>9</th>\n      <td>abnormal uterine bleeding</td>\n      <td>bleedingdysfunctional uterine|dub|dysfunctiona...</td>\n      <td>rx</td>\n      <td>mirena</td>\n      <td></td>\n      <td>contraceptives</td>\n      <td></td>\n      <td>x</td>\n      <td>n</td>\n    </tr>\n    <tr>\n      <th>10</th>\n      <td>abnormal uterine bleeding</td>\n      <td>bleedingdysfunctional uterine|dub|dysfunctiona...</td>\n      <td>rx</td>\n      <td>provera</td>\n      <td>medroxyprogesterone</td>\n      <td>contraceptives</td>\n      <td>provera</td>\n      <td>x</td>\n      <td>n</td>\n    </tr>\n    <tr>\n      <th>11</th>\n      <td>abnormal uterine bleeding</td>\n      <td>bleedingdysfunctional uterine|dub|dysfunctiona...</td>\n      <td>rx</td>\n      <td>norethindrone</td>\n      <td>norethindrone</td>\n      <td>contraceptives</td>\n      <td>aygestin|camila|errin|jolivette|nora-be|ortho ...</td>\n      <td>x</td>\n      <td>n</td>\n    </tr>\n  </tbody>\n</table>\n</div>"
     },
     "execution_count": 37,
     "metadata": {},
     "output_type": "execute_result"
    }
   ],
   "source": [
    "df_rx[:10]"
   ]
  },
  {
   "cell_type": "markdown",
   "metadata": {},
   "source": [
    "### Generic names - RXNorm"
   ]
  },
  {
   "cell_type": "code",
   "execution_count": 38,
   "metadata": {},
   "outputs": [],
   "source": [
    "# The generic name column contains lists that only have one string.\n",
    "# Pull the string out of the list.\n",
    "# lowercase\n",
    "#\n",
    "# import ast\n",
    "#\n",
    "# def _reveal(string):\n",
    "#     s = \"\"\n",
    "#     if ast.literal_eval(string):\n",
    "#         s = ast.literal_eval(string)[0]\n",
    "#     return s.lower()\n",
    "#\n",
    "\n",
    "# generic_names = df[\"generic name\"].map(lambda x: _reveal(x))\n",
    "#\n",
    "# generic_names[:10]\n",
    "\n",
    "# removed because disease-drug is cleaned already."
   ]
  },
  {
   "cell_type": "code",
   "execution_count": 39,
   "metadata": {},
   "outputs": [
    {
     "data": {
      "text/plain": "   base                       base_str ingredient      ingredient_str\n0    97      ticlopidine hydrochloride      10594         ticlopidine\n1   309        adenosine monophosphate        296           adenosine\n2   362      epinephrine hydrochloride       3992         epinephrine\n3   388            polymyxin b sulfate       8536         polymyxin b\n4   613         aluminum hydroxide gel        612  aluminum hydroxide\n5   621             amantadine sulfate        620          amantadine\n6   643               amikacin sulfate        641            amikacin\n7  1115  trihexyphenidyl hydrochloride      10811     trihexyphenidyl\n8  1219            atracurium besylate       1218          atracurium\n9  1225            hyoscyamine sulfate     153970         hyoscyamine",
      "text/html": "<div>\n<style scoped>\n    .dataframe tbody tr th:only-of-type {\n        vertical-align: middle;\n    }\n\n    .dataframe tbody tr th {\n        vertical-align: top;\n    }\n\n    .dataframe thead th {\n        text-align: right;\n    }\n</style>\n<table border=\"1\" class=\"dataframe\">\n  <thead>\n    <tr style=\"text-align: right;\">\n      <th></th>\n      <th>base</th>\n      <th>base_str</th>\n      <th>ingredient</th>\n      <th>ingredient_str</th>\n    </tr>\n  </thead>\n  <tbody>\n    <tr>\n      <th>0</th>\n      <td>97</td>\n      <td>ticlopidine hydrochloride</td>\n      <td>10594</td>\n      <td>ticlopidine</td>\n    </tr>\n    <tr>\n      <th>1</th>\n      <td>309</td>\n      <td>adenosine monophosphate</td>\n      <td>296</td>\n      <td>adenosine</td>\n    </tr>\n    <tr>\n      <th>2</th>\n      <td>362</td>\n      <td>epinephrine hydrochloride</td>\n      <td>3992</td>\n      <td>epinephrine</td>\n    </tr>\n    <tr>\n      <th>3</th>\n      <td>388</td>\n      <td>polymyxin b sulfate</td>\n      <td>8536</td>\n      <td>polymyxin b</td>\n    </tr>\n    <tr>\n      <th>4</th>\n      <td>613</td>\n      <td>aluminum hydroxide gel</td>\n      <td>612</td>\n      <td>aluminum hydroxide</td>\n    </tr>\n    <tr>\n      <th>5</th>\n      <td>621</td>\n      <td>amantadine sulfate</td>\n      <td>620</td>\n      <td>amantadine</td>\n    </tr>\n    <tr>\n      <th>6</th>\n      <td>643</td>\n      <td>amikacin sulfate</td>\n      <td>641</td>\n      <td>amikacin</td>\n    </tr>\n    <tr>\n      <th>7</th>\n      <td>1115</td>\n      <td>trihexyphenidyl hydrochloride</td>\n      <td>10811</td>\n      <td>trihexyphenidyl</td>\n    </tr>\n    <tr>\n      <th>8</th>\n      <td>1219</td>\n      <td>atracurium besylate</td>\n      <td>1218</td>\n      <td>atracurium</td>\n    </tr>\n    <tr>\n      <th>9</th>\n      <td>1225</td>\n      <td>hyoscyamine sulfate</td>\n      <td>153970</td>\n      <td>hyoscyamine</td>\n    </tr>\n  </tbody>\n</table>\n</div>"
     },
     "execution_count": 39,
     "metadata": {},
     "output_type": "execute_result"
    }
   ],
   "source": [
    "str_rxnorm_df = pd.read_csv(\"../mapping data/RXNORM-ingredient-base.csv\", encoding = \"latin\", dtype=\"str\")\n",
    "str_rxnorm_df[:10]"
   ]
  },
  {
   "cell_type": "code",
   "execution_count": 40,
   "metadata": {},
   "outputs": [],
   "source": [
    "# build a dictionary mapping from strings to rxnormsq\n",
    "str_rxn_dict = dict(zip(str_rxnorm_df[\"ingredient_str\"], str_rxnorm_df[\"ingredient\"]))"
   ]
  },
  {
   "cell_type": "markdown",
   "metadata": {
    "pycharm": {
     "name": "#%% md\n"
    }
   },
   "source": [
    "#### Map generic names to rxnorms"
   ]
  },
  {
   "cell_type": "code",
   "execution_count": 41,
   "outputs": [],
   "source": [
    "def _unique(lst):\n",
    "    '''returns a list with unique values'''\n",
    "    return list(np.unique(np.array(lst)))"
   ],
   "metadata": {
    "collapsed": false,
    "pycharm": {
     "name": "#%%\n"
    }
   }
  },
  {
   "cell_type": "code",
   "execution_count": 42,
   "outputs": [
    {
     "data": {
      "text/plain": "14624"
     },
     "execution_count": 42,
     "metadata": {},
     "output_type": "execute_result"
    }
   ],
   "source": [
    "generic_names = df_rx[\"generic name\"].to_list()\n",
    "len(generic_names)"
   ],
   "metadata": {
    "collapsed": false,
    "pycharm": {
     "name": "#%%\n"
    }
   }
  },
  {
   "cell_type": "code",
   "execution_count": 43,
   "outputs": [
    {
     "data": {
      "text/plain": "1996"
     },
     "execution_count": 43,
     "metadata": {},
     "output_type": "execute_result"
    }
   ],
   "source": [
    "generic_names_unique = generic_names\n",
    "generic_names_unique = _unique(generic_names)\n",
    "generic_names_unique.remove(\"\")\n",
    "len(generic_names_unique)"
   ],
   "metadata": {
    "collapsed": false,
    "pycharm": {
     "name": "#%%\n"
    }
   }
  },
  {
   "cell_type": "code",
   "execution_count": 57,
   "outputs": [],
   "source": [
    "mapped_num = 0\n",
    "# map our data\n",
    "generic_rxn_list = []\n",
    "i = 0\n",
    "\n",
    "prev_g_names = []\n",
    "for generic_name in generic_names:\n",
    "    rxn = []\n",
    "    if generic_name in brand_str_rxn_dict:\n",
    "        rxn.append(brand_str_rxn_dict[generic_name])\n",
    "\n",
    "    # If it's a generic that has appeared, and the mapping is not empty\n",
    "    if generic_name not in prev_g_names and rxn!=[]:\n",
    "        mapped_num += 1\n",
    "        prev_g_names.append(generic_name)\n",
    "        \n",
    "    generic_rxn_list.append(\"|\".join(rxn))\n",
    "    i += 1"
   ],
   "metadata": {
    "collapsed": false,
    "pycharm": {
     "name": "#%%\n"
    }
   }
  },
  {
   "cell_type": "markdown",
   "source": [
    "#### Mapping rate from drug generic names to RXNorms\n"
   ],
   "metadata": {
    "collapsed": false,
    "pycharm": {
     "name": "#%% md\n"
    }
   }
  },
  {
   "cell_type": "code",
   "execution_count": 58,
   "outputs": [
    {
     "data": {
      "text/plain": "0.037575150300601205"
     },
     "execution_count": 58,
     "metadata": {},
     "output_type": "execute_result"
    }
   ],
   "source": [
    "mapping_rate_str2rxn = mapped_num/len(generic_names_unique)\n",
    "mapping_rate_str2rxn"
   ],
   "metadata": {
    "collapsed": false,
    "pycharm": {
     "name": "#%%\n"
    }
   }
  },
  {
   "cell_type": "code",
   "execution_count": 46,
   "metadata": {},
   "outputs": [
    {
     "data": {
      "text/plain": "                                    disease name  \\\n0  abdominal distension prior to abdominal x ray   \n1  abdominal distension prior to abdominal x ray   \n2                           abdominal distension   \n3                           abdominal distension   \n4                           abdominal distension   \n5               abdominal radiological procedure   \n6                      abnormal uterine bleeding   \n7                      abnormal uterine bleeding   \n8                      abnormal uterine bleeding   \n9                      abnormal uterine bleeding   \n\n                                         other names RX/OTC  \\\n0                                                        rx   \n1                                                        rx   \n2              abdominal bloating|bloating|meteorism     rx   \n3              abdominal bloating|bloating|meteorism     rx   \n4              abdominal bloating|bloating|meteorism     rx   \n5                  abdominal radiological procedures     rx   \n6  bleedingdysfunctional uterine|dub|dysfunctiona...     rx   \n7  bleedingdysfunctional uterine|dub|dysfunctiona...     rx   \n8  bleedingdysfunctional uterine|dub|dysfunctiona...     rx   \n9  bleedingdysfunctional uterine|dub|dysfunctiona...     rx   \n\n                  drug         generic name  \\\n0          vasopressin          vasopressin   \n1           vasostrict          vasopressin   \n2          bethanechol          bethanechol   \n3           urecholine          bethanechol   \n4               duvoid          bethanechol   \n5          vasopressin          vasopressin   \n6  medroxyprogesterone  medroxyprogesterone   \n7               mirena                        \n8              provera  medroxyprogesterone   \n9        norethindrone        norethindrone   \n\n                                 drug class  \\\n0                     antidiuretic-hormones   \n1                     antidiuretic-hormones   \n2  miscellaneous-genitourinary-tract-agents   \n3  miscellaneous-genitourinary-tract-agents   \n4  miscellaneous-genitourinary-tract-agents   \n5                     antidiuretic-hormones   \n6                            contraceptives   \n7                            contraceptives   \n8                            contraceptives   \n9                            contraceptives   \n\n                                         brand names pregnancy label  \\\n0                               vasostrict|pitressin               c   \n1                                         vasostrict               c   \n2                                  duvoid|urecholine               c   \n3                                  duvoid|urecholine               c   \n4                                  duvoid|urecholine               c   \n5                               vasostrict|pitressin               c   \n6                                                                  x   \n7                                                                  x   \n8                                            provera               x   \n9  aygestin|camila|errin|jolivette|nora-be|ortho ...               x   \n\n  CSA label   cui_from_generic     cui_from_brand  \n0         n  C0003779|C0201849                     \n1         n  C0003779|C0201849                     \n2         n           C0053526                     \n3         n           C0053526                     \n4         n           C0053526                     \n5         n  C0003779|C0201849                     \n6         n           C0025147  C1272460|C1705112  \n7         n  C1272460|C1705112  C1272460|C1705112  \n8         n           C0025147           C0699702  \n9         n           C0028356                     ",
      "text/html": "<div>\n<style scoped>\n    .dataframe tbody tr th:only-of-type {\n        vertical-align: middle;\n    }\n\n    .dataframe tbody tr th {\n        vertical-align: top;\n    }\n\n    .dataframe thead th {\n        text-align: right;\n    }\n</style>\n<table border=\"1\" class=\"dataframe\">\n  <thead>\n    <tr style=\"text-align: right;\">\n      <th></th>\n      <th>disease name</th>\n      <th>other names</th>\n      <th>RX/OTC</th>\n      <th>drug</th>\n      <th>generic name</th>\n      <th>drug class</th>\n      <th>brand names</th>\n      <th>pregnancy label</th>\n      <th>CSA label</th>\n      <th>cui_from_generic</th>\n      <th>cui_from_brand</th>\n    </tr>\n  </thead>\n  <tbody>\n    <tr>\n      <th>0</th>\n      <td>abdominal distension prior to abdominal x ray</td>\n      <td></td>\n      <td>rx</td>\n      <td>vasopressin</td>\n      <td>vasopressin</td>\n      <td>antidiuretic-hormones</td>\n      <td>vasostrict|pitressin</td>\n      <td>c</td>\n      <td>n</td>\n      <td>C0003779|C0201849</td>\n      <td></td>\n    </tr>\n    <tr>\n      <th>1</th>\n      <td>abdominal distension prior to abdominal x ray</td>\n      <td></td>\n      <td>rx</td>\n      <td>vasostrict</td>\n      <td>vasopressin</td>\n      <td>antidiuretic-hormones</td>\n      <td>vasostrict</td>\n      <td>c</td>\n      <td>n</td>\n      <td>C0003779|C0201849</td>\n      <td></td>\n    </tr>\n    <tr>\n      <th>2</th>\n      <td>abdominal distension</td>\n      <td>abdominal bloating|bloating|meteorism</td>\n      <td>rx</td>\n      <td>bethanechol</td>\n      <td>bethanechol</td>\n      <td>miscellaneous-genitourinary-tract-agents</td>\n      <td>duvoid|urecholine</td>\n      <td>c</td>\n      <td>n</td>\n      <td>C0053526</td>\n      <td></td>\n    </tr>\n    <tr>\n      <th>3</th>\n      <td>abdominal distension</td>\n      <td>abdominal bloating|bloating|meteorism</td>\n      <td>rx</td>\n      <td>urecholine</td>\n      <td>bethanechol</td>\n      <td>miscellaneous-genitourinary-tract-agents</td>\n      <td>duvoid|urecholine</td>\n      <td>c</td>\n      <td>n</td>\n      <td>C0053526</td>\n      <td></td>\n    </tr>\n    <tr>\n      <th>4</th>\n      <td>abdominal distension</td>\n      <td>abdominal bloating|bloating|meteorism</td>\n      <td>rx</td>\n      <td>duvoid</td>\n      <td>bethanechol</td>\n      <td>miscellaneous-genitourinary-tract-agents</td>\n      <td>duvoid|urecholine</td>\n      <td>c</td>\n      <td>n</td>\n      <td>C0053526</td>\n      <td></td>\n    </tr>\n    <tr>\n      <th>5</th>\n      <td>abdominal radiological procedure</td>\n      <td>abdominal radiological procedures</td>\n      <td>rx</td>\n      <td>vasopressin</td>\n      <td>vasopressin</td>\n      <td>antidiuretic-hormones</td>\n      <td>vasostrict|pitressin</td>\n      <td>c</td>\n      <td>n</td>\n      <td>C0003779|C0201849</td>\n      <td></td>\n    </tr>\n    <tr>\n      <th>6</th>\n      <td>abnormal uterine bleeding</td>\n      <td>bleedingdysfunctional uterine|dub|dysfunctiona...</td>\n      <td>rx</td>\n      <td>medroxyprogesterone</td>\n      <td>medroxyprogesterone</td>\n      <td>contraceptives</td>\n      <td></td>\n      <td>x</td>\n      <td>n</td>\n      <td>C0025147</td>\n      <td>C1272460|C1705112</td>\n    </tr>\n    <tr>\n      <th>7</th>\n      <td>abnormal uterine bleeding</td>\n      <td>bleedingdysfunctional uterine|dub|dysfunctiona...</td>\n      <td>rx</td>\n      <td>mirena</td>\n      <td></td>\n      <td>contraceptives</td>\n      <td></td>\n      <td>x</td>\n      <td>n</td>\n      <td>C1272460|C1705112</td>\n      <td>C1272460|C1705112</td>\n    </tr>\n    <tr>\n      <th>8</th>\n      <td>abnormal uterine bleeding</td>\n      <td>bleedingdysfunctional uterine|dub|dysfunctiona...</td>\n      <td>rx</td>\n      <td>provera</td>\n      <td>medroxyprogesterone</td>\n      <td>contraceptives</td>\n      <td>provera</td>\n      <td>x</td>\n      <td>n</td>\n      <td>C0025147</td>\n      <td>C0699702</td>\n    </tr>\n    <tr>\n      <th>9</th>\n      <td>abnormal uterine bleeding</td>\n      <td>bleedingdysfunctional uterine|dub|dysfunctiona...</td>\n      <td>rx</td>\n      <td>norethindrone</td>\n      <td>norethindrone</td>\n      <td>contraceptives</td>\n      <td>aygestin|camila|errin|jolivette|nora-be|ortho ...</td>\n      <td>x</td>\n      <td>n</td>\n      <td>C0028356</td>\n      <td></td>\n    </tr>\n  </tbody>\n</table>\n</div>"
     },
     "execution_count": 46,
     "metadata": {},
     "output_type": "execute_result"
    }
   ],
   "source": [
    "output_df = pd.read_csv(\"output/PheCode_rxNorm.csv\").replace(np.nan, '', regex=True)\n",
    "output_df = output_df.drop(\"Unnamed: 0\", axis=1)\n",
    "output_df[:10]"
   ]
  },
  {
   "cell_type": "code",
   "execution_count": 58,
   "outputs": [],
   "source": [
    "output_df[\"exact_rxNorm_generic\"] = generic_rxn_list\n",
    "output_df.to_csv(\"output/PheCode_rxNorm.csv\", index=False)"
   ],
   "metadata": {
    "collapsed": false,
    "pycharm": {
     "name": "#%%\n"
    }
   }
  },
  {
   "cell_type": "code",
   "execution_count": 59,
   "metadata": {},
   "outputs": [],
   "source": [
    "# # build a frame\n",
    "# # store the disease-cui-phe  data\n",
    "# str_rxn_df = pd.DataFrame()\n",
    "#\n",
    "# str_rxn_df[\"disease name\"] = df[\"disease name\"].to_list()\n",
    "#\n",
    "# str_rxn_df[\"generic name\"] = df[\"generic name\"].to_list()\n",
    "# str_rxn_df[\"generic name\"] = str_rxn_df[\"generic name\"].apply(lambda x: \"|\".join(ast.literal_eval(x)))\n",
    "#\n",
    "# str_rxn_df[\"generic rx norms\"] = generic_rxn_list\n",
    "# str_rxn_df[\"generic rx norms\"] = str_rxn_df[\"generic rx norms\"].apply(lambda x: x[0] if len(x)>0 else \"\")\n",
    "# str_rxn_df[:20]\n"
   ]
  },
  {
   "cell_type": "markdown",
   "metadata": {},
   "source": [
    "### Brand names - RXNorm"
   ]
  },
  {
   "cell_type": "code",
   "execution_count": 47,
   "outputs": [
    {
     "data": {
      "text/plain": "0                                  vasostrict|pitressin\n1                                            vasostrict\n2                                     duvoid|urecholine\n3                                     duvoid|urecholine\n4                                     duvoid|urecholine\n7                                  vasostrict|pitressin\n8                                                      \n9                                                      \n10                                              provera\n11    aygestin|camila|errin|jolivette|nora-be|ortho ...\n12                                                     \n13                                     megace es|megace\n14    estarylla|femynor|mono-linyah|mononessa|ortho ...\n15                                                     \n16                                                     \n17    aygestin|camila|errin|jolivette|nora-be|ortho ...\n18    amethyst|aviane|balcoltra|falmina|levlen|lillo...\n19                                                     \n20                                                     \n21    aygestin|camila|errin|jolivette|nora-be|ortho ...\nName: brand names, dtype: object"
     },
     "execution_count": 47,
     "metadata": {},
     "output_type": "execute_result"
    }
   ],
   "source": [
    "# import ast\n",
    "# def _reveal_brandnames(string):\n",
    "#     li = []\n",
    "#     list_string = ast.literal_eval(string)\n",
    "#     if list_string:\n",
    "#         for s in list_string:\n",
    "#             li.append(s.lower())\n",
    "#     return li\n",
    "#\n",
    "brand_names = df_rx[\"brand names\"]\n",
    "brand_names[:20]"
   ],
   "metadata": {
    "collapsed": false,
    "pycharm": {
     "name": "#%%\n"
    }
   }
  },
  {
   "cell_type": "code",
   "execution_count": 48,
   "outputs": [
    {
     "data": {
      "text/plain": "1994"
     },
     "execution_count": 48,
     "metadata": {},
     "output_type": "execute_result"
    }
   ],
   "source": [
    "brand_names_unique = brand_names\n",
    "brand_names_unique = _unique(brand_names)\n",
    "brand_names_unique.remove(\"\")\n",
    "len(brand_names_unique)"
   ],
   "metadata": {
    "collapsed": false,
    "pycharm": {
     "name": "#%%\n"
    }
   }
  },
  {
   "cell_type": "code",
   "execution_count": 49,
   "outputs": [
    {
     "data": {
      "text/plain": "0                           ticlopidine hydrochloride\n1                             adenosine monophosphate\n2                           epinephrine hydrochloride\n3                                 polymyxin b sulfate\n4                              aluminum hydroxide gel\n                             ...                     \n94440             cytarabine / daunorubicin injection\n94441              amphotericin b injectable solution\n94442                       amikacin inhalant product\n94443    cytarabine / daunorubicin injectable product\n94444    cytarabine / daunorubicin injectable product\nName: base_str, Length: 94445, dtype: object"
     },
     "execution_count": 49,
     "metadata": {},
     "output_type": "execute_result"
    }
   ],
   "source": [
    "str_rxnorm_df[\"base_str\"]"
   ],
   "metadata": {
    "collapsed": false,
    "pycharm": {
     "name": "#%%\n"
    }
   }
  },
  {
   "cell_type": "code",
   "execution_count": 50,
   "outputs": [],
   "source": [
    "# create a dictionary mapping from brand names to rx norms\n",
    "brand_str_rxn_dict = dict(zip(str_rxnorm_df[\"base_str\"], str_rxnorm_df[\"base\"]))"
   ],
   "metadata": {
    "collapsed": false,
    "pycharm": {
     "name": "#%%\n"
    }
   }
  },
  {
   "cell_type": "code",
   "execution_count": 55,
   "metadata": {},
   "outputs": [],
   "source": [
    "# map them\n",
    "mapped_num = 0\n",
    "# map our data\n",
    "brand_rxn = []\n",
    "unique_rxn = []\n",
    "\n",
    "previous_brand_names = []\n",
    "i = 0\n",
    "for brand_name in brand_names:\n",
    "    cur_rxns = []\n",
    "    for name in brand_name.split(\"|\"):\n",
    "        if name in brand_str_rxn_dict:\n",
    "            cur_rxns.append(brand_str_rxn_dict[name])\n",
    "\n",
    "    if brand_names not in previous_brand_names:\n",
    "        if len(cur_rxns) > 0:\n",
    "            mapped_num += 1\n",
    "            unique_rxn.append(brand_str_rxn_dict[name])\n",
    "        previous_brand_names.append(brand_names)\n",
    "    \n",
    "    brand_rxn.append(cur_rxns)\n",
    "    i += 1"
   ]
  },
  {
   "cell_type": "markdown",
   "source": [
    "#### Mapping rate from brand names to RXNorms"
   ],
   "metadata": {
    "collapsed": false,
    "pycharm": {
     "name": "#%% md\n"
    }
   }
  },
  {
   "cell_type": "code",
   "execution_count": 56,
   "outputs": [
    {
     "data": {
      "text/plain": "0.0"
     },
     "execution_count": 56,
     "metadata": {},
     "output_type": "execute_result"
    }
   ],
   "source": [
    "mapping_rate_str2rxn_brand = mapped_num/len(brand_names_unique)\n",
    "mapping_rate_str2rxn_brand"
   ],
   "metadata": {
    "collapsed": false,
    "pycharm": {
     "name": "#%%\n"
    }
   }
  },
  {
   "cell_type": "code",
   "execution_count": 17,
   "outputs": [
    {
     "data": {
      "text/plain": "[]"
     },
     "execution_count": 17,
     "metadata": {},
     "output_type": "execute_result"
    }
   ],
   "source": [
    "unique_rxn"
   ],
   "metadata": {
    "collapsed": false,
    "pycharm": {
     "name": "#%%\n"
    }
   }
  }
 ],
 "metadata": {
  "kernelspec": {
   "display_name": "Python 3",
   "language": "python",
   "name": "python3"
  },
  "language_info": {
   "codemirror_mode": {
    "name": "ipython",
    "version": 3
   },
   "file_extension": ".py",
   "mimetype": "text/x-python",
   "name": "python",
   "nbconvert_exporter": "python",
   "pygments_lexer": "ipython3",
   "version": "3.7.6"
  }
 },
 "nbformat": 4,
 "nbformat_minor": 4
}