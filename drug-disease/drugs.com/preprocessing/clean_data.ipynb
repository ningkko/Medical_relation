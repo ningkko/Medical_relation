{
 "cells": [
  {
   "cell_type": "code",
   "execution_count": 65,
   "metadata": {},
   "outputs": [],
   "source": [
    "import pandas as pd\n",
    "import numpy as np"
   ]
  },
  {
   "cell_type": "code",
   "execution_count": 66,
   "outputs": [],
   "source": [
    "d = pd.read_csv(\"output/output_full.csv\").dropna()"
   ],
   "metadata": {
    "collapsed": false,
    "pycharm": {
     "name": "#%%\n"
    }
   }
  },
  {
   "cell_type": "code",
   "execution_count": 67,
   "outputs": [
    {
     "data": {
      "text/plain": "                                      disease name  \\\n1    abdominal distension prior to abdominal x ray   \n2    abdominal distension prior to abdominal x ray   \n3                             abdominal distension   \n4                             abdominal distension   \n5                             abdominal distension   \n..                                             ...   \n101                                           acne   \n102                                           acne   \n103                                           acne   \n104                                     acromegaly   \n105                                     acromegaly   \n\n                                           other names RX/OTC  \\\n1                                                   []     Rx   \n2                                                   []     Rx   \n3          ['Abdominal bloating; Bloating; Meteorism']     Rx   \n4          ['Abdominal bloating; Bloating; Meteorism']     Rx   \n5          ['Abdominal bloating; Bloating; Meteorism']     Rx   \n..                                                 ...    ...   \n101  ['Acne Vulgaris; Blackheads; Breakouts; Cystic...     Rx   \n102  ['Acne Vulgaris; Blackheads; Breakouts; Cystic...     Rx   \n103  ['Acne Vulgaris; Blackheads; Breakouts; Cystic...     Rx   \n104                                                 []     Rx   \n105                                                 []     Rx   \n\n                      drug                                   generic name  \\\n1              vasopressin                                ['vasopressin']   \n2               Vasostrict                                ['vasopressin']   \n3              bethanechol                                ['bethanechol']   \n4               Urecholine                                ['bethanechol']   \n5                   Duvoid                                ['bethanechol']   \n..                     ...                                            ...   \n101              Acticlate           ['Doxycycline Tablets and Capsules']   \n102             Bactrim DS  ['Sulfamethoxazole and Trimethoprim Tablets']   \n103              Benzaclin   ['benzoyl peroxide and clindamycin topical']   \n104  Sandostatin LAR Depot                                 ['octreotide']   \n105               Somavert                                ['pegvisomant']   \n\n                                       drug class  \\\n1                       ['antidiuretic-hormones']   \n2                       ['antidiuretic-hormones']   \n3    ['miscellaneous-genitourinary-tract-agents']   \n4    ['miscellaneous-genitourinary-tract-agents']   \n5    ['miscellaneous-genitourinary-tract-agents']   \n..                                            ...   \n101                             ['tetracyclines']   \n102                              ['sulfonamides']   \n103                       ['topical-acne-agents']   \n104     ['somatostatin-and-somatostatin-analogs']   \n105          ['growth-hormone-receptor-blockers']   \n\n                                           brand names pregnancy label  \\\n1                          ['Vasostrict', 'Pitressin']               C   \n2                                       ['Vasostrict']               C   \n3                             ['Duvoid', 'Urecholine']               C   \n4                             ['Duvoid', 'Urecholine']               C   \n5                             ['Duvoid', 'Urecholine']               C   \n..                                                 ...             ...   \n101  ['Acticlate', 'Adox Pak 2/100', 'Adoxa', 'Adox...               D   \n102                          ['Bactrim', 'Bactrim DS']               D   \n103                                                 []               C   \n104           ['SandoSTATIN', 'SandoSTATIN LAR Depot']               B   \n105                                                 []               B   \n\n    CSA label  \n1           N  \n2           N  \n3           N  \n4           N  \n5           N  \n..        ...  \n101         N  \n102         N  \n103         N  \n104         N  \n105         N  \n\n[100 rows x 9 columns]",
      "text/html": "<div>\n<style scoped>\n    .dataframe tbody tr th:only-of-type {\n        vertical-align: middle;\n    }\n\n    .dataframe tbody tr th {\n        vertical-align: top;\n    }\n\n    .dataframe thead th {\n        text-align: right;\n    }\n</style>\n<table border=\"1\" class=\"dataframe\">\n  <thead>\n    <tr style=\"text-align: right;\">\n      <th></th>\n      <th>disease name</th>\n      <th>other names</th>\n      <th>RX/OTC</th>\n      <th>drug</th>\n      <th>generic name</th>\n      <th>drug class</th>\n      <th>brand names</th>\n      <th>pregnancy label</th>\n      <th>CSA label</th>\n    </tr>\n  </thead>\n  <tbody>\n    <tr>\n      <th>1</th>\n      <td>abdominal distension prior to abdominal x ray</td>\n      <td>[]</td>\n      <td>Rx</td>\n      <td>vasopressin</td>\n      <td>['vasopressin']</td>\n      <td>['antidiuretic-hormones']</td>\n      <td>['Vasostrict', 'Pitressin']</td>\n      <td>C</td>\n      <td>N</td>\n    </tr>\n    <tr>\n      <th>2</th>\n      <td>abdominal distension prior to abdominal x ray</td>\n      <td>[]</td>\n      <td>Rx</td>\n      <td>Vasostrict</td>\n      <td>['vasopressin']</td>\n      <td>['antidiuretic-hormones']</td>\n      <td>['Vasostrict']</td>\n      <td>C</td>\n      <td>N</td>\n    </tr>\n    <tr>\n      <th>3</th>\n      <td>abdominal distension</td>\n      <td>['Abdominal bloating; Bloating; Meteorism']</td>\n      <td>Rx</td>\n      <td>bethanechol</td>\n      <td>['bethanechol']</td>\n      <td>['miscellaneous-genitourinary-tract-agents']</td>\n      <td>['Duvoid', 'Urecholine']</td>\n      <td>C</td>\n      <td>N</td>\n    </tr>\n    <tr>\n      <th>4</th>\n      <td>abdominal distension</td>\n      <td>['Abdominal bloating; Bloating; Meteorism']</td>\n      <td>Rx</td>\n      <td>Urecholine</td>\n      <td>['bethanechol']</td>\n      <td>['miscellaneous-genitourinary-tract-agents']</td>\n      <td>['Duvoid', 'Urecholine']</td>\n      <td>C</td>\n      <td>N</td>\n    </tr>\n    <tr>\n      <th>5</th>\n      <td>abdominal distension</td>\n      <td>['Abdominal bloating; Bloating; Meteorism']</td>\n      <td>Rx</td>\n      <td>Duvoid</td>\n      <td>['bethanechol']</td>\n      <td>['miscellaneous-genitourinary-tract-agents']</td>\n      <td>['Duvoid', 'Urecholine']</td>\n      <td>C</td>\n      <td>N</td>\n    </tr>\n    <tr>\n      <th>...</th>\n      <td>...</td>\n      <td>...</td>\n      <td>...</td>\n      <td>...</td>\n      <td>...</td>\n      <td>...</td>\n      <td>...</td>\n      <td>...</td>\n      <td>...</td>\n    </tr>\n    <tr>\n      <th>101</th>\n      <td>acne</td>\n      <td>['Acne Vulgaris; Blackheads; Breakouts; Cystic...</td>\n      <td>Rx</td>\n      <td>Acticlate</td>\n      <td>['Doxycycline Tablets and Capsules']</td>\n      <td>['tetracyclines']</td>\n      <td>['Acticlate', 'Adox Pak 2/100', 'Adoxa', 'Adox...</td>\n      <td>D</td>\n      <td>N</td>\n    </tr>\n    <tr>\n      <th>102</th>\n      <td>acne</td>\n      <td>['Acne Vulgaris; Blackheads; Breakouts; Cystic...</td>\n      <td>Rx</td>\n      <td>Bactrim DS</td>\n      <td>['Sulfamethoxazole and Trimethoprim Tablets']</td>\n      <td>['sulfonamides']</td>\n      <td>['Bactrim', 'Bactrim DS']</td>\n      <td>D</td>\n      <td>N</td>\n    </tr>\n    <tr>\n      <th>103</th>\n      <td>acne</td>\n      <td>['Acne Vulgaris; Blackheads; Breakouts; Cystic...</td>\n      <td>Rx</td>\n      <td>Benzaclin</td>\n      <td>['benzoyl peroxide and clindamycin topical']</td>\n      <td>['topical-acne-agents']</td>\n      <td>[]</td>\n      <td>C</td>\n      <td>N</td>\n    </tr>\n    <tr>\n      <th>104</th>\n      <td>acromegaly</td>\n      <td>[]</td>\n      <td>Rx</td>\n      <td>Sandostatin LAR Depot</td>\n      <td>['octreotide']</td>\n      <td>['somatostatin-and-somatostatin-analogs']</td>\n      <td>['SandoSTATIN', 'SandoSTATIN LAR Depot']</td>\n      <td>B</td>\n      <td>N</td>\n    </tr>\n    <tr>\n      <th>105</th>\n      <td>acromegaly</td>\n      <td>[]</td>\n      <td>Rx</td>\n      <td>Somavert</td>\n      <td>['pegvisomant']</td>\n      <td>['growth-hormone-receptor-blockers']</td>\n      <td>[]</td>\n      <td>B</td>\n      <td>N</td>\n    </tr>\n  </tbody>\n</table>\n<p>100 rows × 9 columns</p>\n</div>"
     },
     "execution_count": 67,
     "metadata": {},
     "output_type": "execute_result"
    }
   ],
   "source": [
    "d[:100]"
   ],
   "metadata": {
    "collapsed": false,
    "pycharm": {
     "name": "#%%\n"
    }
   }
  },
  {
   "cell_type": "code",
   "execution_count": 68,
   "outputs": [],
   "source": [
    "import ast\n",
    "def _clean(x: str):\n",
    "    # replace special characters &amp; | &gt;\n",
    "    x = x.replace(\"&amp\", \"\").replace(\"&gt\", \"\")\n",
    "\n",
    "    # replace brackets\n",
    "    x = x.replace(\"[]\",\"\").replace(\"[\\\"\", \"\").replace(\"\\\"]\", \"\").replace(\"\\']\", \"\").replace(\"[\\'\", \"\")\n",
    "\n",
    "    # replace ', ' | ', \" | \", ' | \", \" with \"|\"\n",
    "    x = x.replace(\"\\', \\'\", \"|\").replace(\"\\', \\\"\", \"|\").replace(\"\\\", \\'\", \"|\").replace(\"\\\", \\\"\", \"|\")\n",
    "\n",
    "    # replace \" ; \" | \" / \" with \"|\"\n",
    "    x = x.replace(\" ; \", \"|\").replace(\" / \", \"|\").replace(\" \\\\ \", \"|\").replace(\"; \", \"|\").replace(\";\", \"|\")\n",
    "\n",
    "    # replace \" and \" | \" & \" | \" + \" | \" , \" with \"/\"\n",
    "    x = x.replace(\" and \", \"/\").replace(\" & \", \"/\").replace(\" + \", \"\").replace(\" ,\",\"/\").replace(\", \",\"\").replace(\",\", \"/\")\n",
    "\n",
    "    # replace \" s \" with \"'s \"\n",
    "    x = x.replace(\" s \", \"\\'s \")\n",
    "\n",
    "    # get rid of white spaces\n",
    "    x = x.lstrip().rstrip()\n",
    "\n",
    "    # lowercase\n",
    "    x = x.lower()\n",
    "\n",
    "    # others\n",
    "    x = x.replace(\"  )\", \"\").replace(\")  \",\"\").replace(\"  \",\" \").replace(\"/ \",\"/\").replace(\" /\",\"/\")\n",
    "    return x"
   ],
   "metadata": {
    "collapsed": false,
    "pycharm": {
     "name": "#%%\n"
    }
   }
  },
  {
   "cell_type": "code",
   "execution_count": 69,
   "outputs": [],
   "source": [
    "d = d.applymap(lambda x: _clean(x))"
   ],
   "metadata": {
    "collapsed": false,
    "pycharm": {
     "name": "#%%\n"
    }
   }
  },
  {
   "cell_type": "code",
   "execution_count": 70,
   "outputs": [],
   "source": [
    "d_part = d[10000:13000]"
   ],
   "metadata": {
    "collapsed": false,
    "pycharm": {
     "name": "#%%\n"
    }
   }
  },
  {
   "cell_type": "code",
   "execution_count": 71,
   "outputs": [],
   "source": [
    "d.to_csv(\"output/drug_disease.csv\",index=False)\n",
    "\n"
   ],
   "metadata": {
    "collapsed": false,
    "pycharm": {
     "name": "#%%\n"
    }
   }
  },
  {
   "cell_type": "code",
   "execution_count": null,
   "outputs": [],
   "source": [
    "\n"
   ],
   "metadata": {
    "collapsed": false,
    "pycharm": {
     "name": "#%%\n"
    }
   }
  }
 ],
 "metadata": {
  "kernelspec": {
   "display_name": "Python 3",
   "language": "python",
   "name": "python3"
  },
  "language_info": {
   "codemirror_mode": {
    "name": "ipython",
    "version": 3
   },
   "file_extension": ".py",
   "mimetype": "text/x-python",
   "name": "python",
   "nbconvert_exporter": "python",
   "pygments_lexer": "ipython3",
   "version": "3.7.6"
  }
 },
 "nbformat": 4,
 "nbformat_minor": 4
}