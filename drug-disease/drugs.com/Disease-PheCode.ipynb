{
 "cells": [
  {
   "cell_type": "code",
   "execution_count": 16,
   "metadata": {},
   "outputs": [],
   "source": [
    "# import sys\n",
    "# import os\n",
    "# # below is a local path for the fuzzywuzzy package.\n",
    "# sys.path.insert(0, os.path.abspath('/Library/Frameworks/Python.framework/Versions/3.6/lib/python3.6/site-packages'))\n",
    "#"
   ]
  },
  {
   "cell_type": "code",
   "execution_count": 17,
   "metadata": {},
   "outputs": [],
   "source": [
    "# sys.path"
   ]
  },
  {
   "cell_type": "code",
   "execution_count": 1,
   "metadata": {},
   "outputs": [
    {
     "data": {
      "text/plain": "Index(['disease name', 'other names', 'RX/OTC', 'drug', 'generic name',\n       'drug class', 'brand names', 'pregnancy label', 'CSA label'],\n      dtype='object')"
     },
     "execution_count": 1,
     "metadata": {},
     "output_type": "execute_result"
    }
   ],
   "source": [
    "import pandas as pd\n",
    "import numpy as np\n",
    "df = pd.read_csv(\"output/drug_disease.csv\")\n",
    "df = df.replace(np.nan, '', regex=True)\n",
    "df.columns"
   ]
  },
  {
   "cell_type": "code",
   "execution_count": 2,
   "metadata": {
    "pycharm": {
     "name": "#%%\n"
    }
   },
   "outputs": [
    {
     "data": {
      "text/plain": "   disease name                                        other names  RX/OTC  \\\n82         acne  acne vulgaris|blackheads|breakouts|cystic acne...      rx   \n83         acne  acne vulgaris|blackheads|breakouts|cystic acne...      rx   \n84         acne  acne vulgaris|blackheads|breakouts|cystic acne...  rx/otc   \n85         acne  acne vulgaris|blackheads|breakouts|cystic acne...  rx/otc   \n86         acne  acne vulgaris|blackheads|breakouts|cystic acne...      rx   \n87         acne  acne vulgaris|blackheads|breakouts|cystic acne...      rx   \n88         acne  acne vulgaris|blackheads|breakouts|cystic acne...  rx/otc   \n89         acne  acne vulgaris|blackheads|breakouts|cystic acne...      rx   \n90         acne  acne vulgaris|blackheads|breakouts|cystic acne...      rx   \n91         acne  acne vulgaris|blackheads|breakouts|cystic acne...      rx   \n\n                             drug                         generic name  \\\n82                         epiduo           adapalene/benzoyl peroxide   \n83                         aczone                      dapsone topical   \n84                       differin                    adapalene topical   \n85               benzoyl peroxide             benzoyl peroxide topical   \n86                        solodyn                          minocycline   \n87                          doryx  doxycycline delayed-release tablets   \n88                      adapalene                    adapalene topical   \n89                         septra        sulfamethoxazole/trimethoprim   \n90                   tetracycline                         tetracycline   \n91  sulfamethoxazole|trimethoprim        sulfamethoxazole/trimethoprim   \n\n                     drug class  \\\n82          topical-acne-agents   \n83          topical-acne-agents   \n84          topical-acne-agents   \n85          topical-acne-agents   \n86                tetracyclines   \n87  miscellaneous-antimalarials   \n88          topical-acne-agents   \n89                 sulfonamides   \n90                tetracyclines   \n91                 sulfonamides   \n\n                                          brand names pregnancy label  \\\n82                                                                  c   \n83                                                                  c   \n84                                                                  c   \n85  acne-clear|benzac ac|benzepro|benziq|brevoxyl ...               c   \n86                                                                  d   \n87                                              doryx               d   \n88                                    differin|plixda               c   \n89                                                                  d   \n90                                                                  d   \n91  bactrim|bactrim ds|bactrim i.v.|septra i.v.|sm...               d   \n\n   CSA label  \n82         n  \n83         n  \n84         n  \n85         n  \n86         n  \n87         n  \n88         n  \n89         n  \n90         n  \n91         n  ",
      "text/html": "<div>\n<style scoped>\n    .dataframe tbody tr th:only-of-type {\n        vertical-align: middle;\n    }\n\n    .dataframe tbody tr th {\n        vertical-align: top;\n    }\n\n    .dataframe thead th {\n        text-align: right;\n    }\n</style>\n<table border=\"1\" class=\"dataframe\">\n  <thead>\n    <tr style=\"text-align: right;\">\n      <th></th>\n      <th>disease name</th>\n      <th>other names</th>\n      <th>RX/OTC</th>\n      <th>drug</th>\n      <th>generic name</th>\n      <th>drug class</th>\n      <th>brand names</th>\n      <th>pregnancy label</th>\n      <th>CSA label</th>\n    </tr>\n  </thead>\n  <tbody>\n    <tr>\n      <th>82</th>\n      <td>acne</td>\n      <td>acne vulgaris|blackheads|breakouts|cystic acne...</td>\n      <td>rx</td>\n      <td>epiduo</td>\n      <td>adapalene/benzoyl peroxide</td>\n      <td>topical-acne-agents</td>\n      <td></td>\n      <td>c</td>\n      <td>n</td>\n    </tr>\n    <tr>\n      <th>83</th>\n      <td>acne</td>\n      <td>acne vulgaris|blackheads|breakouts|cystic acne...</td>\n      <td>rx</td>\n      <td>aczone</td>\n      <td>dapsone topical</td>\n      <td>topical-acne-agents</td>\n      <td></td>\n      <td>c</td>\n      <td>n</td>\n    </tr>\n    <tr>\n      <th>84</th>\n      <td>acne</td>\n      <td>acne vulgaris|blackheads|breakouts|cystic acne...</td>\n      <td>rx/otc</td>\n      <td>differin</td>\n      <td>adapalene topical</td>\n      <td>topical-acne-agents</td>\n      <td></td>\n      <td>c</td>\n      <td>n</td>\n    </tr>\n    <tr>\n      <th>85</th>\n      <td>acne</td>\n      <td>acne vulgaris|blackheads|breakouts|cystic acne...</td>\n      <td>rx/otc</td>\n      <td>benzoyl peroxide</td>\n      <td>benzoyl peroxide topical</td>\n      <td>topical-acne-agents</td>\n      <td>acne-clear|benzac ac|benzepro|benziq|brevoxyl ...</td>\n      <td>c</td>\n      <td>n</td>\n    </tr>\n    <tr>\n      <th>86</th>\n      <td>acne</td>\n      <td>acne vulgaris|blackheads|breakouts|cystic acne...</td>\n      <td>rx</td>\n      <td>solodyn</td>\n      <td>minocycline</td>\n      <td>tetracyclines</td>\n      <td></td>\n      <td>d</td>\n      <td>n</td>\n    </tr>\n    <tr>\n      <th>87</th>\n      <td>acne</td>\n      <td>acne vulgaris|blackheads|breakouts|cystic acne...</td>\n      <td>rx</td>\n      <td>doryx</td>\n      <td>doxycycline delayed-release tablets</td>\n      <td>miscellaneous-antimalarials</td>\n      <td>doryx</td>\n      <td>d</td>\n      <td>n</td>\n    </tr>\n    <tr>\n      <th>88</th>\n      <td>acne</td>\n      <td>acne vulgaris|blackheads|breakouts|cystic acne...</td>\n      <td>rx/otc</td>\n      <td>adapalene</td>\n      <td>adapalene topical</td>\n      <td>topical-acne-agents</td>\n      <td>differin|plixda</td>\n      <td>c</td>\n      <td>n</td>\n    </tr>\n    <tr>\n      <th>89</th>\n      <td>acne</td>\n      <td>acne vulgaris|blackheads|breakouts|cystic acne...</td>\n      <td>rx</td>\n      <td>septra</td>\n      <td>sulfamethoxazole/trimethoprim</td>\n      <td>sulfonamides</td>\n      <td></td>\n      <td>d</td>\n      <td>n</td>\n    </tr>\n    <tr>\n      <th>90</th>\n      <td>acne</td>\n      <td>acne vulgaris|blackheads|breakouts|cystic acne...</td>\n      <td>rx</td>\n      <td>tetracycline</td>\n      <td>tetracycline</td>\n      <td>tetracyclines</td>\n      <td></td>\n      <td>d</td>\n      <td>n</td>\n    </tr>\n    <tr>\n      <th>91</th>\n      <td>acne</td>\n      <td>acne vulgaris|blackheads|breakouts|cystic acne...</td>\n      <td>rx</td>\n      <td>sulfamethoxazole|trimethoprim</td>\n      <td>sulfamethoxazole/trimethoprim</td>\n      <td>sulfonamides</td>\n      <td>bactrim|bactrim ds|bactrim i.v.|septra i.v.|sm...</td>\n      <td>d</td>\n      <td>n</td>\n    </tr>\n  </tbody>\n</table>\n</div>"
     },
     "execution_count": 2,
     "metadata": {},
     "output_type": "execute_result"
    }
   ],
   "source": [
    "# drop rows with only OTC\n",
    "df_rx = df[df[\"RX/OTC\"] != 'otc']\n",
    "df_rx[80:90]"
   ]
  },
  {
   "cell_type": "code",
   "execution_count": 3,
   "metadata": {},
   "outputs": [
    {
     "data": {
      "text/plain": "['acne vulgaris|blackheads|breakouts|cystic acne|pimples|whiteheads|zits',\n 'acne vulgaris|blackheads|breakouts|cystic acne|pimples|whiteheads|zits',\n 'acne vulgaris|blackheads|breakouts|cystic acne|pimples|whiteheads|zits',\n 'acne vulgaris|blackheads|breakouts|cystic acne|pimples|whiteheads|zits',\n 'acne vulgaris|blackheads|breakouts|cystic acne|pimples|whiteheads|zits',\n 'acne vulgaris|blackheads|breakouts|cystic acne|pimples|whiteheads|zits',\n 'acne vulgaris|blackheads|breakouts|cystic acne|pimples|whiteheads|zits',\n 'acne vulgaris|blackheads|breakouts|cystic acne|pimples|whiteheads|zits',\n 'acne vulgaris|blackheads|breakouts|cystic acne|pimples|whiteheads|zits',\n 'acne vulgaris|blackheads|breakouts|cystic acne|pimples|whiteheads|zits']"
     },
     "execution_count": 3,
     "metadata": {},
     "output_type": "execute_result"
    }
   ],
   "source": [
    "# A disease name may have several other names.\n",
    "# Put all names together ina. list\n",
    "# get rid of white spaces and punctuations\n",
    "# lowercase\n",
    "\n",
    "import ast\n",
    "import numpy as np\n",
    "\n",
    "other_names = df_rx[\"other names\"].to_list()\n",
    "other_names[80:90]"
   ]
  },
  {
   "cell_type": "code",
   "execution_count": 4,
   "outputs": [],
   "source": [
    "all_names = []\n",
    "\n",
    "name = df_rx[\"disease name\"].to_list()\n",
    "for i in range((len(name))):\n",
    "    new_line = []\n",
    "    # add the disease name\n",
    "    new_line.append(name[i])\n",
    "    \n",
    "    # see of the disease have other names\n",
    "    if other_names[i]:\n",
    "        other_names_list = other_names[i].split(\"|\")\n",
    "\n",
    "        new_line += other_names_list\n",
    "\n",
    "    all_names.append(new_line)"
   ],
   "metadata": {
    "collapsed": false,
    "pycharm": {
     "name": "#%%\n"
    }
   }
  },
  {
   "cell_type": "code",
   "execution_count": 5,
   "outputs": [
    {
     "data": {
      "text/plain": "[['chronic myelogenous leukemia',\n  'cancerchronic myelogenous leukemia',\n  'chronic granulocytic leukemia',\n  'cml',\n  'leukemiachronic granulocytic'],\n ['chronic myelogenous leukemia',\n  'cancerchronic myelogenous leukemia',\n  'chronic granulocytic leukemia',\n  'cml',\n  'leukemiachronic granulocytic'],\n ['chronic myelogenous leukemia',\n  'cancerchronic myelogenous leukemia',\n  'chronic granulocytic leukemia',\n  'cml',\n  'leukemiachronic granulocytic'],\n ['chronic myelogenous leukemia',\n  'cancerchronic myelogenous leukemia',\n  'chronic granulocytic leukemia',\n  'cml',\n  'leukemiachronic granulocytic'],\n ['chronic myelogenous leukemia',\n  'cancerchronic myelogenous leukemia',\n  'chronic granulocytic leukemia',\n  'cml',\n  'leukemiachronic granulocytic'],\n ['chronic myelogenous leukemia',\n  'cancerchronic myelogenous leukemia',\n  'chronic granulocytic leukemia',\n  'cml',\n  'leukemiachronic granulocytic'],\n ['chronic myelogenous leukemia',\n  'cancerchronic myelogenous leukemia',\n  'chronic granulocytic leukemia',\n  'cml',\n  'leukemiachronic granulocytic'],\n ['chronic myelogenous leukemia',\n  'cancerchronic myelogenous leukemia',\n  'chronic granulocytic leukemia',\n  'cml',\n  'leukemiachronic granulocytic'],\n ['chronic myelogenous leukemia',\n  'cancerchronic myelogenous leukemia',\n  'chronic granulocytic leukemia',\n  'cml',\n  'leukemiachronic granulocytic'],\n ['chronic myelogenous leukemia',\n  'cancerchronic myelogenous leukemia',\n  'chronic granulocytic leukemia',\n  'cml',\n  'leukemiachronic granulocytic'],\n ['chronic myelogenous leukemia',\n  'cancerchronic myelogenous leukemia',\n  'chronic granulocytic leukemia',\n  'cml',\n  'leukemiachronic granulocytic'],\n ['chronic myelogenous leukemia',\n  'cancerchronic myelogenous leukemia',\n  'chronic granulocytic leukemia',\n  'cml',\n  'leukemiachronic granulocytic'],\n ['chronic myelogenous leukemia',\n  'cancerchronic myelogenous leukemia',\n  'chronic granulocytic leukemia',\n  'cml',\n  'leukemiachronic granulocytic'],\n ['chronic myelogenous leukemia',\n  'cancerchronic myelogenous leukemia',\n  'chronic granulocytic leukemia',\n  'cml',\n  'leukemiachronic granulocytic'],\n ['chronic myelogenous leukemia',\n  'cancerchronic myelogenous leukemia',\n  'chronic granulocytic leukemia',\n  'cml',\n  'leukemiachronic granulocytic'],\n ['chronic myelogenous leukemia',\n  'cancerchronic myelogenous leukemia',\n  'chronic granulocytic leukemia',\n  'cml',\n  'leukemiachronic granulocytic'],\n ['chronic myelogenous leukemia',\n  'cancerchronic myelogenous leukemia',\n  'chronic granulocytic leukemia',\n  'cml',\n  'leukemiachronic granulocytic'],\n ['chronic myelogenous leukemia',\n  'cancerchronic myelogenous leukemia',\n  'chronic granulocytic leukemia',\n  'cml',\n  'leukemiachronic granulocytic'],\n ['chronic myelogenous leukemia',\n  'cancerchronic myelogenous leukemia',\n  'chronic granulocytic leukemia',\n  'cml',\n  'leukemiachronic granulocytic'],\n ['chronic myelogenous leukemia',\n  'cancerchronic myelogenous leukemia',\n  'chronic granulocytic leukemia',\n  'cml',\n  'leukemiachronic granulocytic'],\n ['chronic myelogenous leukemia',\n  'cancerchronic myelogenous leukemia',\n  'chronic granulocytic leukemia',\n  'cml',\n  'leukemiachronic granulocytic'],\n ['chronic myelogenous leukemia',\n  'cancerchronic myelogenous leukemia',\n  'chronic granulocytic leukemia',\n  'cml',\n  'leukemiachronic granulocytic'],\n ['chronic myofascial pain',\n  'cmp',\n  'mps',\n  'myofascial pain syndrome',\n  'myofascial syndrome'],\n ['chronic myofascial pain',\n  'cmp',\n  'mps',\n  'myofascial pain syndrome',\n  'myofascial syndrome'],\n ['chronic myofascial pain',\n  'cmp',\n  'mps',\n  'myofascial pain syndrome',\n  'myofascial syndrome'],\n ['chronic myofascial pain',\n  'cmp',\n  'mps',\n  'myofascial pain syndrome',\n  'myofascial syndrome'],\n ['chronic myofascial pain',\n  'cmp',\n  'mps',\n  'myofascial pain syndrome',\n  'myofascial syndrome'],\n ['chronic myofascial pain',\n  'cmp',\n  'mps',\n  'myofascial pain syndrome',\n  'myofascial syndrome'],\n ['chronic myofascial pain',\n  'cmp',\n  'mps',\n  'myofascial pain syndrome',\n  'myofascial syndrome'],\n ['chronic myofascial pain',\n  'cmp',\n  'mps',\n  'myofascial pain syndrome',\n  'myofascial syndrome'],\n ['chronic myofascial pain',\n  'cmp',\n  'mps',\n  'myofascial pain syndrome',\n  'myofascial syndrome'],\n ['chronic myofascial pain',\n  'cmp',\n  'mps',\n  'myofascial pain syndrome',\n  'myofascial syndrome'],\n ['chronic myofascial pain',\n  'cmp',\n  'mps',\n  'myofascial pain syndrome',\n  'myofascial syndrome'],\n ['chronic myofascial pain',\n  'cmp',\n  'mps',\n  'myofascial pain syndrome',\n  'myofascial syndrome'],\n ['chronic myofascial pain',\n  'cmp',\n  'mps',\n  'myofascial pain syndrome',\n  'myofascial syndrome'],\n ['chronic myofascial pain',\n  'cmp',\n  'mps',\n  'myofascial pain syndrome',\n  'myofascial syndrome'],\n ['chronic myofascial pain',\n  'cmp',\n  'mps',\n  'myofascial pain syndrome',\n  'myofascial syndrome'],\n ['chronic myofascial pain',\n  'cmp',\n  'mps',\n  'myofascial pain syndrome',\n  'myofascial syndrome'],\n ['chronic myofascial pain',\n  'cmp',\n  'mps',\n  'myofascial pain syndrome',\n  'myofascial syndrome'],\n ['chronic myofascial pain',\n  'cmp',\n  'mps',\n  'myofascial pain syndrome',\n  'myofascial syndrome'],\n ['chronic myofascial pain',\n  'cmp',\n  'mps',\n  'myofascial pain syndrome',\n  'myofascial syndrome'],\n ['chronic myofascial pain',\n  'cmp',\n  'mps',\n  'myofascial pain syndrome',\n  'myofascial syndrome'],\n ['chronic myofascial pain',\n  'cmp',\n  'mps',\n  'myofascial pain syndrome',\n  'myofascial syndrome'],\n ['chronic myofascial pain',\n  'cmp',\n  'mps',\n  'myofascial pain syndrome',\n  'myofascial syndrome'],\n ['chronic myofascial pain',\n  'cmp',\n  'mps',\n  'myofascial pain syndrome',\n  'myofascial syndrome'],\n ['chronic myofascial pain',\n  'cmp',\n  'mps',\n  'myofascial pain syndrome',\n  'myofascial syndrome'],\n ['chronic myofascial pain',\n  'cmp',\n  'mps',\n  'myofascial pain syndrome',\n  'myofascial syndrome'],\n ['chronic obstructive pulmonary disease acute',\n  'chronic obstructive pulmonary diseaseacute'],\n ['chronic obstructive pulmonary disease acute',\n  'chronic obstructive pulmonary diseaseacute'],\n ['chronic obstructive pulmonary disease acute',\n  'chronic obstructive pulmonary diseaseacute'],\n ['chronic obstructive pulmonary disease acute',\n  'chronic obstructive pulmonary diseaseacute'],\n ['chronic obstructive pulmonary disease acute',\n  'chronic obstructive pulmonary diseaseacute'],\n ['chronic obstructive pulmonary disease acute',\n  'chronic obstructive pulmonary diseaseacute'],\n ['chronic obstructive pulmonary disease acute',\n  'chronic obstructive pulmonary diseaseacute'],\n ['chronic obstructive pulmonary disease acute',\n  'chronic obstructive pulmonary diseaseacute'],\n ['chronic obstructive pulmonary disease acute',\n  'chronic obstructive pulmonary diseaseacute'],\n ['chronic obstructive pulmonary disease acute',\n  'chronic obstructive pulmonary diseaseacute'],\n ['chronic obstructive pulmonary disease acute',\n  'chronic obstructive pulmonary diseaseacute'],\n ['chronic obstructive pulmonary disease acute',\n  'chronic obstructive pulmonary diseaseacute'],\n ['chronic obstructive pulmonary disease acute',\n  'chronic obstructive pulmonary diseaseacute']]"
     },
     "execution_count": 5,
     "metadata": {},
     "output_type": "execute_result"
    }
   ],
   "source": [
    "all_names[2620:2680]"
   ],
   "metadata": {
    "collapsed": false,
    "pycharm": {
     "name": "#%%\n"
    }
   }
  },
  {
   "cell_type": "code",
   "execution_count": 6,
   "metadata": {},
   "outputs": [],
   "source": [
    "def _unique(lst):\n",
    "    \"\"\"returns a list with unique values\"\"\"\n",
    "    return list(np.unique(np.array(lst)))"
   ]
  },
  {
   "cell_type": "code",
   "execution_count": 7,
   "outputs": [
    {
     "name": "stderr",
     "output_type": "stream",
     "text": [
      "/Users/neneko/Documents/GitHub/PubHealthData/drug-disease/venv/lib/python3.7/site-packages/ipykernel_launcher.py:3: VisibleDeprecationWarning: Creating an ndarray from ragged nested sequences (which is a list-or-tuple of lists-or-tuples-or ndarrays with different lengths or shapes) is deprecated. If you meant to do this, you must specify 'dtype=object' when creating the ndarray\n",
      "  This is separate from the ipykernel package so we can avoid doing imports until\n"
     ]
    },
    {
     "data": {
      "text/plain": "[['abdominal distension', 'abdominal bloating', 'bloating', 'meteorism'],\n ['abdominal distension prior to abdominal x ray'],\n ['abdominal radiological procedure', 'abdominal radiological procedures'],\n ['abnormal uterine bleeding',\n  'bleedingdysfunctional uterine',\n  'dub',\n  'dysfunctional uterine bleeding'],\n ['abortion', 'complete abortion'],\n ['acetaminophen overdose', 'acetaminophen toxicity'],\n ['acidosis', 'acidosislactic', 'acidosisrespiratory'],\n ['acne',\n  'acne vulgaris',\n  'blackheads',\n  'breakouts',\n  'cystic acne',\n  'pimples',\n  'whiteheads',\n  'zits'],\n ['acne rosacea', 'acne rosacea'],\n ['acromegaly'],\n ['actinic keratosis'],\n ['actinomycosis', 'lumpy jaw'],\n ['acute coronary syndrome'],\n ['acute coronary syndrome prophylaxis'],\n ['acute gout'],\n ['acute lymphoblastic leukemia'],\n ['acute lymphocytic leukemia',\n  'acute childhood leukemia',\n  'all leukemia',\n  'canceracute childhood leukemia',\n  'canceracute lymphocytic leukemia',\n  'leukemiaacute childhood',\n  'leukemiaacute lymphocytic'],\n ['acute mountain sickness'],\n ['acute myeloblastic leukemia'],\n ['acute myeloid leukemia',\n  'acute granulocytic leukemia',\n  'acute myelogenous leukemia',\n  'aml',\n  'canceracute granulocytic leukemia',\n  'canceracute myelogenous leukemia',\n  'canceracute myeloid leukemia',\n  'leukemiaacute granulocytic',\n  'leukemiaacute myelogenous',\n  'leukemiaacute myeloid'],\n ['acute nonlymphocytic leukemia'],\n ['acute otitis externa',\n  'ear infectionacute outer',\n  'otitis externaacute',\n  \"swimmer's earacute\"],\n ['acute promyelocytic leukemia',\n  'canceracute promyelocytic leukemia',\n  'leukemiaacute promyelocytic'],\n ['adams stokes syndrome'],\n [\"addison's disease\", 'primary adrenocortical insufficiency'],\n ['adenosine deaminase deficiency', 'ada deficiency'],\n ['adenovirus prophylaxis'],\n ['adjunct to antibiotic therapy'],\n ['adrenal cortical carcinoma'],\n ['adrenal insufficiency',\n  'adrenal crisisacute',\n  'adrenal failure',\n  'adrenal insufficiencyexogenous'],\n ['adrenocortical insufficiency'],\n ['adrenogenital syndrome',\n  '21-hydroxylase deficiency',\n  'congenital adrenal hyperplasia'],\n ['adult human growth hormone deficiency'],\n ['aggressive behavior'],\n ['agitated state'],\n ['agitation'],\n ['agoraphobia'],\n ['akathisia'],\n ['alcohol dependence'],\n ['alcohol withdrawal',\n  'alcohol withdrawal delirium',\n  'delirium tremens',\n  \"dt's\"],\n ['alcoholic liver damage',\n  'alcoholic fatty liver disease',\n  'alcoholic liver disease'],\n ['alcoholism', 'alcohol use disorder', 'aud'],\n ['alkalosis', 'alkalosisrespiratory', 'metabolic alkalosis'],\n ['alkylating agent cystitis',\n  'abacterial cystitis',\n  'chemical cystitis',\n  'cystitisnoninfectious',\n  'radiation cystitis',\n  'urethral syndromeacute'],\n ['allergic asthma', 'asthmaallergic'],\n ['allergic conjunctivitis',\n  'allergic conjunctivitis',\n  'conjunctivitidesallergic'],\n ['allergic reaction', 'allergic drug reaction'],\n ['allergic rhinitis', 'hay fever', 'nasal allergies'],\n ['allergic urticaria'],\n ['allergies', 'allergy', 'dust mite allergy'],\n ['alopecia',\n  'alopecia areata',\n  'balding',\n  'baldness',\n  'baldnessfemale pattern',\n  'hair loss'],\n ['alpha 1 proteinase inhibitor deficiency', 'alpha-1 antitrypsin deficiency'],\n ['alport syndrome', 'hemorrhagic familial nephritis', 'hereditary nephritis'],\n [\"alzheimer's disease\",\n  'presenile dementia',\n  'sdat',\n  \"senile dementia alzheimer's type\"],\n ['amebiasis',\n  'amebic dysentery',\n  'amoebic infection',\n  'infectionamoebic',\n  'intestinal amebiasis'],\n ['amenorrhea', 'amenorrheaprimary', 'amenorrhoeasecondary'],\n ['amyloid cardiomyopathy',\n  'cardiomyopathy of transthyretin-mediated amyloidosis'],\n ['amyloidogenic transthyretin amyloidosis',\n  'transthyretin-related amyloidosis'],\n ['amyloidosis', 'amyloidosisprimary', 'amyloidosissecondary systemic'],\n ['amyotrophic lateral sclerosis',\n  'als',\n  \"lou gehrig's disease\",\n  'motor neurone disease'],\n ['anal cancer', 'canceranal'],\n ['anal fissure/fistula', 'anal fissure', 'anal fistula'],\n ['anal itching', 'pruritus ani'],\n ['anaphylaxis',\n  'anaphylactic reaction',\n  'anaphylactic shock',\n  'shockanaphylactic'],\n ['anaplastic astrocytoma'],\n ['anaplastic oligodendroglioma'],\n ['androgenetic alopecia', 'baldnessmale', 'male pattern baldness'],\n ['anemia'],\n ['anemia associated with chemotherapy'],\n ['anemia associated with chronic renal failure'],\n ['anemia associated with iron deficiency'],\n ['anemia associated with zidovudine',\n  'anemia associated with zidovudine',\n  'anemiadrug-induced immune hemolytic'],\n ['anemia prior to surgery'],\n ['anesthesia'],\n ['anesthesia adjunct'],\n ['angina pectoris',\n  'accelerating angina',\n  'angina pectoris',\n  'anginachronic',\n  'anginastable',\n  'anginaunstable',\n  'heart pains',\n  'new-onset angina',\n  'progressive angina',\n  'stable angina',\n  'unstable angina'],\n ['angina pectoris prophylaxis'],\n ['angioblastoma'],\n ['angiocardiography'],\n ['angioedema', 'angioneurotic edema', 'welts'],\n ['angiostrongylosis'],\n ['ankylosing spondylitis'],\n ['anorexia'],\n ['anorexia feeding problems'],\n ['anorexia nervosa', 'eating disorderanorexia', 'voluntary starvation'],\n ['anthrax prophylaxis'],\n ['anti inflammatory'],\n ['anti nmda receptor encephalitis'],\n ['anticholinergic syndrome'],\n ['anticholinesterase overdose'],\n ['anticholinesterase poisoning'],\n ['anticoagulation during pregnancy'],\n ['antiphospholipid syndrome',\n  'antiphospholipid antibody syndrome',\n  'aps',\n  \"hughes' syndrome\"],\n ['antithrombin iii deficiency'],\n ['anxiety', 'anxiety states', 'nerves', 'nervousness'],\n ['anxiety stress', 'acute stress reaction', 'stress'],\n ['aortic aneurysm', 'thoracic aortic aneurysm'],\n ['aortic stenosis', 'aortic valve stenosis'],\n ['aortography'],\n ['aphthous stomatitis recurrent']]"
     },
     "execution_count": 7,
     "metadata": {},
     "output_type": "execute_result"
    }
   ],
   "source": [
    "# to see how many unique ones we got\n",
    "unique_all_names = _unique(all_names)\n",
    "unique_all_names[:100]"
   ],
   "metadata": {
    "collapsed": false,
    "pycharm": {
     "name": "#%%\n"
    }
   }
  },
  {
   "cell_type": "code",
   "execution_count": 8,
   "outputs": [
    {
     "data": {
      "text/plain": "1493"
     },
     "execution_count": 8,
     "metadata": {},
     "output_type": "execute_result"
    }
   ],
   "source": [
    "len(unique_all_names)"
   ],
   "metadata": {
    "collapsed": false,
    "pycharm": {
     "name": "#%%\n"
    }
   }
  },
  {
   "cell_type": "code",
   "execution_count": 9,
   "metadata": {},
   "outputs": [
    {
     "data": {
      "text/plain": "  icd10cm                            icd10cm_str phecode  \\\n0     001                                Cholera     008   \n1   001.0         Cholera due to Vibrio cholerae     008   \n2   001.1  Cholera due to Vibrio cholerae el tor     008   \n3   001.9                            Cholera NOS     008   \n4     002         Typhoid and paratyphoid fevers     008   \n5   002.0                          Typhoid fever   008.5   \n6   002.1                    Paratyphoid fever A     008   \n7   002.2                    Paratyphoid fever B     008   \n8   002.3                    Paratyphoid fever C     008   \n9   002.9                  Paratyphoid fever NOS     008   \n\n            phecode_str version  \n0  Intestinal infection       9  \n1  Intestinal infection       9  \n2  Intestinal infection       9  \n3  Intestinal infection       9  \n4  Intestinal infection       9  \n5   Bacterial enteritis       9  \n6  Intestinal infection       9  \n7  Intestinal infection       9  \n8  Intestinal infection       9  \n9  Intestinal infection       9  ",
      "text/html": "<div>\n<style scoped>\n    .dataframe tbody tr th:only-of-type {\n        vertical-align: middle;\n    }\n\n    .dataframe tbody tr th {\n        vertical-align: top;\n    }\n\n    .dataframe thead th {\n        text-align: right;\n    }\n</style>\n<table border=\"1\" class=\"dataframe\">\n  <thead>\n    <tr style=\"text-align: right;\">\n      <th></th>\n      <th>icd10cm</th>\n      <th>icd10cm_str</th>\n      <th>phecode</th>\n      <th>phecode_str</th>\n      <th>version</th>\n    </tr>\n  </thead>\n  <tbody>\n    <tr>\n      <th>0</th>\n      <td>001</td>\n      <td>Cholera</td>\n      <td>008</td>\n      <td>Intestinal infection</td>\n      <td>9</td>\n    </tr>\n    <tr>\n      <th>1</th>\n      <td>001.0</td>\n      <td>Cholera due to Vibrio cholerae</td>\n      <td>008</td>\n      <td>Intestinal infection</td>\n      <td>9</td>\n    </tr>\n    <tr>\n      <th>2</th>\n      <td>001.1</td>\n      <td>Cholera due to Vibrio cholerae el tor</td>\n      <td>008</td>\n      <td>Intestinal infection</td>\n      <td>9</td>\n    </tr>\n    <tr>\n      <th>3</th>\n      <td>001.9</td>\n      <td>Cholera NOS</td>\n      <td>008</td>\n      <td>Intestinal infection</td>\n      <td>9</td>\n    </tr>\n    <tr>\n      <th>4</th>\n      <td>002</td>\n      <td>Typhoid and paratyphoid fevers</td>\n      <td>008</td>\n      <td>Intestinal infection</td>\n      <td>9</td>\n    </tr>\n    <tr>\n      <th>5</th>\n      <td>002.0</td>\n      <td>Typhoid fever</td>\n      <td>008.5</td>\n      <td>Bacterial enteritis</td>\n      <td>9</td>\n    </tr>\n    <tr>\n      <th>6</th>\n      <td>002.1</td>\n      <td>Paratyphoid fever A</td>\n      <td>008</td>\n      <td>Intestinal infection</td>\n      <td>9</td>\n    </tr>\n    <tr>\n      <th>7</th>\n      <td>002.2</td>\n      <td>Paratyphoid fever B</td>\n      <td>008</td>\n      <td>Intestinal infection</td>\n      <td>9</td>\n    </tr>\n    <tr>\n      <th>8</th>\n      <td>002.3</td>\n      <td>Paratyphoid fever C</td>\n      <td>008</td>\n      <td>Intestinal infection</td>\n      <td>9</td>\n    </tr>\n    <tr>\n      <th>9</th>\n      <td>002.9</td>\n      <td>Paratyphoid fever NOS</td>\n      <td>008</td>\n      <td>Intestinal infection</td>\n      <td>9</td>\n    </tr>\n  </tbody>\n</table>\n</div>"
     },
     "execution_count": 9,
     "metadata": {},
     "output_type": "execute_result"
    }
   ],
   "source": [
    "# create a dictionary from icd code\n",
    "icd_df = pd.read_csv(\"../mapping data/icd_merged_result.csv\", encoding = \"latin\", dtype=\"str\")\n",
    "icd_df[:10]"
   ]
  },
  {
   "cell_type": "code",
   "execution_count": 10,
   "metadata": {},
   "outputs": [],
   "source": [
    "# lowercase\n",
    "icdcm_str = icd_df[\"icd10cm_str\"].apply(lambda x: x.lower()).to_list()\n",
    "phecode = icd_df[\"phecode\"].to_list()"
   ]
  },
  {
   "cell_type": "code",
   "execution_count": 11,
   "outputs": [],
   "source": [
    "# create a dictionary\n",
    "icd_phecode_dict = dict(zip(icdcm_str, phecode))"
   ],
   "metadata": {
    "collapsed": false,
    "pycharm": {
     "name": "#%%\n"
    }
   }
  },
  {
   "cell_type": "code",
   "execution_count": 12,
   "outputs": [
    {
     "data": {
      "text/plain": "'008'"
     },
     "execution_count": 12,
     "metadata": {},
     "output_type": "execute_result"
    }
   ],
   "source": [
    "# check\n",
    "icd_phecode_dict[\"cholera\"]\n"
   ],
   "metadata": {
    "collapsed": false,
    "pycharm": {
     "name": "#%%\n"
    }
   }
  },
  {
   "cell_type": "code",
   "execution_count": 13,
   "metadata": {},
   "outputs": [
    {
     "data": {
      "text/plain": "14624"
     },
     "execution_count": 13,
     "metadata": {},
     "output_type": "execute_result"
    }
   ],
   "source": [
    "len(all_names)\n"
   ]
  },
  {
   "cell_type": "code",
   "execution_count": 14,
   "outputs": [],
   "source": [
    "# Map the disease names to phecodes\n",
    "# track how many unique disease are mapped\n",
    "mapped_count = 0\n",
    "phecodes = []\n",
    "prev_disease = []\n",
    "i = 0 # for tracking indices\n",
    "# prev_disease = []\n",
    "for disease in all_names:\n",
    "    cur_phecodes = []\n",
    "    for name in disease:\n",
    "        if name in icd_phecode_dict:\n",
    "             cur_phecodes.append(icd_phecode_dict[name])\n",
    "\n",
    "    cur_phecodes = _unique(cur_phecodes)\n",
    "    \n",
    "    if cur_phecodes and disease != prev_disease:\n",
    "        mapped_count += 1\n",
    "\n",
    "    # if len(cur_phecodes) >1:\n",
    "    #     print(i)\n",
    "        \n",
    "    phecodes.append(\"|\".join(cur_phecodes))\n",
    "    i += 1\n",
    "    prev_disease = disease\n"
   ],
   "metadata": {
    "collapsed": false,
    "pycharm": {
     "name": "#%%\n"
    }
   }
  },
  {
   "cell_type": "markdown",
   "metadata": {},
   "source": [
    "#### The mapping rate for exact mappingg"
   ]
  },
  {
   "cell_type": "code",
   "execution_count": 15,
   "metadata": {},
   "outputs": [
    {
     "name": "stderr",
     "output_type": "stream",
     "text": [
      "/Users/neneko/Documents/GitHub/PubHealthData/drug-disease/venv/lib/python3.7/site-packages/ipykernel_launcher.py:3: VisibleDeprecationWarning: Creating an ndarray from ragged nested sequences (which is a list-or-tuple of lists-or-tuples-or ndarrays with different lengths or shapes) is deprecated. If you meant to do this, you must specify 'dtype=object' when creating the ndarray\n",
      "  This is separate from the ipykernel package so we can avoid doing imports until\n"
     ]
    },
    {
     "data": {
      "text/plain": "0.2732752846617549"
     },
     "execution_count": 15,
     "metadata": {},
     "output_type": "execute_result"
    }
   ],
   "source": [
    "mapping_rate_exact = mapped_count/len(_unique(all_names))\n",
    "mapping_rate_exact"
   ]
  },
  {
   "cell_type": "code",
   "execution_count": 16,
   "outputs": [],
   "source": [
    "# # store the exactly mapped data\n",
    "# exact_mapping = pd.DataFrame()\n",
    "# exact_mapping[\"disease name\"] = df[\"disease name\"].to_list()\n",
    "# exact_mapping[\"all names\"] = all_names\n",
    "# exact_mapping[\"all names\"] = exact_mapping[\"all names\"].apply(lambda x: \"|\".join(x))\n",
    "#\n",
    "# exact_mapping[\"generic name\"] = df[\"generic name\"].to_list()\n",
    "# exact_mapping[\"generic name\"] = exact_mapping[\"generic name\"].apply(lambda x: \"|\".join(ast.literal_eval(x)))\n",
    "#\n",
    "# exact_mapping[\"PheCode\"] = phecodes\n",
    "# exact_mapping[\"PheCode\"] = exact_mapping[\"PheCode\"].apply(lambda x: \"|\".join(x))\n",
    "#\n",
    "# #get rid of ones with no generic names\n",
    "# exact_mapping = exact_mapping[exact_mapping[\"generic name\"] != '[]']\n",
    "# exact_mapping[:10]"
   ],
   "metadata": {
    "collapsed": false,
    "pycharm": {
     "name": "#%%\n"
    }
   }
  },
  {
   "cell_type": "code",
   "execution_count": 17,
   "outputs": [
    {
     "name": "stderr",
     "output_type": "stream",
     "text": [
      "/Users/neneko/Documents/GitHub/PubHealthData/drug-disease/venv/lib/python3.7/site-packages/ipykernel_launcher.py:3: SettingWithCopyWarning: \n",
      "A value is trying to be set on a copy of a slice from a DataFrame.\n",
      "Try using .loc[row_indexer,col_indexer] = value instead\n",
      "\n",
      "See the caveats in the documentation: https://pandas.pydata.org/pandas-docs/stable/user_guide/indexing.html#returning-a-view-versus-a-copy\n",
      "  This is separate from the ipykernel package so we can avoid doing imports until\n"
     ]
    }
   ],
   "source": [
    "# Add the mapped phecodes to the data\n",
    "\n",
    "df_rx[\"exact_pheCodes\"] = phecodes"
   ],
   "metadata": {
    "collapsed": false,
    "pycharm": {
     "name": "#%%\n"
    }
   }
  },
  {
   "cell_type": "code",
   "execution_count": 18,
   "metadata": {},
   "outputs": [
    {
     "data": {
      "text/plain": "             disease name                                        other names  \\\n4711        endometriosis                                                      \n4712        endometriosis                                                      \n4713        endometriosis                                                      \n4714        endometriosis                                                      \n4715        endometriosis                                                      \n...                   ...                                                ...   \n5172  febrile neutropenia                                                      \n5173  febrile neutropenia                                                      \n5174   fecal incontinence  accidental bowel leakage|anal incontinence|bow...   \n5175     felty's syndrome                                                      \n5176   female infertility                                                      \n\n     RX/OTC                              drug  \\\n4711     rx                           danazol   \n4712     rx                          sprintec   \n4713     rx  ethinyl estradiol|levonorgestrel   \n4714     rx                          orilissa   \n4715     rx        depo-provera contraceptive   \n...     ...                               ...   \n5172     rx               cilastatin|imipenem   \n5173     rx                          cipro xr   \n5174     rx    dextranomer|sodium hyaluronate   \n5175     rx                         auranofin   \n5176     rx                         metformin   \n\n                          generic name  \\\n4711                           danazol   \n4712    ethinyl estradiol/norgestimate   \n4713  ethinyl estradiol/levonorgestrel   \n4714                          elagolix   \n4715               medroxyprogesterone   \n...                                ...   \n5172               imipenem/cilastatin   \n5173                                     \n5174    dextranomer/sodium hyaluronate   \n5175                         auranofin   \n5176                                     \n\n                                      drug class  \\\n4711                     antigonadotropic-agents   \n4712                              contraceptives   \n4713                              contraceptives   \n4714  gonadotropin-releasing-hormone-antagonists   \n4715                              contraceptives   \n...                                          ...   \n5172                                 carbapenems   \n5173                                  quinolones   \n5174          miscellaneous-uncategorized-agents   \n5175                              antirheumatics   \n5176                           non-sulfonylureas   \n\n                                            brand names pregnancy label  \\\n4711                                          danocrine               x   \n4712  estarylla|femynor|mono-linyah|mononessa|ortho ...               x   \n4713  amethyst|aviane|balcoltra|falmina|levlen|lillo...               x   \n4714                                                                      \n4715  depo-provera|depo-provera contraceptive|depo-s...               x   \n...                                                 ...             ...   \n5172    primaxin iv|primaxin im|primaxin iv add-vantage               c   \n5173                                                                  c   \n5174                                            solesta               n   \n5175                                            ridaura               c   \n5176                                                                  b   \n\n     CSA label exact_pheCodes  \n4711         n            615  \n4712         n            615  \n4713         n            615  \n4714         n            615  \n4715         n            615  \n...        ...            ...  \n5172         n                 \n5173         n                 \n5174         n            561  \n5175         n          714.1  \n5176         n          626.8  \n\n[450 rows x 10 columns]",
      "text/html": "<div>\n<style scoped>\n    .dataframe tbody tr th:only-of-type {\n        vertical-align: middle;\n    }\n\n    .dataframe tbody tr th {\n        vertical-align: top;\n    }\n\n    .dataframe thead th {\n        text-align: right;\n    }\n</style>\n<table border=\"1\" class=\"dataframe\">\n  <thead>\n    <tr style=\"text-align: right;\">\n      <th></th>\n      <th>disease name</th>\n      <th>other names</th>\n      <th>RX/OTC</th>\n      <th>drug</th>\n      <th>generic name</th>\n      <th>drug class</th>\n      <th>brand names</th>\n      <th>pregnancy label</th>\n      <th>CSA label</th>\n      <th>exact_pheCodes</th>\n    </tr>\n  </thead>\n  <tbody>\n    <tr>\n      <th>4711</th>\n      <td>endometriosis</td>\n      <td></td>\n      <td>rx</td>\n      <td>danazol</td>\n      <td>danazol</td>\n      <td>antigonadotropic-agents</td>\n      <td>danocrine</td>\n      <td>x</td>\n      <td>n</td>\n      <td>615</td>\n    </tr>\n    <tr>\n      <th>4712</th>\n      <td>endometriosis</td>\n      <td></td>\n      <td>rx</td>\n      <td>sprintec</td>\n      <td>ethinyl estradiol/norgestimate</td>\n      <td>contraceptives</td>\n      <td>estarylla|femynor|mono-linyah|mononessa|ortho ...</td>\n      <td>x</td>\n      <td>n</td>\n      <td>615</td>\n    </tr>\n    <tr>\n      <th>4713</th>\n      <td>endometriosis</td>\n      <td></td>\n      <td>rx</td>\n      <td>ethinyl estradiol|levonorgestrel</td>\n      <td>ethinyl estradiol/levonorgestrel</td>\n      <td>contraceptives</td>\n      <td>amethyst|aviane|balcoltra|falmina|levlen|lillo...</td>\n      <td>x</td>\n      <td>n</td>\n      <td>615</td>\n    </tr>\n    <tr>\n      <th>4714</th>\n      <td>endometriosis</td>\n      <td></td>\n      <td>rx</td>\n      <td>orilissa</td>\n      <td>elagolix</td>\n      <td>gonadotropin-releasing-hormone-antagonists</td>\n      <td></td>\n      <td></td>\n      <td>n</td>\n      <td>615</td>\n    </tr>\n    <tr>\n      <th>4715</th>\n      <td>endometriosis</td>\n      <td></td>\n      <td>rx</td>\n      <td>depo-provera contraceptive</td>\n      <td>medroxyprogesterone</td>\n      <td>contraceptives</td>\n      <td>depo-provera|depo-provera contraceptive|depo-s...</td>\n      <td>x</td>\n      <td>n</td>\n      <td>615</td>\n    </tr>\n    <tr>\n      <th>...</th>\n      <td>...</td>\n      <td>...</td>\n      <td>...</td>\n      <td>...</td>\n      <td>...</td>\n      <td>...</td>\n      <td>...</td>\n      <td>...</td>\n      <td>...</td>\n      <td>...</td>\n    </tr>\n    <tr>\n      <th>5172</th>\n      <td>febrile neutropenia</td>\n      <td></td>\n      <td>rx</td>\n      <td>cilastatin|imipenem</td>\n      <td>imipenem/cilastatin</td>\n      <td>carbapenems</td>\n      <td>primaxin iv|primaxin im|primaxin iv add-vantage</td>\n      <td>c</td>\n      <td>n</td>\n      <td></td>\n    </tr>\n    <tr>\n      <th>5173</th>\n      <td>febrile neutropenia</td>\n      <td></td>\n      <td>rx</td>\n      <td>cipro xr</td>\n      <td></td>\n      <td>quinolones</td>\n      <td></td>\n      <td>c</td>\n      <td>n</td>\n      <td></td>\n    </tr>\n    <tr>\n      <th>5174</th>\n      <td>fecal incontinence</td>\n      <td>accidental bowel leakage|anal incontinence|bow...</td>\n      <td>rx</td>\n      <td>dextranomer|sodium hyaluronate</td>\n      <td>dextranomer/sodium hyaluronate</td>\n      <td>miscellaneous-uncategorized-agents</td>\n      <td>solesta</td>\n      <td>n</td>\n      <td>n</td>\n      <td>561</td>\n    </tr>\n    <tr>\n      <th>5175</th>\n      <td>felty's syndrome</td>\n      <td></td>\n      <td>rx</td>\n      <td>auranofin</td>\n      <td>auranofin</td>\n      <td>antirheumatics</td>\n      <td>ridaura</td>\n      <td>c</td>\n      <td>n</td>\n      <td>714.1</td>\n    </tr>\n    <tr>\n      <th>5176</th>\n      <td>female infertility</td>\n      <td></td>\n      <td>rx</td>\n      <td>metformin</td>\n      <td></td>\n      <td>non-sulfonylureas</td>\n      <td></td>\n      <td>b</td>\n      <td>n</td>\n      <td>626.8</td>\n    </tr>\n  </tbody>\n</table>\n<p>450 rows × 10 columns</p>\n</div>"
     },
     "execution_count": 18,
     "metadata": {},
     "output_type": "execute_result"
    }
   ],
   "source": [
    "df_rx[4550:5000]"
   ]
  },
  {
   "cell_type": "code",
   "execution_count": 61,
   "outputs": [],
   "source": [
    "df_rx.to_csv(\"ouput/PheCode_rxNorm.csv\", index=False)"
   ],
   "metadata": {
    "collapsed": false,
    "pycharm": {
     "name": "#%%\n"
    }
   }
  },
  {
   "cell_type": "markdown",
   "metadata": {
    "pycharm": {
     "name": "#%% md\n"
    }
   },
   "source": [
    "## Fuzzy Matching\n",
    "1. Split each string of disease (term) in the icd-10 map and in my csv (to lists)\n",
    "    Splitting needed because 'type a' should be very different from 'type b'\n",
    "2. For each string in each list, Stem / lemmatize it\n",
    "3. Map the csv list with the icd-10 list by individual strings, calculate a score for each mapping string, add them up to be the score of a term\n",
    "4. set a threshold, and adopt mappings w/ scores above that threshold.\n",
    "5. quality control: check with excat match to see what percentage is different."
   ]
  },
  {
   "cell_type": "code",
   "execution_count": 45,
   "metadata": {
    "pycharm": {
     "name": "#%%\n"
    }
   },
   "outputs": [],
   "source": [
    "from nltk.stem import PorterStemmer\n",
    "from nltk.tokenize import word_tokenize\n",
    "ps = PorterStemmer()"
   ]
  },
  {
   "cell_type": "code",
   "execution_count": 46,
   "metadata": {
    "pycharm": {
     "name": "#%%\n"
    }
   },
   "outputs": [
    {
     "data": {
      "text/plain": "[['abdomin distens prior to abdomin x ray'],\n ['abdomin distens prior to abdomin x ray'],\n ['abdomin distens', 'abdomin bloat', 'bloat', 'meteor'],\n ['abdomin distens', 'abdomin bloat', 'bloat', 'meteor'],\n ['abdomin distens', 'abdomin bloat', 'bloat', 'meteor'],\n ['abdomin radiolog procedur', 'abdomin radiolog procedur'],\n ['abnorm uterin bleed',\n  'bleedingdysfunct uterin',\n  'dub',\n  'dysfunct uterin bleed'],\n ['abnorm uterin bleed',\n  'bleedingdysfunct uterin',\n  'dub',\n  'dysfunct uterin bleed'],\n ['abnorm uterin bleed',\n  'bleedingdysfunct uterin',\n  'dub',\n  'dysfunct uterin bleed'],\n ['abnorm uterin bleed',\n  'bleedingdysfunct uterin',\n  'dub',\n  'dysfunct uterin bleed']]"
     },
     "execution_count": 46,
     "metadata": {},
     "output_type": "execute_result"
    }
   ],
   "source": [
    "all_names_stemmed = []\n",
    "for disease in all_names:\n",
    "    disease_split = []\n",
    "    for names in disease:\n",
    "        name_list = names.split(\" \")\n",
    "\n",
    "        # stem them\n",
    "        stemmed_name_list = []\n",
    "        for name in name_list:\n",
    "            stemmed_name_list.append(ps.stem(name))\n",
    "        disease_split.append(\" \".join(stemmed_name_list))\n",
    "\n",
    "    all_names_stemmed.append(disease_split)\n",
    "\n",
    "all_names_stemmed[:10]"
   ]
  },
  {
   "cell_type": "code",
   "execution_count": 47,
   "metadata": {
    "pycharm": {
     "name": "#%%\n"
    }
   },
   "outputs": [],
   "source": [
    "# from fuzzywuzzy import fuzz\n",
    "# from fuzzywuzzy import process\n",
    "#\n",
    "# fuzz.ratio('cholera nos', \"cholera\")\n",
    "#"
   ]
  },
  {
   "cell_type": "code",
   "execution_count": 48,
   "outputs": [],
   "source": [
    "# fuzz.ratio('paratyphoid fever a', 'paratyphoid fever b')"
   ],
   "metadata": {
    "collapsed": false,
    "pycharm": {
     "name": "#%%\n"
    }
   }
  },
  {
   "cell_type": "markdown",
   "metadata": {
    "pycharm": {
     "name": "#%% md\n"
    }
   },
   "source": [
    "#### Check stemming"
   ]
  },
  {
   "cell_type": "code",
   "execution_count": 49,
   "metadata": {},
   "outputs": [],
   "source": [
    "icdcm_str_series = pd.Series(icdcm_str)\n",
    "icdcm_str_stemmed = icdcm_str_series.apply(lambda x: ps.stem(x)).to_list()"
   ]
  },
  {
   "cell_type": "code",
   "execution_count": 50,
   "outputs": [
    {
     "data": {
      "text/plain": "['cholera',\n 'cholera due to vibrio cholera',\n 'cholera due to vibrio cholerae el tor',\n 'cholera no',\n 'typhoid and paratyphoid fev',\n 'typhoid fev',\n 'paratyphoid fever a',\n 'paratyphoid fever b',\n 'paratyphoid fever c',\n 'paratyphoid fever no']"
     },
     "execution_count": 50,
     "metadata": {},
     "output_type": "execute_result"
    }
   ],
   "source": [
    "icdcm_str_stemmed[:10]"
   ],
   "metadata": {
    "collapsed": false,
    "pycharm": {
     "name": "#%%\n"
    }
   }
  },
  {
   "cell_type": "code",
   "execution_count": 51,
   "outputs": [],
   "source": [
    "icd_phecode_dict_stemmed = dict(zip(icdcm_str_stemmed, phecode))"
   ],
   "metadata": {
    "collapsed": false,
    "pycharm": {
     "name": "#%%\n"
    }
   }
  },
  {
   "cell_type": "code",
   "execution_count": 52,
   "metadata": {
    "pycharm": {
     "name": "#%%\n"
    }
   },
   "outputs": [
    {
     "data": {
      "text/plain": "'339'"
     },
     "execution_count": 52,
     "metadata": {},
     "output_type": "execute_result"
    }
   ],
   "source": [
    "icd_phecode_dict_stemmed[\"headach\"]"
   ]
  },
  {
   "cell_type": "code",
   "execution_count": 53,
   "metadata": {
    "pycharm": {
     "name": "#%%\n"
    }
   },
   "outputs": [],
   "source": [
    "# Map the disease names to phecodes\n",
    "# track how many unique disease are mapped\n",
    "mapped_num_stemmed = 0\n",
    "phecodes = []\n",
    "prev_disease = []\n",
    "i = 0 # for tracking indices\n",
    "# prev_disease = []\n",
    "for disease in all_names_stemmed:\n",
    "    cur_phecodes = []\n",
    "    for name in disease:\n",
    "        if name in icd_phecode_dict_stemmed:\n",
    "             cur_phecodes.append(icd_phecode_dict_stemmed[name])\n",
    "\n",
    "    cur_phecodes = _unique(cur_phecodes)\n",
    "\n",
    "    if len(cur_phecodes) > 0 and disease != prev_disease:\n",
    "        mapped_num_stemmed += 1\n",
    "\n",
    "    # if len(cur_phecodes) >1:\n",
    "    #     print(i)\n",
    "\n",
    "    phecodes.append(\"|\".join(cur_phecodes))\n",
    "    i += 1\n",
    "    prev_disease = disease\n"
   ]
  },
  {
   "cell_type": "code",
   "execution_count": 54,
   "metadata": {
    "pycharm": {
     "name": "#%%\n"
    }
   },
   "outputs": [
    {
     "name": "stderr",
     "output_type": "stream",
     "text": [
      "/Users/neneko/Documents/GitHub/PubHealthData/drug-disease/venv/lib/python3.7/site-packages/ipykernel_launcher.py:3: VisibleDeprecationWarning: Creating an ndarray from ragged nested sequences (which is a list-or-tuple of lists-or-tuples-or ndarrays with different lengths or shapes) is deprecated. If you meant to do this, you must specify 'dtype=object' when creating the ndarray\n",
      "  This is separate from the ipykernel package so we can avoid doing imports until\n"
     ]
    },
    {
     "data": {
      "text/plain": "0.16945746818486268"
     },
     "execution_count": 54,
     "metadata": {},
     "output_type": "execute_result"
    }
   ],
   "source": [
    "mapped_percentage_stemmed = mapped_num_stemmed/len(_unique(all_names_stemmed))\n",
    "mapped_percentage_stemmed\n"
   ]
  },
  {
   "cell_type": "code",
   "execution_count": 55,
   "outputs": [
    {
     "name": "stderr",
     "output_type": "stream",
     "text": [
      "/Users/neneko/Documents/GitHub/PubHealthData/drug-disease/venv/lib/python3.7/site-packages/ipykernel_launcher.py:1: SettingWithCopyWarning: \n",
      "A value is trying to be set on a copy of a slice from a DataFrame.\n",
      "Try using .loc[row_indexer,col_indexer] = value instead\n",
      "\n",
      "See the caveats in the documentation: https://pandas.pydata.org/pandas-docs/stable/user_guide/indexing.html#returning-a-view-versus-a-copy\n",
      "  \"\"\"Entry point for launching an IPython kernel.\n"
     ]
    }
   ],
   "source": [
    "df_rx[\"stemmed_exact_pheCodes\"] = phecodes\n",
    "df_rx.to_csv(\"data/PheCode_rxNorm.csv\")\n"
   ],
   "metadata": {
    "collapsed": false,
    "pycharm": {
     "name": "#%%\n"
    }
   }
  },
  {
   "cell_type": "markdown",
   "source": [
    "### Use the\tbroad_new_full_dict.txt data\n",
    "### Disease -> CUI "
   ],
   "metadata": {
    "collapsed": false
   }
  },
  {
   "cell_type": "code",
   "execution_count": 19,
   "metadata": {
    "pycharm": {
     "name": "#%%\n"
    }
   },
   "outputs": [
    {
     "name": "stderr",
     "output_type": "stream",
     "text": [
      "/Users/neneko/Documents/GitHub/PubHealthData/drug-disease/venv/lib/python3.7/site-packages/IPython/core/interactiveshell.py:3063: DtypeWarning: Columns (2) have mixed types.Specify dtype option on import or set low_memory=False.\n",
      "  interactivity=interactivity, compiler=compiler, result=result)\n"
     ]
    }
   ],
   "source": [
    "broad_dict_raw = pd.read_csv(\"../mapping data/broad_new_full_dict.txt\", sep=\"|\", header=None)\n",
    "\n",
    "# names columns for extracting\n",
    "broad_dict_raw.columns = [\"name\",\"1\",'2',\"cui\",'4','5'] "
   ]
  },
  {
   "cell_type": "code",
   "execution_count": 20,
   "metadata": {
    "pycharm": {
     "name": "#%%\n"
    }
   },
   "outputs": [
    {
     "data": {
      "text/plain": "                               name    1  2       cui  \\\n0   Dipalmitoyl Phosphatidylcholine  2.0  2  C0000039   \n1  Dipalmitoylglycerophosphocholine  2.0  2  C0000039   \n2               Dipalmitoyllecithin  2.0  2  C0000039   \n3                  Branching Enzyme  3.0  3  C0000052   \n4     Branching Glycosyltransferase  3.0  3  C0000052   \n5           Starch Branching Enzyme  3.0  3  C0000052   \n6      1 Alkyl 2 Acylphosphatidates  4.0  4  C0000074   \n7      1-Alkyl-2-Acylphosphatidates  4.0  4  C0000074   \n8            1 Carboxyglutamic Acid  5.0  5  C0000084   \n9            1-Carboxyglutamic Acid  5.0  5  C0000084   \n\n                                 4     5  \n0          Pharmacologic Substance  CHEM  \n1          Pharmacologic Substance  CHEM  \n2          Pharmacologic Substance  CHEM  \n3  Amino Acid, Peptide, or Protein  CHEM  \n4  Amino Acid, Peptide, or Protein  CHEM  \n5  Amino Acid, Peptide, or Protein  CHEM  \n6                            Lipid  CHEM  \n7                            Lipid  CHEM  \n8    Biologically Active Substance  CHEM  \n9    Biologically Active Substance  CHEM  ",
      "text/html": "<div>\n<style scoped>\n    .dataframe tbody tr th:only-of-type {\n        vertical-align: middle;\n    }\n\n    .dataframe tbody tr th {\n        vertical-align: top;\n    }\n\n    .dataframe thead th {\n        text-align: right;\n    }\n</style>\n<table border=\"1\" class=\"dataframe\">\n  <thead>\n    <tr style=\"text-align: right;\">\n      <th></th>\n      <th>name</th>\n      <th>1</th>\n      <th>2</th>\n      <th>cui</th>\n      <th>4</th>\n      <th>5</th>\n    </tr>\n  </thead>\n  <tbody>\n    <tr>\n      <th>0</th>\n      <td>Dipalmitoyl Phosphatidylcholine</td>\n      <td>2.0</td>\n      <td>2</td>\n      <td>C0000039</td>\n      <td>Pharmacologic Substance</td>\n      <td>CHEM</td>\n    </tr>\n    <tr>\n      <th>1</th>\n      <td>Dipalmitoylglycerophosphocholine</td>\n      <td>2.0</td>\n      <td>2</td>\n      <td>C0000039</td>\n      <td>Pharmacologic Substance</td>\n      <td>CHEM</td>\n    </tr>\n    <tr>\n      <th>2</th>\n      <td>Dipalmitoyllecithin</td>\n      <td>2.0</td>\n      <td>2</td>\n      <td>C0000039</td>\n      <td>Pharmacologic Substance</td>\n      <td>CHEM</td>\n    </tr>\n    <tr>\n      <th>3</th>\n      <td>Branching Enzyme</td>\n      <td>3.0</td>\n      <td>3</td>\n      <td>C0000052</td>\n      <td>Amino Acid, Peptide, or Protein</td>\n      <td>CHEM</td>\n    </tr>\n    <tr>\n      <th>4</th>\n      <td>Branching Glycosyltransferase</td>\n      <td>3.0</td>\n      <td>3</td>\n      <td>C0000052</td>\n      <td>Amino Acid, Peptide, or Protein</td>\n      <td>CHEM</td>\n    </tr>\n    <tr>\n      <th>5</th>\n      <td>Starch Branching Enzyme</td>\n      <td>3.0</td>\n      <td>3</td>\n      <td>C0000052</td>\n      <td>Amino Acid, Peptide, or Protein</td>\n      <td>CHEM</td>\n    </tr>\n    <tr>\n      <th>6</th>\n      <td>1 Alkyl 2 Acylphosphatidates</td>\n      <td>4.0</td>\n      <td>4</td>\n      <td>C0000074</td>\n      <td>Lipid</td>\n      <td>CHEM</td>\n    </tr>\n    <tr>\n      <th>7</th>\n      <td>1-Alkyl-2-Acylphosphatidates</td>\n      <td>4.0</td>\n      <td>4</td>\n      <td>C0000074</td>\n      <td>Lipid</td>\n      <td>CHEM</td>\n    </tr>\n    <tr>\n      <th>8</th>\n      <td>1 Carboxyglutamic Acid</td>\n      <td>5.0</td>\n      <td>5</td>\n      <td>C0000084</td>\n      <td>Biologically Active Substance</td>\n      <td>CHEM</td>\n    </tr>\n    <tr>\n      <th>9</th>\n      <td>1-Carboxyglutamic Acid</td>\n      <td>5.0</td>\n      <td>5</td>\n      <td>C0000084</td>\n      <td>Biologically Active Substance</td>\n      <td>CHEM</td>\n    </tr>\n  </tbody>\n</table>\n</div>"
     },
     "execution_count": 20,
     "metadata": {},
     "output_type": "execute_result"
    }
   ],
   "source": [
    "broad_dict_raw[:10]"
   ]
  },
  {
   "cell_type": "code",
   "execution_count": 21,
   "metadata": {
    "pycharm": {
     "name": "#%%\n"
    }
   },
   "outputs": [],
   "source": [
    "# create string - CUI pairs\n",
    "disease_name = broad_dict_raw[\"name\"].apply(lambda x: x.lower().replace(\",\",\"\") if type(x) == str else \"\")\n",
    "cui = broad_dict_raw[\"cui\"].apply(lambda x: x.replace(\";\", \"|\"))\n",
    "str_cui_dic = dict(zip(disease_name,cui))"
   ]
  },
  {
   "cell_type": "code",
   "execution_count": 22,
   "metadata": {
    "pycharm": {
     "name": "#%%\n"
    }
   },
   "outputs": [
    {
     "data": {
      "text/plain": "'C0043541|C0043543|C0319495'"
     },
     "execution_count": 22,
     "metadata": {},
     "output_type": "execute_result"
    }
   ],
   "source": [
    "str_cui_dic[\"zygomycetes\"]"
   ]
  },
  {
   "cell_type": "code",
   "execution_count": 23,
   "metadata": {
    "pycharm": {
     "name": "#%%\n"
    }
   },
   "outputs": [],
   "source": [
    "# create CUI - string pairs\n",
    "cui_str_dic = dict(zip(cui, disease_name))"
   ]
  },
  {
   "cell_type": "code",
   "execution_count": 24,
   "metadata": {
    "pycharm": {
     "name": "#%%\n"
    }
   },
   "outputs": [
    {
     "data": {
      "text/plain": "'zygomycetes'"
     },
     "execution_count": 24,
     "metadata": {},
     "output_type": "execute_result"
    }
   ],
   "source": [
    "cui_str_dic[\"C0043541|C0043543|C0319495\"]"
   ]
  },
  {
   "cell_type": "code",
   "execution_count": 25,
   "outputs": [],
   "source": [
    "# create a dictionary from the missing mapping terms file\n",
    "missing_df = pd.read_csv(\"../mapping data/missed_CUIs_from_disease.csv\").dropna()"
   ],
   "metadata": {
    "collapsed": false,
    "pycharm": {
     "name": "#%%\n"
    }
   }
  },
  {
   "cell_type": "code",
   "execution_count": 26,
   "outputs": [
    {
     "data": {
      "text/plain": "                                        disease names  \\\n3                                      agitated state   \n4                 anemia associated with chemotherapy   \n5        anemia associated with chronic renal failure   \n6              anemia associated with iron deficiency   \n7   anemia associated with zidovudine | anemia ass...   \n10                          anorexia feeding problems   \n13                      aphthous stomatitis recurrent   \n14                         aspergillosis aspergilloma   \n15             asthma maintenance | asthma prevention   \n16                                atrophic urethritis   \n\n                                            CUIs  \n3                              C1398083|C1398084  \n4            C1536276|C2712646|C2712647|C4708167  \n5                                       C0271932  \n6                              C0085576|C0162316  \n7                              C4076092|C1096070  \n10  C0003123|C0426579|C1963063|C1971624|C0003125  \n13                                       C538145  \n14                                      C0004030  \n15                                      C0004096  \n16                                      C4062720  ",
      "text/html": "<div>\n<style scoped>\n    .dataframe tbody tr th:only-of-type {\n        vertical-align: middle;\n    }\n\n    .dataframe tbody tr th {\n        vertical-align: top;\n    }\n\n    .dataframe thead th {\n        text-align: right;\n    }\n</style>\n<table border=\"1\" class=\"dataframe\">\n  <thead>\n    <tr style=\"text-align: right;\">\n      <th></th>\n      <th>disease names</th>\n      <th>CUIs</th>\n    </tr>\n  </thead>\n  <tbody>\n    <tr>\n      <th>3</th>\n      <td>agitated state</td>\n      <td>C1398083|C1398084</td>\n    </tr>\n    <tr>\n      <th>4</th>\n      <td>anemia associated with chemotherapy</td>\n      <td>C1536276|C2712646|C2712647|C4708167</td>\n    </tr>\n    <tr>\n      <th>5</th>\n      <td>anemia associated with chronic renal failure</td>\n      <td>C0271932</td>\n    </tr>\n    <tr>\n      <th>6</th>\n      <td>anemia associated with iron deficiency</td>\n      <td>C0085576|C0162316</td>\n    </tr>\n    <tr>\n      <th>7</th>\n      <td>anemia associated with zidovudine | anemia ass...</td>\n      <td>C4076092|C1096070</td>\n    </tr>\n    <tr>\n      <th>10</th>\n      <td>anorexia feeding problems</td>\n      <td>C0003123|C0426579|C1963063|C1971624|C0003125</td>\n    </tr>\n    <tr>\n      <th>13</th>\n      <td>aphthous stomatitis recurrent</td>\n      <td>C538145</td>\n    </tr>\n    <tr>\n      <th>14</th>\n      <td>aspergillosis aspergilloma</td>\n      <td>C0004030</td>\n    </tr>\n    <tr>\n      <th>15</th>\n      <td>asthma maintenance | asthma prevention</td>\n      <td>C0004096</td>\n    </tr>\n    <tr>\n      <th>16</th>\n      <td>atrophic urethritis</td>\n      <td>C4062720</td>\n    </tr>\n  </tbody>\n</table>\n</div>"
     },
     "execution_count": 26,
     "metadata": {},
     "output_type": "execute_result"
    }
   ],
   "source": [
    "missing_df[:10]"
   ],
   "metadata": {
    "collapsed": false,
    "pycharm": {
     "name": "#%%\n"
    }
   }
  },
  {
   "cell_type": "code",
   "execution_count": 27,
   "outputs": [],
   "source": [
    "missing_terms_dict = dict(zip(missing_df[\"disease names\"], missing_df[\"CUIs\"]))"
   ],
   "metadata": {
    "collapsed": false,
    "pycharm": {
     "name": "#%%\n"
    }
   }
  },
  {
   "cell_type": "code",
   "execution_count": 28,
   "outputs": [
    {
     "data": {
      "text/plain": "'C4062720'"
     },
     "execution_count": 28,
     "metadata": {},
     "output_type": "execute_result"
    }
   ],
   "source": [
    "missing_terms_dict[\"atrophic urethritis\"]"
   ],
   "metadata": {
    "collapsed": false,
    "pycharm": {
     "name": "#%%\n"
    }
   }
  },
  {
   "cell_type": "code",
   "execution_count": 52,
   "metadata": {
    "pycharm": {
     "name": "#%%\n"
    }
   },
   "outputs": [
    {
     "name": "stdout",
     "output_type": "stream",
     "text": [
      "abdominal distension prior to abdominal x ray\n",
      "abdominal radiological procedure | abdominal radiological procedures\n",
      "adjunct to antibiotic therapy\n",
      "anemia associated with zidovudine | anemia associated with zidovudine | anemiadrug-induced immune hemolytic\n",
      "anemia prior to surgery\n",
      "anesthesia adjunct\n",
      "anti inflammatory\n",
      "anticoagulation during pregnancy\n",
      "asthma maintenance | asthmaprevention\n",
      "blood cell transplantation\n",
      "bone marrow transplantation failure or engraftment delay\n",
      "bone marrow transplantation myeloid reconstruction\n",
      "breast cancer adjuvant\n",
      "breast cancer palliative\n",
      "bronchospasm during anesthesia\n",
      "burns external\n",
      "burns nitrogen retention\n",
      "calcium oxalate calculi with hyperuricosuria\n",
      "candida urinary tract infection\n",
      "chronic obstructive pulmonary disease acute | chronic obstructive pulmonary diseaseacute\n",
      "chronic obstructive pulmonary disease maintenance | chronic obstructive pulmonary diseasemaintenance\n",
      "chronic spasticity\n",
      "cln2 disease | classic late infantile neuronal ceroid lipofuscinosis | cln2 disease | late-infantile batten disease | neuronal ceroid lipofuscinosis type 2\n",
      "cns magnetic resonance imaging\n",
      "colitis enteritis noninfectious | colitisnoninfectious | enteritisnoninfectious\n",
      "conjunctival mucosa associated lymphoid tissue lymphoma | cancerconjunctival mucosa-associated lymphoid tissue lymphoma | lymphomaconjunctival mucosa-associated lymphoid tissue lymphoma\n",
      "constipation acute\n",
      "corneal cystine crystal accumulation\n",
      "corneal refractive surgery\n",
      "cough/nasal congestion | cough/blocked nose\n",
      "cryptococcal meningitis immunocompetent host\n",
      "cryptococcal meningitis immunosuppressed host\n",
      "cutaneous bacillus anthracis\n",
      "cysticercus cellulosae cysticercosis\n",
      "cystourethrography\n",
      "deep neck infection\n",
      "deep vein thrombosis prophylaxis after abdominal surgery\n",
      "deep vein thrombosis prophylaxis after hip replacement surgery\n",
      "deep vein thrombosis prophylaxis after knee replacement surgery\n",
      "deep vein thrombosis prophylaxis after orthopedic surgery\n",
      "deep vein thrombosis pulmonary embolism prophylaxis following hip replacement surgery\n",
      "deep vein thrombosis recurrent event\n",
      "dermal necrosis prophylaxis\n",
      "dermal necrosis treatment\n",
      "dermatologic lesion\n",
      "dipylidium caninum dog tapeworm | tapeworm (dog)\n",
      "drug induced vitamin mineral deficiency\n",
      "ebola zaire disease prophylaxis\n",
      "endoscopy or radiology premedication\n",
      "epididymitis non specific\n",
      "epididymitis sexually transmitted\n",
      "erythema mulitforme\n",
      "eyelash hypotrichosis | hypotrichosis of eyelashes\n",
      "fasciolopsis buski intestinal fluke\n",
      "follicle stimulation\n",
      "fungal infection disseminated\n",
      "fungal infection prevention\n",
      "gastrointestinal decontamination\n",
      "gold poisoning severe\n",
      "growth hormone reserve test\n",
      "growth retardation chronic renal failure\n",
      "herbal supplementation\n",
      "herpes simplex mucocutaneous immunocompetent host\n",
      "herpes simplex mucocutaneous immunocompromised host\n",
      "herpes simplex suppression\n",
      "heterophyes heterophyes intestinal fluke\n",
      "histoplasmosis immunocompenent host\n",
      "hyperparathyroidism secondary to renal impairment\n",
      "hyperuricemia secondary to chemotherapy\n",
      "hypoprothrombinemia anticoagulant induced\n",
      "hypoprothrombinemia not associated with anticoagulant therapy\n",
      "hypothyroidism after thyroid removal | thyroid removal\n",
      "icu agitation\n",
      "inhibition of intraoperative miosis\n",
      "insomnia stimulant associated\n",
      "intestinal arterial insufficiency\n",
      "intra arterial digital subtraction angiography\n",
      "intra or post op svt or hypertension\n",
      "iron poisoning chronic\n",
      "lactation augmentation | breast milk insufficiency | lactation insufficiency\n",
      "lead poisoning mild\n",
      "lead poisoning severe\n",
      "leprosy erythema nodosum leprosum\n",
      "leprosy lepromatous\n",
      "light sedation\n",
      "lithium tremor\n",
      "liver magnetic resonance imaging\n",
      "liver metastasis in adenocarcinoma\n",
      "lyme disease carditis\n",
      "lyme disease erythema chronicum migrans\n",
      "metagonimus yokogawai intestinal fluke\n",
      "methotrexate overdosage\n",
      "methotrexate rescue\n",
      "naophyetus salmincola\n",
      "neoplastic diseases\n",
      "nerve agent poisoning\n",
      "nerve agent pretreatment\n",
      "niacin flush\n",
      "nonobstructive oliguria\n",
      "nsaid induced gastric ulcer\n",
      "nsaid induced ulcer prophylaxis\n",
      "onychomycosis fingernail | fungal infectionfingernail | infectionfungalfingernail\n",
      "ophthalmic surgical staining\n",
      "opiate adjunct\n",
      "opiate dependence induction | opioid dependence - induction\n",
      "opiate dependence maintenance | opioid dependence - maintenance\n",
      "opisthorchis viverrini liver fluke\n",
      "osteolytic bone lesions of multiple myeloma | multiple myelomaosteolytic bone lesions\n",
      "osteolytic bone metastases of breast cancer | bone metastases of breast cancer\n",
      "other neutropenias | neutropeniaautoimmune\n",
      "paragonimus westermani lung fluke\n",
      "patency maintenance of indwelling intravenous devices\n",
      "pathological hypersecretory conditions\n",
      "pathological hypersecretory disorder\n",
      "pediatric angiocardiography\n",
      "pediatric growth hormone deficiency\n",
      "peripheral arteriography\n",
      "pneumonia with cystic fibrosis\n",
      "post cholecystectomy diarrhea | post cholecystectomy diarrhea\n",
      "postanesthetic shivering\n",
      "postoperative albumin loss\n",
      "postoperative gas pains\n",
      "postoperative increased intraocular pressure\n",
      "postoperative ocular inflammation\n",
      "postpartum breast pain\n",
      "premature ventricular depolarizations\n",
      "prepubertal cryptorchidism\n",
      "prevention of atherothrombotic events\n",
      "prevention of cardiovascular disease\n",
      "prevention of clostridium difficile infection recurrence | clostridium difficile infection recurrence prevention | prevention of clostridium difficile infection recurrence\n",
      "prevention of falls\n",
      "prevention of fractures\n",
      "prevention of hypokalemia\n",
      "prevention of nasal polyps | prevention of nasal polyps\n",
      "prevention of osteoporosis\n",
      "prevention of perinatal group b streptococcal disease\n",
      "prevention of phototoxicity in erythropoietic protoporphyria\n",
      "prevention of radiographic contrast nephropathy\n",
      "prevention of thromboembolism in atrial fibrillation\n",
      "primary hyperaldosteronism diagnosis\n",
      "primary igf 1 deficiency\n",
      "primary mediastinal large b cell lymphoma | pmbcl\n",
      "primary periodic paralysis\n",
      "prosthetic heart valves mechanical valves\n",
      "prosthetic heart valves tissue valves\n",
      "pruritus of partial biliary obstruction\n",
      "pulmonary embolism first event\n",
      "pulmonary embolism recurrent event\n",
      "radiation emergency\n",
      "reduction of perinatal transmission of hiv\n",
      "rejection reversal\n",
      "revascularization procedures prophylaxis\n",
      "reversal of dabigatran\n",
      "reversal of nondepolarizing muscle relaxants\n",
      "reversal of opioid sedation\n",
      "reversible airways disease maintenance\n",
      "salmonella enteric fever\n",
      "secondary cutaneous bacterial infections\n",
      "serosal cavity neoplastic disease\n",
      "sexual dysfunction ssri induced | antidepressant-induced sexual dysfunction | ssri sexual dysfunction\n",
      "sinus symptoms\n",
      "skin/structure infection | complicated skin/skin structure infection | csssi\n",
      "spinal spasticity\n",
      "spleen removal\n",
      "steroid responsive inflammatory conditions\n",
      "subcutaneous urography\n",
      "submental fullness | double chin | submental fat reduction\n",
      "systemic sclerosis associated interstitial lung disease | scleroderma-associated ild | ssc-ild\n",
      "taenia saginata beef tapeworm | tapeworm (beef)\n",
      "taenia solium pork tapeworm | tapeworm (pork)\n",
      "tapering regimen\n",
      "topical disinfection\n",
      "tsh suppression\n",
      "type 3c diabetes | pancreatogenic diabetes | t3cdm | type 3c diabetes\n",
      "urinary acidification\n",
      "visceral arteriography\n",
      "visceral larva migrans toxicariasis\n",
      "vitamin mineral supplementation during pregnancy lactation\n",
      "weight loss failure to thrive | weight loss/failure to thrive\n"
     ]
    }
   ],
   "source": [
    "mapped_num = 0\n",
    "# map our data\n",
    "cui_codes_list = []\n",
    "multiple_cui_instances = []\n",
    "\n",
    "prev_disease = []\n",
    "\n",
    "# keep track of what is not found\n",
    "missed_disease = []\n",
    "i = 0\n",
    "for disease in all_names:\n",
    "\n",
    "    cur_cuis = []\n",
    "    for name in disease:\n",
    "        if name in missing_terms_dict:\n",
    "             cur_cuis.append(missing_terms_dict[name])\n",
    "\n",
    "        name = name.replace(\" prophylaxis\", \"\")\n",
    "        name = name.replace(\" human\",\"\").replace(\"human\", \"\")\n",
    "\n",
    "        if name in str_cui_dic:\n",
    "             cur_cuis.append(str_cui_dic[name])\n",
    "\n",
    "    cur_cuis = _unique(cur_cuis)\n",
    "\n",
    "    if disease != prev_disease:\n",
    "        if len(cur_cuis) > 0:\n",
    "            mapped_num += 1\n",
    "        else:\n",
    "            print(\" | \".join(disease))\n",
    "            missed_disease.append(\" | \".join(disease))\n",
    "\n",
    "    cui_codes_list.append(\"|\".join(cur_cuis))\n",
    "    i += 1\n",
    "    prev_disease = disease"
   ]
  },
  {
   "cell_type": "code",
   "execution_count": 53,
   "outputs": [
    {
     "data": {
      "text/plain": "179"
     },
     "execution_count": 53,
     "metadata": {},
     "output_type": "execute_result"
    }
   ],
   "source": [
    "len(missed_disease)"
   ],
   "metadata": {
    "collapsed": false,
    "pycharm": {
     "name": "#%%\n"
    }
   }
  },
  {
   "cell_type": "markdown",
   "metadata": {
    "pycharm": {
     "name": "#%% md\n"
    }
   },
   "source": [
    "#### Mapping rate from disease strings to CUI"
   ]
  },
  {
   "cell_type": "code",
   "execution_count": 54,
   "metadata": {
    "pycharm": {
     "name": "#%%\n"
    }
   },
   "outputs": [
    {
     "name": "stderr",
     "output_type": "stream",
     "text": [
      "/Users/neneko/Documents/GitHub/PubHealthData/drug-disease/venv/lib/python3.7/site-packages/ipykernel_launcher.py:3: VisibleDeprecationWarning: Creating an ndarray from ragged nested sequences (which is a list-or-tuple of lists-or-tuples-or ndarrays with different lengths or shapes) is deprecated. If you meant to do this, you must specify 'dtype=object' when creating the ndarray\n",
      "  This is separate from the ipykernel package so we can avoid doing imports until\n"
     ]
    },
    {
     "data": {
      "text/plain": "0.8801071667782987"
     },
     "execution_count": 54,
     "metadata": {},
     "output_type": "execute_result"
    }
   ],
   "source": [
    "mapping_rate_str2cui = mapped_num/len(_unique(all_names))\n",
    "mapping_rate_str2cui\n"
   ]
  },
  {
   "cell_type": "code",
   "execution_count": 32,
   "metadata": {
    "pycharm": {
     "name": "#%%\n"
    }
   },
   "outputs": [],
   "source": [
    "# Allow multiple cuis to find mappings\n",
    "\n",
    "# for terms with multiple cui mappings, use only the first name that could be found.\n",
    "# for mi in multiple_cui_instances:\n",
    "#     for i in range (len(all_names[mi])):\n",
    "#         if all_names[mi][i] in str_cui_dic:\n",
    "#             cui_codes[mi] = str_cui_dic[all_names[mi][i]]\n",
    "#             break    "
   ]
  },
  {
   "cell_type": "markdown",
   "metadata": {
    "pycharm": {
     "name": "#%% md\n"
    }
   },
   "source": [
    "#### Random check of the mapping"
   ]
  },
  {
   "cell_type": "code",
   "execution_count": 33,
   "metadata": {
    "pycharm": {
     "name": "#%%\n"
    }
   },
   "outputs": [
    {
     "data": {
      "text/plain": "['acute myeloid leukemia',\n 'acute granulocytic leukemia',\n 'acute myelogenous leukemia',\n 'aml',\n 'canceracute granulocytic leukemia',\n 'canceracute myelogenous leukemia',\n 'canceracute myeloid leukemia',\n 'leukemiaacute granulocytic',\n 'leukemiaacute myelogenous',\n 'leukemiaacute myeloid']"
     },
     "execution_count": 33,
     "metadata": {},
     "output_type": "execute_result"
    }
   ],
   "source": [
    "all_names[233]"
   ]
  },
  {
   "cell_type": "code",
   "execution_count": 34,
   "metadata": {},
   "outputs": [
    {
     "data": {
      "text/plain": "'C0023467|C2984331'"
     },
     "execution_count": 34,
     "metadata": {},
     "output_type": "execute_result"
    }
   ],
   "source": [
    "cui_codes_list[233]"
   ]
  },
  {
   "cell_type": "code",
   "execution_count": 35,
   "metadata": {},
   "outputs": [
    {
     "data": {
      "text/plain": "'acute myeloid leukemia pathway'"
     },
     "execution_count": 35,
     "metadata": {},
     "output_type": "execute_result"
    }
   ],
   "source": [
    "cui_str_dic[\"C2984331\"]"
   ]
  },
  {
   "cell_type": "code",
   "execution_count": 36,
   "metadata": {},
   "outputs": [
    {
     "data": {
      "text/plain": "'C2984331'"
     },
     "execution_count": 36,
     "metadata": {},
     "output_type": "execute_result"
    }
   ],
   "source": [
    "str_cui_dic[\"acute myeloid leukemia\"]"
   ]
  },
  {
   "cell_type": "code",
   "execution_count": 37,
   "metadata": {
    "pycharm": {
     "name": "#%%\n"
    }
   },
   "outputs": [
    {
     "data": {
      "text/plain": "'C2984331'"
     },
     "execution_count": 37,
     "metadata": {},
     "output_type": "execute_result"
    }
   ],
   "source": [
    "str_cui_dic[\"acute myeloid leukemia pathway\"]"
   ]
  },
  {
   "cell_type": "code",
   "execution_count": 38,
   "outputs": [],
   "source": [
    "# for i in range(len(cui_codes_list)):\n",
    "#     term = cui_codes_list[i]\n",
    "#     if type(term)==list:\n",
    "#         cui_codes_list[i] = \"|\".join(term)\n",
    "#     else:\n",
    "#         cui_codes_list[i] = cui_codes_list[i].replace(\";\",\"|\")"
   ],
   "metadata": {
    "collapsed": false,
    "pycharm": {
     "name": "#%%\n"
    }
   }
  },
  {
   "cell_type": "code",
   "execution_count": 39,
   "metadata": {},
   "outputs": [],
   "source": [
    "# cui_codes_list[20:40]"
   ]
  },
  {
   "cell_type": "code",
   "execution_count": 40,
   "metadata": {},
   "outputs": [],
   "source": [
    "# replace ; with |\n",
    "# cui_codes_list = pd.Series(cui_codes_list).apply(lambda x: x.replace(\";\",\"|\"))"
   ]
  },
  {
   "cell_type": "code",
   "execution_count": 41,
   "metadata": {},
   "outputs": [
    {
     "data": {
      "text/plain": "['C0025874',\n 'C0025874',\n 'C0025874',\n 'C0025874',\n 'C0025874',\n 'C0025874',\n 'C0025874',\n 'C0025874',\n 'C0025874',\n 'C0025874',\n 'C0025874',\n 'C0156543|C0392535|C0233105',\n 'C0156543|C0392535|C0233105',\n 'C0156543|C0392535|C0233105',\n 'C0156543|C0392535|C0233105',\n 'C0156543|C0392535|C0233105',\n 'C0156543|C0392535|C0233105',\n 'C0156543|C0392535|C0233105',\n 'C0156543|C0392535|C0233105',\n 'C0156543|C0392535|C0233105']"
     },
     "execution_count": 41,
     "metadata": {},
     "output_type": "execute_result"
    }
   ],
   "source": [
    "cui_codes_list[20:40]"
   ]
  },
  {
   "cell_type": "code",
   "execution_count": 51,
   "outputs": [
    {
     "name": "stderr",
     "output_type": "stream",
     "text": [
      "/Users/neneko/Documents/GitHub/PubHealthData/drug-disease/venv/lib/python3.7/site-packages/ipykernel_launcher.py:1: SettingWithCopyWarning: \n",
      "A value is trying to be set on a copy of a slice from a DataFrame.\n",
      "Try using .loc[row_indexer,col_indexer] = value instead\n",
      "\n",
      "See the caveats in the documentation: https://pandas.pydata.org/pandas-docs/stable/user_guide/indexing.html#returning-a-view-versus-a-copy\n",
      "  \"\"\"Entry point for launching an IPython kernel.\n"
     ]
    }
   ],
   "source": [
    "df_rx[\"cui_from_disease\"] = cui_codes_list\n",
    "#df_rx.to_csv(\"output/PheCode_rxNorm.csv\")"
   ],
   "metadata": {
    "collapsed": false,
    "pycharm": {
     "name": "#%%\n"
    }
   }
  },
  {
   "cell_type": "markdown",
   "source": [
    "Manually check for missing CUIs"
   ],
   "metadata": {
    "collapsed": false,
    "pycharm": {
     "name": "#%% md\n"
    }
   }
  },
  {
   "cell_type": "code",
   "execution_count": 197,
   "outputs": [],
   "source": [
    "missed_disease_df = pd.DataFrame(missed_disease)\n",
    "missed_disease_df.columns = [\"disease names\"]\n",
    "missed_disease_df[\"CUIs\"] = \"\"*len(missed_disease)\n",
    "\n",
    "missed_disease_df.to_csv(\"missed mappings/missed CUIs from disease.csv\", index=False)"
   ],
   "metadata": {
    "collapsed": false,
    "pycharm": {
     "name": "#%%\n"
    }
   }
  },
  {
   "cell_type": "code",
   "execution_count": 55,
   "outputs": [
    {
     "name": "stderr",
     "output_type": "stream",
     "text": [
      "/Users/neneko/Documents/GitHub/PubHealthData/drug-disease/venv/lib/python3.7/site-packages/ipykernel_launcher.py:2: SettingWithCopyWarning: \n",
      "A value is trying to be set on a copy of a slice from a DataFrame.\n",
      "Try using .loc[row_indexer,col_indexer] = value instead\n",
      "\n",
      "See the caveats in the documentation: https://pandas.pydata.org/pandas-docs/stable/user_guide/indexing.html#returning-a-view-versus-a-copy\n",
      "  \n"
     ]
    }
   ],
   "source": [
    "# add the enhanced mapping\n",
    "df_rx[\"cui_from_disease+\"] = cui_codes_list\n",
    "#df_rx.to_csv(\"output/PheCode_rxNorm.csv\")"
   ],
   "metadata": {
    "collapsed": false,
    "pycharm": {
     "name": "#%%\n"
    }
   }
  },
  {
   "cell_type": "markdown",
   "source": [
    "### CUI -> PheCode"
   ],
   "metadata": {
    "collapsed": false
   }
  },
  {
   "cell_type": "code",
   "execution_count": 56,
   "metadata": {},
   "outputs": [],
   "source": [
    "# read in phe-cui\n",
    "# convert to cui-phe\n",
    "phe_cui_df = pd.read_csv(\"../mapping data/map_phecode_cui.csv\")"
   ]
  },
  {
   "cell_type": "code",
   "execution_count": 57,
   "metadata": {},
   "outputs": [
    {
     "data": {
      "text/plain": "  PheCode                                                CUI\n0    008_  C0008354|C0343372|C0275976|C0343375|C0343376|C...\n1   008_5  C0041466|C0152485|C0036114|C0152487|C0152492|C...\n2  008_51  C0341558|C0343380|C0343379|C0343382|C0343381|C...\n3  008_52                                           C0494025\n4   008_6  C0152517|C0347854|C0276162|C0374933|C0374934|C...\n5   008_7       C0152500|C0004692|C0017536|C0010418|C0152507\n6    010_  C0152545|C1812612|C0374939|C0374940|C0374941|C...\n7    031_  C0152950|C0489980|C0152951|C0026918|C0023343|C...\n8   031_1  C0023343|C0023348|C0023351|C0021192|C0023346|C...\n9    038_  C0036690|C0152967|C0348133|C0153041|C1955786|C...",
      "text/html": "<div>\n<style scoped>\n    .dataframe tbody tr th:only-of-type {\n        vertical-align: middle;\n    }\n\n    .dataframe tbody tr th {\n        vertical-align: top;\n    }\n\n    .dataframe thead th {\n        text-align: right;\n    }\n</style>\n<table border=\"1\" class=\"dataframe\">\n  <thead>\n    <tr style=\"text-align: right;\">\n      <th></th>\n      <th>PheCode</th>\n      <th>CUI</th>\n    </tr>\n  </thead>\n  <tbody>\n    <tr>\n      <th>0</th>\n      <td>008_</td>\n      <td>C0008354|C0343372|C0275976|C0343375|C0343376|C...</td>\n    </tr>\n    <tr>\n      <th>1</th>\n      <td>008_5</td>\n      <td>C0041466|C0152485|C0036114|C0152487|C0152492|C...</td>\n    </tr>\n    <tr>\n      <th>2</th>\n      <td>008_51</td>\n      <td>C0341558|C0343380|C0343379|C0343382|C0343381|C...</td>\n    </tr>\n    <tr>\n      <th>3</th>\n      <td>008_52</td>\n      <td>C0494025</td>\n    </tr>\n    <tr>\n      <th>4</th>\n      <td>008_6</td>\n      <td>C0152517|C0347854|C0276162|C0374933|C0374934|C...</td>\n    </tr>\n    <tr>\n      <th>5</th>\n      <td>008_7</td>\n      <td>C0152500|C0004692|C0017536|C0010418|C0152507</td>\n    </tr>\n    <tr>\n      <th>6</th>\n      <td>010_</td>\n      <td>C0152545|C1812612|C0374939|C0374940|C0374941|C...</td>\n    </tr>\n    <tr>\n      <th>7</th>\n      <td>031_</td>\n      <td>C0152950|C0489980|C0152951|C0026918|C0023343|C...</td>\n    </tr>\n    <tr>\n      <th>8</th>\n      <td>031_1</td>\n      <td>C0023343|C0023348|C0023351|C0021192|C0023346|C...</td>\n    </tr>\n    <tr>\n      <th>9</th>\n      <td>038_</td>\n      <td>C0036690|C0152967|C0348133|C0153041|C1955786|C...</td>\n    </tr>\n  </tbody>\n</table>\n</div>"
     },
     "execution_count": 57,
     "metadata": {},
     "output_type": "execute_result"
    }
   ],
   "source": [
    "phe_cui_df[:10]"
   ]
  },
  {
   "cell_type": "code",
   "execution_count": 58,
   "outputs": [
    {
     "data": {
      "text/plain": "  PheCode                                                CUI\n0    008_  [C0008354, C0343372, C0275976, C0343375, C0343...\n1   008_5  [C0041466, C0152485, C0036114, C0152487, C0152...\n2  008_51  [C0341558, C0343380, C0343379, C0343382, C0343...\n3  008_52                                         [C0494025]\n4   008_6  [C0152517, C0347854, C0276162, C0374933, C0374...\n5   008_7  [C0152500, C0004692, C0017536, C0010418, C0152...\n6    010_  [C0152545, C1812612, C0374939, C0374940, C0374...\n7    031_  [C0152950, C0489980, C0152951, C0026918, C0023...\n8   031_1  [C0023343, C0023348, C0023351, C0021192, C0023...\n9    038_  [C0036690, C0152967, C0348133, C0153041, C1955...",
      "text/html": "<div>\n<style scoped>\n    .dataframe tbody tr th:only-of-type {\n        vertical-align: middle;\n    }\n\n    .dataframe tbody tr th {\n        vertical-align: top;\n    }\n\n    .dataframe thead th {\n        text-align: right;\n    }\n</style>\n<table border=\"1\" class=\"dataframe\">\n  <thead>\n    <tr style=\"text-align: right;\">\n      <th></th>\n      <th>PheCode</th>\n      <th>CUI</th>\n    </tr>\n  </thead>\n  <tbody>\n    <tr>\n      <th>0</th>\n      <td>008_</td>\n      <td>[C0008354, C0343372, C0275976, C0343375, C0343...</td>\n    </tr>\n    <tr>\n      <th>1</th>\n      <td>008_5</td>\n      <td>[C0041466, C0152485, C0036114, C0152487, C0152...</td>\n    </tr>\n    <tr>\n      <th>2</th>\n      <td>008_51</td>\n      <td>[C0341558, C0343380, C0343379, C0343382, C0343...</td>\n    </tr>\n    <tr>\n      <th>3</th>\n      <td>008_52</td>\n      <td>[C0494025]</td>\n    </tr>\n    <tr>\n      <th>4</th>\n      <td>008_6</td>\n      <td>[C0152517, C0347854, C0276162, C0374933, C0374...</td>\n    </tr>\n    <tr>\n      <th>5</th>\n      <td>008_7</td>\n      <td>[C0152500, C0004692, C0017536, C0010418, C0152...</td>\n    </tr>\n    <tr>\n      <th>6</th>\n      <td>010_</td>\n      <td>[C0152545, C1812612, C0374939, C0374940, C0374...</td>\n    </tr>\n    <tr>\n      <th>7</th>\n      <td>031_</td>\n      <td>[C0152950, C0489980, C0152951, C0026918, C0023...</td>\n    </tr>\n    <tr>\n      <th>8</th>\n      <td>031_1</td>\n      <td>[C0023343, C0023348, C0023351, C0021192, C0023...</td>\n    </tr>\n    <tr>\n      <th>9</th>\n      <td>038_</td>\n      <td>[C0036690, C0152967, C0348133, C0153041, C1955...</td>\n    </tr>\n  </tbody>\n</table>\n</div>"
     },
     "execution_count": 58,
     "metadata": {},
     "output_type": "execute_result"
    }
   ],
   "source": [
    "# convert cui to list\n",
    "phe_cui_df[\"CUI\"] = phe_cui_df[\"CUI\"].apply(lambda x: x.split(\"|\"))\n",
    "phe_cui_df[:10]"
   ],
   "metadata": {
    "collapsed": false,
    "pycharm": {
     "name": "#%%\n"
    }
   }
  },
  {
   "cell_type": "code",
   "execution_count": 59,
   "metadata": {},
   "outputs": [],
   "source": [
    "# Replace \"_\" by \".\" in phecode_cuis_list. \n",
    "phe_cui_df[\"PheCode\"] = phe_cui_df[\"PheCode\"].apply(lambda x: x.replace(\"_\",\".\"))"
   ]
  },
  {
   "cell_type": "code",
   "execution_count": 60,
   "metadata": {},
   "outputs": [
    {
     "data": {
      "text/plain": "  PheCode                                                CUI\n0    008.  [C0008354, C0343372, C0275976, C0343375, C0343...\n1   008.5  [C0041466, C0152485, C0036114, C0152487, C0152...\n2  008.51  [C0341558, C0343380, C0343379, C0343382, C0343...\n3  008.52                                         [C0494025]\n4   008.6  [C0152517, C0347854, C0276162, C0374933, C0374...\n5   008.7  [C0152500, C0004692, C0017536, C0010418, C0152...\n6    010.  [C0152545, C1812612, C0374939, C0374940, C0374...\n7    031.  [C0152950, C0489980, C0152951, C0026918, C0023...\n8   031.1  [C0023343, C0023348, C0023351, C0021192, C0023...\n9    038.  [C0036690, C0152967, C0348133, C0153041, C1955...",
      "text/html": "<div>\n<style scoped>\n    .dataframe tbody tr th:only-of-type {\n        vertical-align: middle;\n    }\n\n    .dataframe tbody tr th {\n        vertical-align: top;\n    }\n\n    .dataframe thead th {\n        text-align: right;\n    }\n</style>\n<table border=\"1\" class=\"dataframe\">\n  <thead>\n    <tr style=\"text-align: right;\">\n      <th></th>\n      <th>PheCode</th>\n      <th>CUI</th>\n    </tr>\n  </thead>\n  <tbody>\n    <tr>\n      <th>0</th>\n      <td>008.</td>\n      <td>[C0008354, C0343372, C0275976, C0343375, C0343...</td>\n    </tr>\n    <tr>\n      <th>1</th>\n      <td>008.5</td>\n      <td>[C0041466, C0152485, C0036114, C0152487, C0152...</td>\n    </tr>\n    <tr>\n      <th>2</th>\n      <td>008.51</td>\n      <td>[C0341558, C0343380, C0343379, C0343382, C0343...</td>\n    </tr>\n    <tr>\n      <th>3</th>\n      <td>008.52</td>\n      <td>[C0494025]</td>\n    </tr>\n    <tr>\n      <th>4</th>\n      <td>008.6</td>\n      <td>[C0152517, C0347854, C0276162, C0374933, C0374...</td>\n    </tr>\n    <tr>\n      <th>5</th>\n      <td>008.7</td>\n      <td>[C0152500, C0004692, C0017536, C0010418, C0152...</td>\n    </tr>\n    <tr>\n      <th>6</th>\n      <td>010.</td>\n      <td>[C0152545, C1812612, C0374939, C0374940, C0374...</td>\n    </tr>\n    <tr>\n      <th>7</th>\n      <td>031.</td>\n      <td>[C0152950, C0489980, C0152951, C0026918, C0023...</td>\n    </tr>\n    <tr>\n      <th>8</th>\n      <td>031.1</td>\n      <td>[C0023343, C0023348, C0023351, C0021192, C0023...</td>\n    </tr>\n    <tr>\n      <th>9</th>\n      <td>038.</td>\n      <td>[C0036690, C0152967, C0348133, C0153041, C1955...</td>\n    </tr>\n  </tbody>\n</table>\n</div>"
     },
     "execution_count": 60,
     "metadata": {},
     "output_type": "execute_result"
    }
   ],
   "source": [
    "phe_cui_df[:10]"
   ]
  },
  {
   "cell_type": "code",
   "execution_count": 61,
   "metadata": {},
   "outputs": [],
   "source": [
    "# unstack the dataframe\n",
    "def _unstack(frame):\n",
    "    data = []\n",
    "\n",
    "    for i in frame.itertuples():\n",
    "        lst = i[2]\n",
    "        for col2 in lst:\n",
    "            data.append([i[1], col2])\n",
    "\n",
    "    frame_unstacked = pd.DataFrame(data=data, columns=frame.columns)\n",
    "    return frame_unstacked"
   ]
  },
  {
   "cell_type": "markdown",
   "metadata": {
    "pycharm": {
     "name": "#%% md\n"
    }
   },
   "source": [
    "#### Unstack the dataframe to one CUI-one PheCode"
   ]
  },
  {
   "cell_type": "code",
   "execution_count": 62,
   "metadata": {
    "pycharm": {
     "name": "#%%\n"
    }
   },
   "outputs": [
    {
     "data": {
      "text/plain": "  PheCode       CUI\n0    008.  C0008354\n1    008.  C0343372\n2    008.  C0275976\n3    008.  C0343375\n4    008.  C0343376\n5    008.  C0343377\n6    008.  C0030528\n7    008.  C0016479\n8    008.  C0002438\n9    008.  C1363999",
      "text/html": "<div>\n<style scoped>\n    .dataframe tbody tr th:only-of-type {\n        vertical-align: middle;\n    }\n\n    .dataframe tbody tr th {\n        vertical-align: top;\n    }\n\n    .dataframe thead th {\n        text-align: right;\n    }\n</style>\n<table border=\"1\" class=\"dataframe\">\n  <thead>\n    <tr style=\"text-align: right;\">\n      <th></th>\n      <th>PheCode</th>\n      <th>CUI</th>\n    </tr>\n  </thead>\n  <tbody>\n    <tr>\n      <th>0</th>\n      <td>008.</td>\n      <td>C0008354</td>\n    </tr>\n    <tr>\n      <th>1</th>\n      <td>008.</td>\n      <td>C0343372</td>\n    </tr>\n    <tr>\n      <th>2</th>\n      <td>008.</td>\n      <td>C0275976</td>\n    </tr>\n    <tr>\n      <th>3</th>\n      <td>008.</td>\n      <td>C0343375</td>\n    </tr>\n    <tr>\n      <th>4</th>\n      <td>008.</td>\n      <td>C0343376</td>\n    </tr>\n    <tr>\n      <th>5</th>\n      <td>008.</td>\n      <td>C0343377</td>\n    </tr>\n    <tr>\n      <th>6</th>\n      <td>008.</td>\n      <td>C0030528</td>\n    </tr>\n    <tr>\n      <th>7</th>\n      <td>008.</td>\n      <td>C0016479</td>\n    </tr>\n    <tr>\n      <th>8</th>\n      <td>008.</td>\n      <td>C0002438</td>\n    </tr>\n    <tr>\n      <th>9</th>\n      <td>008.</td>\n      <td>C1363999</td>\n    </tr>\n  </tbody>\n</table>\n</div>"
     },
     "execution_count": 62,
     "metadata": {},
     "output_type": "execute_result"
    }
   ],
   "source": [
    "data = []\n",
    "\n",
    "for i in phe_cui_df.itertuples():\n",
    "    lst = i[2]\n",
    "    for col2 in lst:\n",
    "        data.append([i[1], col2])\n",
    "\n",
    "phe_cui_df_unstacked = pd.DataFrame(data=data, columns=phe_cui_df.columns)\n",
    "phe_cui_df_unstacked[:10]"
   ]
  },
  {
   "cell_type": "markdown",
   "metadata": {
    "pycharm": {
     "name": "#%% md\n"
    }
   },
   "source": [
    "#### Create the CUI-Phe dictionary"
   ]
  },
  {
   "cell_type": "code",
   "execution_count": 63,
   "metadata": {
    "pycharm": {
     "name": "#%%\n"
    }
   },
   "outputs": [],
   "source": [
    "cui_phe_dict = dict(zip(phe_cui_df_unstacked[\"CUI\"], phe_cui_df_unstacked[\"PheCode\"]))\n"
   ]
  },
  {
   "cell_type": "code",
   "execution_count": 64,
   "metadata": {
    "pycharm": {
     "name": "#%%\n"
    }
   },
   "outputs": [
    {
     "data": {
      "text/plain": "'008.'"
     },
     "execution_count": 64,
     "metadata": {},
     "output_type": "execute_result"
    }
   ],
   "source": [
    "cui_phe_dict[\"C0008354\"]"
   ]
  },
  {
   "cell_type": "markdown",
   "metadata": {
    "pycharm": {
     "name": "#%% md\n"
    }
   },
   "source": [
    "#### A lot of cui-phe mappings are missing"
   ]
  },
  {
   "cell_type": "code",
   "execution_count": 65,
   "metadata": {
    "pycharm": {
     "name": "#%%\n"
    }
   },
   "outputs": [
    {
     "ename": "KeyError",
     "evalue": "'C1961102'",
     "output_type": "error",
     "traceback": [
      "\u001B[0;31m---------------------------------------------------------------------------\u001B[0m",
      "\u001B[0;31mKeyError\u001B[0m                                  Traceback (most recent call last)",
      "\u001B[0;32m<ipython-input-65-83a5aacd860f>\u001B[0m in \u001B[0;36m<module>\u001B[0;34m\u001B[0m\n\u001B[0;32m----> 1\u001B[0;31m \u001B[0mcui_phe_dict\u001B[0m\u001B[0;34m[\u001B[0m\u001B[0;34m\"C1961102\"\u001B[0m\u001B[0;34m]\u001B[0m\u001B[0;34m\u001B[0m\u001B[0;34m\u001B[0m\u001B[0m\n\u001B[0m\u001B[1;32m      2\u001B[0m \u001B[0;34m\u001B[0m\u001B[0m\n",
      "\u001B[0;31mKeyError\u001B[0m: 'C1961102'"
     ]
    }
   ],
   "source": [
    "cui_phe_dict[\"C1961102\"]"
   ]
  },
  {
   "cell_type": "markdown",
   "metadata": {
    "pycharm": {
     "name": "#%% md\n"
    }
   },
   "source": [
    "### Mapping"
   ]
  },
  {
   "cell_type": "code",
   "execution_count": 66,
   "metadata": {
    "pycharm": {
     "name": "#%%\n"
    }
   },
   "outputs": [],
   "source": [
    "# Map\n",
    "mapped_num_cui2phe = 0\n",
    "# map our data\n",
    "phe_codes = []\n",
    "\n",
    "missed_cui_phe = []\n",
    "prev_cui = \"\"\n",
    "i = 0\n",
    "for cui_codes in cui_codes_list:\n",
    "    cur_phes = []\n",
    "    codes = _unique(cui_codes.split(\"|\"))\n",
    "\n",
    "    for cui in codes:\n",
    "        if cui in cui_phe_dict:\n",
    "            cur_phes.append(cui_phe_dict[cui])\n",
    "    cur_phes = _unique(cur_phes)\n",
    "\n",
    "    if cui_codes!= prev_cui:\n",
    "        if len(cur_phes) > 0:\n",
    "            mapped_num_cui2phe += 1\n",
    "        else:\n",
    "            missed_cui_phe.append(cui_codes)\n",
    "\n",
    "    phe_codes.append(\"|\".join(cur_phes))\n",
    "    i += 1\n",
    "    prev_cui = cui_codes"
   ]
  },
  {
   "cell_type": "markdown",
   "metadata": {
    "pycharm": {
     "name": "#%% md\n"
    }
   },
   "source": [
    "#### Mapping rate of CUI-PHE"
   ]
  },
  {
   "cell_type": "code",
   "execution_count": 68,
   "metadata": {
    "pycharm": {
     "name": "#%%\n"
    }
   },
   "outputs": [
    {
     "data": {
      "text/plain": "0.43784206411258797"
     },
     "execution_count": 68,
     "metadata": {},
     "output_type": "execute_result"
    }
   ],
   "source": [
    "mapping_percentage_cui2phe = mapped_num_cui2phe/len(_unique(cui_codes_list))\n",
    "mapping_percentage_cui2phe"
   ]
  },
  {
   "cell_type": "code",
   "execution_count": 70,
   "outputs": [
    {
     "data": {
      "text/plain": "855"
     },
     "execution_count": 70,
     "metadata": {},
     "output_type": "execute_result"
    }
   ],
   "source": [
    "len(missed_cui_phe)"
   ],
   "metadata": {
    "collapsed": false,
    "pycharm": {
     "name": "#%%\n"
    }
   }
  },
  {
   "cell_type": "code",
   "execution_count": 71,
   "outputs": [
    {
     "name": "stderr",
     "output_type": "stream",
     "text": [
      "/Users/neneko/Documents/GitHub/PubHealthData/drug-disease/venv/lib/python3.7/site-packages/ipykernel_launcher.py:1: SettingWithCopyWarning: \n",
      "A value is trying to be set on a copy of a slice from a DataFrame.\n",
      "Try using .loc[row_indexer,col_indexer] = value instead\n",
      "\n",
      "See the caveats in the documentation: https://pandas.pydata.org/pandas-docs/stable/user_guide/indexing.html#returning-a-view-versus-a-copy\n",
      "  \"\"\"Entry point for launching an IPython kernel.\n"
     ]
    }
   ],
   "source": [
    "df_rx[\"phe_from_CUI\"] = phe_codes\n",
    "df_rx.to_csv(\"output/PheCode_rxNorm.csv\")"
   ],
   "metadata": {
    "collapsed": false,
    "pycharm": {
     "name": "#%%\n"
    }
   }
  },
  {
   "cell_type": "markdown",
   "metadata": {
    "pycharm": {
     "name": "#%% md\n"
    }
   },
   "source": [
    "#### Net mapping rate from String-Phe"
   ]
  },
  {
   "cell_type": "code",
   "execution_count": 69,
   "metadata": {
    "pycharm": {
     "name": "#%%\n"
    }
   },
   "outputs": [
    {
     "data": {
      "text/plain": "0.385347938542492"
     },
     "execution_count": 69,
     "metadata": {},
     "output_type": "execute_result"
    }
   ],
   "source": [
    "total_mapping_rate = mapping_percentage_cui2phe * mapping_rate_str2cui\n",
    "total_mapping_rate\n"
   ]
  },
  {
   "cell_type": "code",
   "execution_count": 62,
   "metadata": {
    "pycharm": {
     "name": "#%%\n"
    }
   },
   "outputs": [
    {
     "data": {
      "text/plain": "                                     disease name  \\\n0   abdominal distension prior to abdominal x ray   \n1   abdominal distension prior to abdominal x ray   \n2                            abdominal distension   \n3                            abdominal distension   \n4                            abdominal distension   \n5                abdominal radiological procedure   \n6                       abnormal uterine bleeding   \n7                       abnormal uterine bleeding   \n8                       abnormal uterine bleeding   \n9                       abnormal uterine bleeding   \n10                      abnormal uterine bleeding   \n11                      abnormal uterine bleeding   \n12                      abnormal uterine bleeding   \n13                      abnormal uterine bleeding   \n14                      abnormal uterine bleeding   \n15                      abnormal uterine bleeding   \n16                      abnormal uterine bleeding   \n17                      abnormal uterine bleeding   \n18                      abnormal uterine bleeding   \n19                      abnormal uterine bleeding   \n\n                                            all names  \\\n0       abdominal distension prior to abdominal x ray   \n1       abdominal distension prior to abdominal x ray   \n2   abdominal distension|abdominal bloating|bloati...   \n3   abdominal distension|abdominal bloating|bloati...   \n4   abdominal distension|abdominal bloating|bloati...   \n5   abdominal radiological procedure|abdominal rad...   \n6   abnormal uterine bleeding|bleeding dysfunction...   \n7   abnormal uterine bleeding|bleeding dysfunction...   \n8   abnormal uterine bleeding|bleeding dysfunction...   \n9   abnormal uterine bleeding|bleeding dysfunction...   \n10  abnormal uterine bleeding|bleeding dysfunction...   \n11  abnormal uterine bleeding|bleeding dysfunction...   \n12  abnormal uterine bleeding|bleeding dysfunction...   \n13  abnormal uterine bleeding|bleeding dysfunction...   \n14  abnormal uterine bleeding|bleeding dysfunction...   \n15  abnormal uterine bleeding|bleeding dysfunction...   \n16  abnormal uterine bleeding|bleeding dysfunction...   \n17  abnormal uterine bleeding|bleeding dysfunction...   \n18  abnormal uterine bleeding|bleeding dysfunction...   \n19  abnormal uterine bleeding|bleeding dysfunction...   \n\n                              generic name                CUI PheCode  \n0                              vasopressin                             \n1                              vasopressin                             \n2                              bethanechol  C0000731|C1291077          \n3                              bethanechol  C0000731|C1291077          \n4                              bethanechol  C0000731|C1291077          \n5                              vasopressin                             \n6                      medroxyprogesterone           C0025874  626.14  \n7                      medroxyprogesterone           C0025874  626.14  \n8                            norethindrone           C0025874  626.14  \n9                      medroxyprogesterone           C0025874  626.14  \n10                               megestrol           C0025874  626.14  \n11      ethinyl estradiol and norgestimate           C0025874  626.14  \n12  levonorgestrel emergency contraceptive           C0025874  626.14  \n13    ethinyl estradiol and levonorgestrel           C0025874  626.14  \n14                           norethindrone           C0025874  626.14  \n15    ethinyl estradiol and levonorgestrel           C0025874  626.14  \n16                    conjugated estrogens           C0025874  626.14  \n17    ethinyl estradiol and levonorgestrel           C0025874  626.14  \n18                           norethindrone           C0025874  626.14  \n19                           norethindrone           C0025874  626.14  ",
      "text/html": "<div>\n<style scoped>\n    .dataframe tbody tr th:only-of-type {\n        vertical-align: middle;\n    }\n\n    .dataframe tbody tr th {\n        vertical-align: top;\n    }\n\n    .dataframe thead th {\n        text-align: right;\n    }\n</style>\n<table border=\"1\" class=\"dataframe\">\n  <thead>\n    <tr style=\"text-align: right;\">\n      <th></th>\n      <th>disease name</th>\n      <th>all names</th>\n      <th>generic name</th>\n      <th>CUI</th>\n      <th>PheCode</th>\n    </tr>\n  </thead>\n  <tbody>\n    <tr>\n      <th>0</th>\n      <td>abdominal distension prior to abdominal x ray</td>\n      <td>abdominal distension prior to abdominal x ray</td>\n      <td>vasopressin</td>\n      <td></td>\n      <td></td>\n    </tr>\n    <tr>\n      <th>1</th>\n      <td>abdominal distension prior to abdominal x ray</td>\n      <td>abdominal distension prior to abdominal x ray</td>\n      <td>vasopressin</td>\n      <td></td>\n      <td></td>\n    </tr>\n    <tr>\n      <th>2</th>\n      <td>abdominal distension</td>\n      <td>abdominal distension|abdominal bloating|bloati...</td>\n      <td>bethanechol</td>\n      <td>C0000731|C1291077</td>\n      <td></td>\n    </tr>\n    <tr>\n      <th>3</th>\n      <td>abdominal distension</td>\n      <td>abdominal distension|abdominal bloating|bloati...</td>\n      <td>bethanechol</td>\n      <td>C0000731|C1291077</td>\n      <td></td>\n    </tr>\n    <tr>\n      <th>4</th>\n      <td>abdominal distension</td>\n      <td>abdominal distension|abdominal bloating|bloati...</td>\n      <td>bethanechol</td>\n      <td>C0000731|C1291077</td>\n      <td></td>\n    </tr>\n    <tr>\n      <th>5</th>\n      <td>abdominal radiological procedure</td>\n      <td>abdominal radiological procedure|abdominal rad...</td>\n      <td>vasopressin</td>\n      <td></td>\n      <td></td>\n    </tr>\n    <tr>\n      <th>6</th>\n      <td>abnormal uterine bleeding</td>\n      <td>abnormal uterine bleeding|bleeding dysfunction...</td>\n      <td>medroxyprogesterone</td>\n      <td>C0025874</td>\n      <td>626.14</td>\n    </tr>\n    <tr>\n      <th>7</th>\n      <td>abnormal uterine bleeding</td>\n      <td>abnormal uterine bleeding|bleeding dysfunction...</td>\n      <td>medroxyprogesterone</td>\n      <td>C0025874</td>\n      <td>626.14</td>\n    </tr>\n    <tr>\n      <th>8</th>\n      <td>abnormal uterine bleeding</td>\n      <td>abnormal uterine bleeding|bleeding dysfunction...</td>\n      <td>norethindrone</td>\n      <td>C0025874</td>\n      <td>626.14</td>\n    </tr>\n    <tr>\n      <th>9</th>\n      <td>abnormal uterine bleeding</td>\n      <td>abnormal uterine bleeding|bleeding dysfunction...</td>\n      <td>medroxyprogesterone</td>\n      <td>C0025874</td>\n      <td>626.14</td>\n    </tr>\n    <tr>\n      <th>10</th>\n      <td>abnormal uterine bleeding</td>\n      <td>abnormal uterine bleeding|bleeding dysfunction...</td>\n      <td>megestrol</td>\n      <td>C0025874</td>\n      <td>626.14</td>\n    </tr>\n    <tr>\n      <th>11</th>\n      <td>abnormal uterine bleeding</td>\n      <td>abnormal uterine bleeding|bleeding dysfunction...</td>\n      <td>ethinyl estradiol and norgestimate</td>\n      <td>C0025874</td>\n      <td>626.14</td>\n    </tr>\n    <tr>\n      <th>12</th>\n      <td>abnormal uterine bleeding</td>\n      <td>abnormal uterine bleeding|bleeding dysfunction...</td>\n      <td>levonorgestrel emergency contraceptive</td>\n      <td>C0025874</td>\n      <td>626.14</td>\n    </tr>\n    <tr>\n      <th>13</th>\n      <td>abnormal uterine bleeding</td>\n      <td>abnormal uterine bleeding|bleeding dysfunction...</td>\n      <td>ethinyl estradiol and levonorgestrel</td>\n      <td>C0025874</td>\n      <td>626.14</td>\n    </tr>\n    <tr>\n      <th>14</th>\n      <td>abnormal uterine bleeding</td>\n      <td>abnormal uterine bleeding|bleeding dysfunction...</td>\n      <td>norethindrone</td>\n      <td>C0025874</td>\n      <td>626.14</td>\n    </tr>\n    <tr>\n      <th>15</th>\n      <td>abnormal uterine bleeding</td>\n      <td>abnormal uterine bleeding|bleeding dysfunction...</td>\n      <td>ethinyl estradiol and levonorgestrel</td>\n      <td>C0025874</td>\n      <td>626.14</td>\n    </tr>\n    <tr>\n      <th>16</th>\n      <td>abnormal uterine bleeding</td>\n      <td>abnormal uterine bleeding|bleeding dysfunction...</td>\n      <td>conjugated estrogens</td>\n      <td>C0025874</td>\n      <td>626.14</td>\n    </tr>\n    <tr>\n      <th>17</th>\n      <td>abnormal uterine bleeding</td>\n      <td>abnormal uterine bleeding|bleeding dysfunction...</td>\n      <td>ethinyl estradiol and levonorgestrel</td>\n      <td>C0025874</td>\n      <td>626.14</td>\n    </tr>\n    <tr>\n      <th>18</th>\n      <td>abnormal uterine bleeding</td>\n      <td>abnormal uterine bleeding|bleeding dysfunction...</td>\n      <td>norethindrone</td>\n      <td>C0025874</td>\n      <td>626.14</td>\n    </tr>\n    <tr>\n      <th>19</th>\n      <td>abnormal uterine bleeding</td>\n      <td>abnormal uterine bleeding|bleeding dysfunction...</td>\n      <td>norethindrone</td>\n      <td>C0025874</td>\n      <td>626.14</td>\n    </tr>\n  </tbody>\n</table>\n</div>"
     },
     "execution_count": 62,
     "metadata": {},
     "output_type": "execute_result"
    }
   ],
   "source": [
    "# # store the disease-cui-phe  data\n",
    "# disease_cui_phe = pd.DataFrame()\n",
    "# disease_cui_phe[\"disease name\"] = df[\"disease name\"].to_list()\n",
    "# disease_cui_phe[\"all names\"] = all_names\n",
    "# disease_cui_phe[\"all names\"] = disease_cui_phe[\"all names\"].apply(lambda x: \"|\".join(x))\n",
    "#\n",
    "# disease_cui_phe[\"generic name\"] = df[\"generic name\"].to_list()\n",
    "# disease_cui_phe[\"generic name\"] = disease_cui_phe[\"generic name\"].apply(lambda x: \"|\".join(ast.literal_eval(x)))\n",
    "#\n",
    "# disease_cui_phe[\"CUI\"] = cui_codes_list\n",
    "#\n",
    "# disease_cui_phe[\"PheCode\"] = phe_codes\n",
    "# disease_cui_phe[\"PheCode\"] = disease_cui_phe[\"PheCode\"].apply(lambda x: \"|\".join(x))\n",
    "#\n",
    "# disease_cui_phe[:20]\n"
   ]
  },
  {
   "cell_type": "code",
   "execution_count": null,
   "metadata": {},
   "outputs": [],
   "source": []
  }
 ],
 "metadata": {
  "kernelspec": {
   "display_name": "Python 3",
   "language": "python",
   "name": "python3"
  },
  "language_info": {
   "codemirror_mode": {
    "name": "ipython",
    "version": 3
   },
   "file_extension": ".py",
   "mimetype": "text/x-python",
   "name": "python",
   "nbconvert_exporter": "python",
   "pygments_lexer": "ipython3",
   "version": "3.8.3"
  }
 },
 "nbformat": 4,
 "nbformat_minor": 4
}